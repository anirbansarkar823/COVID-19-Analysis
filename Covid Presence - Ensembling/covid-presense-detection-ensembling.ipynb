{
 "cells": [
  {
   "cell_type": "code",
   "execution_count": 1,
   "metadata": {
    "execution": {
     "iopub.execute_input": "2021-09-25T21:14:07.883283Z",
     "iopub.status.busy": "2021-09-25T21:14:07.882573Z",
     "iopub.status.idle": "2021-09-25T21:14:07.887007Z",
     "shell.execute_reply": "2021-09-25T21:14:07.886413Z",
     "shell.execute_reply.started": "2021-09-25T21:11:48.755862Z"
    },
    "papermill": {
     "duration": 0.048809,
     "end_time": "2021-09-25T21:14:07.887127",
     "exception": false,
     "start_time": "2021-09-25T21:14:07.838318",
     "status": "completed"
    },
    "tags": []
   },
   "outputs": [],
   "source": [
    "# !pip install --upgrade pip\n",
    "# was required to install certail packages like plotly and dataprep"
   ]
  },
  {
   "cell_type": "code",
   "execution_count": 2,
   "metadata": {
    "execution": {
     "iopub.execute_input": "2021-09-25T21:14:07.972024Z",
     "iopub.status.busy": "2021-09-25T21:14:07.971119Z",
     "iopub.status.idle": "2021-09-25T21:14:07.974175Z",
     "shell.execute_reply": "2021-09-25T21:14:07.973557Z",
     "shell.execute_reply.started": "2021-09-25T21:11:48.765918Z"
    },
    "papermill": {
     "duration": 0.046884,
     "end_time": "2021-09-25T21:14:07.974284",
     "exception": false,
     "start_time": "2021-09-25T21:14:07.927400",
     "status": "completed"
    },
    "tags": []
   },
   "outputs": [],
   "source": [
    "# pip install plotly"
   ]
  },
  {
   "cell_type": "code",
   "execution_count": 3,
   "metadata": {
    "execution": {
     "iopub.execute_input": "2021-09-25T21:14:08.060905Z",
     "iopub.status.busy": "2021-09-25T21:14:08.060070Z",
     "iopub.status.idle": "2021-09-25T21:14:09.948711Z",
     "shell.execute_reply": "2021-09-25T21:14:09.949248Z",
     "shell.execute_reply.started": "2021-09-25T21:11:48.795274Z"
    },
    "papermill": {
     "duration": 1.934776,
     "end_time": "2021-09-25T21:14:09.949393",
     "exception": false,
     "start_time": "2021-09-25T21:14:08.014617",
     "status": "completed"
    },
    "tags": []
   },
   "outputs": [],
   "source": [
    "import pandas as pd\n",
    "import numpy as np\n",
    "\n",
    "# data visualization library \n",
    "import matplotlib\n",
    "import matplotlib.pyplot as plt\n",
    "import seaborn as sns\n",
    "import plotly.express as px\n",
    "\n",
    "# sns.set(context='notebook', style='darkgrid', palette='colorblind', font='sans-serif', font_scale=1, rc=None)\n",
    "# matplotlib.rcParams['figure.figsize'] =[8,8]\n",
    "# matplotlib.rcParams.update({'font.size': 15})\n",
    "# matplotlib.rcParams['font.family'] = 'sans-serif'\n"
   ]
  },
  {
   "cell_type": "markdown",
   "metadata": {
    "papermill": {
     "duration": 0.039412,
     "end_time": "2021-09-25T21:14:10.029656",
     "exception": false,
     "start_time": "2021-09-25T21:14:09.990244",
     "status": "completed"
    },
    "tags": []
   },
   "source": [
    "### [Dataprep](https://analyticsindiamag.com/exploring-dataprep-a-python-library-for-data-preparation-eda/):\n",
    "* A python library for data preparation and EDA\n",
    "* can collect data from multiple data sources using the **dataprep.connector** module\n",
    "* perform intense exploratory analysis using the **dataprep.eda** module \n",
    "* clean and standardize datasets using the **dataprep.clean** module.\n",
    "\n",
    "**Here, I have used plot(), plot_missing(), plot_correlation() and create_report() methods from dataprep library**"
   ]
  },
  {
   "cell_type": "code",
   "execution_count": 4,
   "metadata": {
    "_kg_hide-output": true,
    "execution": {
     "iopub.execute_input": "2021-09-25T21:14:10.113001Z",
     "iopub.status.busy": "2021-09-25T21:14:10.111945Z",
     "iopub.status.idle": "2021-09-25T21:14:10.115783Z",
     "shell.execute_reply": "2021-09-25T21:14:10.116372Z",
     "shell.execute_reply.started": "2021-09-25T21:11:48.810606Z"
    },
    "papermill": {
     "duration": 0.047261,
     "end_time": "2021-09-25T21:14:10.116541",
     "exception": false,
     "start_time": "2021-09-25T21:14:10.069280",
     "status": "completed"
    },
    "tags": []
   },
   "outputs": [],
   "source": [
    "# !pip install dataprep==0.3.0"
   ]
  },
  {
   "cell_type": "code",
   "execution_count": 5,
   "metadata": {
    "execution": {
     "iopub.execute_input": "2021-09-25T21:14:10.201635Z",
     "iopub.status.busy": "2021-09-25T21:14:10.200634Z",
     "iopub.status.idle": "2021-09-25T21:14:10.204292Z",
     "shell.execute_reply": "2021-09-25T21:14:10.204863Z",
     "shell.execute_reply.started": "2021-09-25T21:11:48.828353Z"
    },
    "papermill": {
     "duration": 0.04694,
     "end_time": "2021-09-25T21:14:10.205005",
     "exception": false,
     "start_time": "2021-09-25T21:14:10.158065",
     "status": "completed"
    },
    "tags": []
   },
   "outputs": [],
   "source": [
    "# # dataprep\n",
    "# from dataprep.eda import plot\n",
    "# from dataprep.eda.missing import plot_missing\n",
    "# from dataprep.eda import plot_correlation\n",
    "# from dataprep.eda import create_report"
   ]
  },
  {
   "cell_type": "code",
   "execution_count": 6,
   "metadata": {
    "execution": {
     "iopub.execute_input": "2021-09-25T21:14:10.288657Z",
     "iopub.status.busy": "2021-09-25T21:14:10.287674Z",
     "iopub.status.idle": "2021-09-25T21:14:10.291198Z",
     "shell.execute_reply": "2021-09-25T21:14:10.291830Z",
     "shell.execute_reply.started": "2021-09-25T21:11:48.848703Z"
    },
    "papermill": {
     "duration": 0.046723,
     "end_time": "2021-09-25T21:14:10.291974",
     "exception": false,
     "start_time": "2021-09-25T21:14:10.245251",
     "status": "completed"
    },
    "tags": []
   },
   "outputs": [],
   "source": [
    "# import dataprep\n",
    "# # dataprep.__version__"
   ]
  },
  {
   "cell_type": "markdown",
   "metadata": {
    "papermill": {
     "duration": 0.039596,
     "end_time": "2021-09-25T21:14:10.370969",
     "exception": false,
     "start_time": "2021-09-25T21:14:10.331373",
     "status": "completed"
    },
    "tags": []
   },
   "source": [
    "### Data analysis"
   ]
  },
  {
   "cell_type": "code",
   "execution_count": 7,
   "metadata": {
    "execution": {
     "iopub.execute_input": "2021-09-25T21:14:10.454130Z",
     "iopub.status.busy": "2021-09-25T21:14:10.453107Z",
     "iopub.status.idle": "2021-09-25T21:14:10.538121Z",
     "shell.execute_reply": "2021-09-25T21:14:10.538651Z",
     "shell.execute_reply.started": "2021-09-25T21:11:48.878448Z"
    },
    "papermill": {
     "duration": 0.128231,
     "end_time": "2021-09-25T21:14:10.538801",
     "exception": false,
     "start_time": "2021-09-25T21:14:10.410570",
     "status": "completed"
    },
    "tags": []
   },
   "outputs": [
    {
     "data": {
      "text/html": [
       "<div>\n",
       "<style scoped>\n",
       "    .dataframe tbody tr th:only-of-type {\n",
       "        vertical-align: middle;\n",
       "    }\n",
       "\n",
       "    .dataframe tbody tr th {\n",
       "        vertical-align: top;\n",
       "    }\n",
       "\n",
       "    .dataframe thead th {\n",
       "        text-align: right;\n",
       "    }\n",
       "</style>\n",
       "<table border=\"1\" class=\"dataframe\">\n",
       "  <thead>\n",
       "    <tr style=\"text-align: right;\">\n",
       "      <th></th>\n",
       "      <th>Breathing Problem</th>\n",
       "      <th>Fever</th>\n",
       "      <th>Dry Cough</th>\n",
       "      <th>Sore throat</th>\n",
       "      <th>Running Nose</th>\n",
       "      <th>Asthma</th>\n",
       "      <th>Chronic Lung Disease</th>\n",
       "      <th>Headache</th>\n",
       "      <th>Heart Disease</th>\n",
       "      <th>Diabetes</th>\n",
       "      <th>...</th>\n",
       "      <th>Fatigue</th>\n",
       "      <th>Gastrointestinal</th>\n",
       "      <th>Abroad travel</th>\n",
       "      <th>Contact with COVID Patient</th>\n",
       "      <th>Attended Large Gathering</th>\n",
       "      <th>Visited Public Exposed Places</th>\n",
       "      <th>Family working in Public Exposed Places</th>\n",
       "      <th>Wearing Masks</th>\n",
       "      <th>Sanitization from Market</th>\n",
       "      <th>COVID-19</th>\n",
       "    </tr>\n",
       "  </thead>\n",
       "  <tbody>\n",
       "    <tr>\n",
       "      <th>0</th>\n",
       "      <td>Yes</td>\n",
       "      <td>Yes</td>\n",
       "      <td>Yes</td>\n",
       "      <td>Yes</td>\n",
       "      <td>Yes</td>\n",
       "      <td>No</td>\n",
       "      <td>No</td>\n",
       "      <td>No</td>\n",
       "      <td>No</td>\n",
       "      <td>Yes</td>\n",
       "      <td>...</td>\n",
       "      <td>Yes</td>\n",
       "      <td>Yes</td>\n",
       "      <td>No</td>\n",
       "      <td>Yes</td>\n",
       "      <td>No</td>\n",
       "      <td>Yes</td>\n",
       "      <td>Yes</td>\n",
       "      <td>No</td>\n",
       "      <td>No</td>\n",
       "      <td>Yes</td>\n",
       "    </tr>\n",
       "    <tr>\n",
       "      <th>1</th>\n",
       "      <td>Yes</td>\n",
       "      <td>Yes</td>\n",
       "      <td>Yes</td>\n",
       "      <td>Yes</td>\n",
       "      <td>No</td>\n",
       "      <td>Yes</td>\n",
       "      <td>Yes</td>\n",
       "      <td>Yes</td>\n",
       "      <td>No</td>\n",
       "      <td>No</td>\n",
       "      <td>...</td>\n",
       "      <td>Yes</td>\n",
       "      <td>No</td>\n",
       "      <td>No</td>\n",
       "      <td>No</td>\n",
       "      <td>Yes</td>\n",
       "      <td>Yes</td>\n",
       "      <td>No</td>\n",
       "      <td>No</td>\n",
       "      <td>No</td>\n",
       "      <td>Yes</td>\n",
       "    </tr>\n",
       "    <tr>\n",
       "      <th>2</th>\n",
       "      <td>Yes</td>\n",
       "      <td>Yes</td>\n",
       "      <td>Yes</td>\n",
       "      <td>Yes</td>\n",
       "      <td>Yes</td>\n",
       "      <td>Yes</td>\n",
       "      <td>Yes</td>\n",
       "      <td>Yes</td>\n",
       "      <td>No</td>\n",
       "      <td>Yes</td>\n",
       "      <td>...</td>\n",
       "      <td>Yes</td>\n",
       "      <td>Yes</td>\n",
       "      <td>Yes</td>\n",
       "      <td>No</td>\n",
       "      <td>No</td>\n",
       "      <td>No</td>\n",
       "      <td>No</td>\n",
       "      <td>No</td>\n",
       "      <td>No</td>\n",
       "      <td>Yes</td>\n",
       "    </tr>\n",
       "    <tr>\n",
       "      <th>3</th>\n",
       "      <td>Yes</td>\n",
       "      <td>Yes</td>\n",
       "      <td>Yes</td>\n",
       "      <td>No</td>\n",
       "      <td>No</td>\n",
       "      <td>Yes</td>\n",
       "      <td>No</td>\n",
       "      <td>No</td>\n",
       "      <td>Yes</td>\n",
       "      <td>Yes</td>\n",
       "      <td>...</td>\n",
       "      <td>No</td>\n",
       "      <td>No</td>\n",
       "      <td>Yes</td>\n",
       "      <td>No</td>\n",
       "      <td>Yes</td>\n",
       "      <td>Yes</td>\n",
       "      <td>No</td>\n",
       "      <td>No</td>\n",
       "      <td>No</td>\n",
       "      <td>Yes</td>\n",
       "    </tr>\n",
       "    <tr>\n",
       "      <th>4</th>\n",
       "      <td>Yes</td>\n",
       "      <td>Yes</td>\n",
       "      <td>Yes</td>\n",
       "      <td>Yes</td>\n",
       "      <td>Yes</td>\n",
       "      <td>No</td>\n",
       "      <td>Yes</td>\n",
       "      <td>Yes</td>\n",
       "      <td>Yes</td>\n",
       "      <td>Yes</td>\n",
       "      <td>...</td>\n",
       "      <td>No</td>\n",
       "      <td>Yes</td>\n",
       "      <td>No</td>\n",
       "      <td>Yes</td>\n",
       "      <td>No</td>\n",
       "      <td>Yes</td>\n",
       "      <td>No</td>\n",
       "      <td>No</td>\n",
       "      <td>No</td>\n",
       "      <td>Yes</td>\n",
       "    </tr>\n",
       "    <tr>\n",
       "      <th>...</th>\n",
       "      <td>...</td>\n",
       "      <td>...</td>\n",
       "      <td>...</td>\n",
       "      <td>...</td>\n",
       "      <td>...</td>\n",
       "      <td>...</td>\n",
       "      <td>...</td>\n",
       "      <td>...</td>\n",
       "      <td>...</td>\n",
       "      <td>...</td>\n",
       "      <td>...</td>\n",
       "      <td>...</td>\n",
       "      <td>...</td>\n",
       "      <td>...</td>\n",
       "      <td>...</td>\n",
       "      <td>...</td>\n",
       "      <td>...</td>\n",
       "      <td>...</td>\n",
       "      <td>...</td>\n",
       "      <td>...</td>\n",
       "      <td>...</td>\n",
       "    </tr>\n",
       "    <tr>\n",
       "      <th>5429</th>\n",
       "      <td>Yes</td>\n",
       "      <td>Yes</td>\n",
       "      <td>No</td>\n",
       "      <td>Yes</td>\n",
       "      <td>Yes</td>\n",
       "      <td>Yes</td>\n",
       "      <td>Yes</td>\n",
       "      <td>No</td>\n",
       "      <td>No</td>\n",
       "      <td>No</td>\n",
       "      <td>...</td>\n",
       "      <td>Yes</td>\n",
       "      <td>Yes</td>\n",
       "      <td>No</td>\n",
       "      <td>No</td>\n",
       "      <td>No</td>\n",
       "      <td>No</td>\n",
       "      <td>No</td>\n",
       "      <td>No</td>\n",
       "      <td>No</td>\n",
       "      <td>Yes</td>\n",
       "    </tr>\n",
       "    <tr>\n",
       "      <th>5430</th>\n",
       "      <td>Yes</td>\n",
       "      <td>Yes</td>\n",
       "      <td>Yes</td>\n",
       "      <td>No</td>\n",
       "      <td>Yes</td>\n",
       "      <td>Yes</td>\n",
       "      <td>No</td>\n",
       "      <td>Yes</td>\n",
       "      <td>No</td>\n",
       "      <td>Yes</td>\n",
       "      <td>...</td>\n",
       "      <td>Yes</td>\n",
       "      <td>No</td>\n",
       "      <td>No</td>\n",
       "      <td>No</td>\n",
       "      <td>No</td>\n",
       "      <td>No</td>\n",
       "      <td>No</td>\n",
       "      <td>No</td>\n",
       "      <td>No</td>\n",
       "      <td>Yes</td>\n",
       "    </tr>\n",
       "    <tr>\n",
       "      <th>5431</th>\n",
       "      <td>Yes</td>\n",
       "      <td>Yes</td>\n",
       "      <td>Yes</td>\n",
       "      <td>No</td>\n",
       "      <td>No</td>\n",
       "      <td>No</td>\n",
       "      <td>No</td>\n",
       "      <td>No</td>\n",
       "      <td>Yes</td>\n",
       "      <td>No</td>\n",
       "      <td>...</td>\n",
       "      <td>No</td>\n",
       "      <td>No</td>\n",
       "      <td>No</td>\n",
       "      <td>No</td>\n",
       "      <td>No</td>\n",
       "      <td>No</td>\n",
       "      <td>No</td>\n",
       "      <td>No</td>\n",
       "      <td>No</td>\n",
       "      <td>No</td>\n",
       "    </tr>\n",
       "    <tr>\n",
       "      <th>5432</th>\n",
       "      <td>Yes</td>\n",
       "      <td>Yes</td>\n",
       "      <td>Yes</td>\n",
       "      <td>No</td>\n",
       "      <td>Yes</td>\n",
       "      <td>No</td>\n",
       "      <td>No</td>\n",
       "      <td>Yes</td>\n",
       "      <td>Yes</td>\n",
       "      <td>No</td>\n",
       "      <td>...</td>\n",
       "      <td>No</td>\n",
       "      <td>No</td>\n",
       "      <td>No</td>\n",
       "      <td>No</td>\n",
       "      <td>No</td>\n",
       "      <td>No</td>\n",
       "      <td>No</td>\n",
       "      <td>No</td>\n",
       "      <td>No</td>\n",
       "      <td>No</td>\n",
       "    </tr>\n",
       "    <tr>\n",
       "      <th>5433</th>\n",
       "      <td>Yes</td>\n",
       "      <td>Yes</td>\n",
       "      <td>Yes</td>\n",
       "      <td>No</td>\n",
       "      <td>Yes</td>\n",
       "      <td>Yes</td>\n",
       "      <td>No</td>\n",
       "      <td>Yes</td>\n",
       "      <td>No</td>\n",
       "      <td>Yes</td>\n",
       "      <td>...</td>\n",
       "      <td>Yes</td>\n",
       "      <td>No</td>\n",
       "      <td>No</td>\n",
       "      <td>No</td>\n",
       "      <td>No</td>\n",
       "      <td>No</td>\n",
       "      <td>No</td>\n",
       "      <td>No</td>\n",
       "      <td>No</td>\n",
       "      <td>No</td>\n",
       "    </tr>\n",
       "  </tbody>\n",
       "</table>\n",
       "<p>5434 rows × 21 columns</p>\n",
       "</div>"
      ],
      "text/plain": [
       "     Breathing Problem Fever Dry Cough Sore throat Running Nose Asthma  \\\n",
       "0                  Yes   Yes       Yes         Yes          Yes     No   \n",
       "1                  Yes   Yes       Yes         Yes           No    Yes   \n",
       "2                  Yes   Yes       Yes         Yes          Yes    Yes   \n",
       "3                  Yes   Yes       Yes          No           No    Yes   \n",
       "4                  Yes   Yes       Yes         Yes          Yes     No   \n",
       "...                ...   ...       ...         ...          ...    ...   \n",
       "5429               Yes   Yes        No         Yes          Yes    Yes   \n",
       "5430               Yes   Yes       Yes          No          Yes    Yes   \n",
       "5431               Yes   Yes       Yes          No           No     No   \n",
       "5432               Yes   Yes       Yes          No          Yes     No   \n",
       "5433               Yes   Yes       Yes          No          Yes    Yes   \n",
       "\n",
       "     Chronic Lung Disease Headache Heart Disease Diabetes  ... Fatigue   \\\n",
       "0                      No       No            No      Yes  ...      Yes   \n",
       "1                     Yes      Yes            No       No  ...      Yes   \n",
       "2                     Yes      Yes            No      Yes  ...      Yes   \n",
       "3                      No       No           Yes      Yes  ...       No   \n",
       "4                     Yes      Yes           Yes      Yes  ...       No   \n",
       "...                   ...      ...           ...      ...  ...      ...   \n",
       "5429                  Yes       No            No       No  ...      Yes   \n",
       "5430                   No      Yes            No      Yes  ...      Yes   \n",
       "5431                   No       No           Yes       No  ...       No   \n",
       "5432                   No      Yes           Yes       No  ...       No   \n",
       "5433                   No      Yes            No      Yes  ...      Yes   \n",
       "\n",
       "     Gastrointestinal  Abroad travel Contact with COVID Patient  \\\n",
       "0                  Yes            No                        Yes   \n",
       "1                   No            No                         No   \n",
       "2                  Yes           Yes                         No   \n",
       "3                   No           Yes                         No   \n",
       "4                  Yes            No                        Yes   \n",
       "...                ...           ...                        ...   \n",
       "5429               Yes            No                         No   \n",
       "5430                No            No                         No   \n",
       "5431                No            No                         No   \n",
       "5432                No            No                         No   \n",
       "5433                No            No                         No   \n",
       "\n",
       "     Attended Large Gathering Visited Public Exposed Places  \\\n",
       "0                          No                           Yes   \n",
       "1                         Yes                           Yes   \n",
       "2                          No                            No   \n",
       "3                         Yes                           Yes   \n",
       "4                          No                           Yes   \n",
       "...                       ...                           ...   \n",
       "5429                       No                            No   \n",
       "5430                       No                            No   \n",
       "5431                       No                            No   \n",
       "5432                       No                            No   \n",
       "5433                       No                            No   \n",
       "\n",
       "     Family working in Public Exposed Places Wearing Masks  \\\n",
       "0                                        Yes            No   \n",
       "1                                         No            No   \n",
       "2                                         No            No   \n",
       "3                                         No            No   \n",
       "4                                         No            No   \n",
       "...                                      ...           ...   \n",
       "5429                                      No            No   \n",
       "5430                                      No            No   \n",
       "5431                                      No            No   \n",
       "5432                                      No            No   \n",
       "5433                                      No            No   \n",
       "\n",
       "     Sanitization from Market COVID-19  \n",
       "0                          No      Yes  \n",
       "1                          No      Yes  \n",
       "2                          No      Yes  \n",
       "3                          No      Yes  \n",
       "4                          No      Yes  \n",
       "...                       ...      ...  \n",
       "5429                       No      Yes  \n",
       "5430                       No      Yes  \n",
       "5431                       No       No  \n",
       "5432                       No       No  \n",
       "5433                       No       No  \n",
       "\n",
       "[5434 rows x 21 columns]"
      ]
     },
     "execution_count": 7,
     "metadata": {},
     "output_type": "execute_result"
    }
   ],
   "source": [
    "covid = pd.read_csv('../input/symptoms-and-covid-presence/Covid Dataset.csv')\n",
    "covid"
   ]
  },
  {
   "cell_type": "code",
   "execution_count": 8,
   "metadata": {
    "execution": {
     "iopub.execute_input": "2021-09-25T21:14:10.624124Z",
     "iopub.status.busy": "2021-09-25T21:14:10.623131Z",
     "iopub.status.idle": "2021-09-25T21:14:10.651141Z",
     "shell.execute_reply": "2021-09-25T21:14:10.651680Z",
     "shell.execute_reply.started": "2021-09-25T21:11:48.961536Z"
    },
    "papermill": {
     "duration": 0.072172,
     "end_time": "2021-09-25T21:14:10.651841",
     "exception": false,
     "start_time": "2021-09-25T21:14:10.579669",
     "status": "completed"
    },
    "tags": []
   },
   "outputs": [
    {
     "name": "stdout",
     "output_type": "stream",
     "text": [
      "<class 'pandas.core.frame.DataFrame'>\n",
      "RangeIndex: 5434 entries, 0 to 5433\n",
      "Data columns (total 21 columns):\n",
      " #   Column                                   Non-Null Count  Dtype \n",
      "---  ------                                   --------------  ----- \n",
      " 0   Breathing Problem                        5434 non-null   object\n",
      " 1   Fever                                    5434 non-null   object\n",
      " 2   Dry Cough                                5434 non-null   object\n",
      " 3   Sore throat                              5434 non-null   object\n",
      " 4   Running Nose                             5434 non-null   object\n",
      " 5   Asthma                                   5434 non-null   object\n",
      " 6   Chronic Lung Disease                     5434 non-null   object\n",
      " 7   Headache                                 5434 non-null   object\n",
      " 8   Heart Disease                            5434 non-null   object\n",
      " 9   Diabetes                                 5434 non-null   object\n",
      " 10  Hyper Tension                            5434 non-null   object\n",
      " 11  Fatigue                                  5434 non-null   object\n",
      " 12  Gastrointestinal                         5434 non-null   object\n",
      " 13  Abroad travel                            5434 non-null   object\n",
      " 14  Contact with COVID Patient               5434 non-null   object\n",
      " 15  Attended Large Gathering                 5434 non-null   object\n",
      " 16  Visited Public Exposed Places            5434 non-null   object\n",
      " 17  Family working in Public Exposed Places  5434 non-null   object\n",
      " 18  Wearing Masks                            5434 non-null   object\n",
      " 19  Sanitization from Market                 5434 non-null   object\n",
      " 20  COVID-19                                 5434 non-null   object\n",
      "dtypes: object(21)\n",
      "memory usage: 891.6+ KB\n"
     ]
    }
   ],
   "source": [
    "covid.info()"
   ]
  },
  {
   "cell_type": "code",
   "execution_count": 9,
   "metadata": {
    "execution": {
     "iopub.execute_input": "2021-09-25T21:14:10.737499Z",
     "iopub.status.busy": "2021-09-25T21:14:10.736846Z",
     "iopub.status.idle": "2021-09-25T21:14:10.855596Z",
     "shell.execute_reply": "2021-09-25T21:14:10.854947Z",
     "shell.execute_reply.started": "2021-09-25T21:11:48.989215Z"
    },
    "papermill": {
     "duration": 0.162703,
     "end_time": "2021-09-25T21:14:10.855722",
     "exception": false,
     "start_time": "2021-09-25T21:14:10.693019",
     "status": "completed"
    },
    "tags": []
   },
   "outputs": [
    {
     "data": {
      "text/html": [
       "<div>\n",
       "<style scoped>\n",
       "    .dataframe tbody tr th:only-of-type {\n",
       "        vertical-align: middle;\n",
       "    }\n",
       "\n",
       "    .dataframe tbody tr th {\n",
       "        vertical-align: top;\n",
       "    }\n",
       "\n",
       "    .dataframe thead th {\n",
       "        text-align: right;\n",
       "    }\n",
       "</style>\n",
       "<table border=\"1\" class=\"dataframe\">\n",
       "  <thead>\n",
       "    <tr style=\"text-align: right;\">\n",
       "      <th></th>\n",
       "      <th>Breathing Problem</th>\n",
       "      <th>Fever</th>\n",
       "      <th>Dry Cough</th>\n",
       "      <th>Sore throat</th>\n",
       "      <th>Running Nose</th>\n",
       "      <th>Asthma</th>\n",
       "      <th>Chronic Lung Disease</th>\n",
       "      <th>Headache</th>\n",
       "      <th>Heart Disease</th>\n",
       "      <th>Diabetes</th>\n",
       "      <th>...</th>\n",
       "      <th>Fatigue</th>\n",
       "      <th>Gastrointestinal</th>\n",
       "      <th>Abroad travel</th>\n",
       "      <th>Contact with COVID Patient</th>\n",
       "      <th>Attended Large Gathering</th>\n",
       "      <th>Visited Public Exposed Places</th>\n",
       "      <th>Family working in Public Exposed Places</th>\n",
       "      <th>Wearing Masks</th>\n",
       "      <th>Sanitization from Market</th>\n",
       "      <th>COVID-19</th>\n",
       "    </tr>\n",
       "  </thead>\n",
       "  <tbody>\n",
       "    <tr>\n",
       "      <th>count</th>\n",
       "      <td>5434</td>\n",
       "      <td>5434</td>\n",
       "      <td>5434</td>\n",
       "      <td>5434</td>\n",
       "      <td>5434</td>\n",
       "      <td>5434</td>\n",
       "      <td>5434</td>\n",
       "      <td>5434</td>\n",
       "      <td>5434</td>\n",
       "      <td>5434</td>\n",
       "      <td>...</td>\n",
       "      <td>5434</td>\n",
       "      <td>5434</td>\n",
       "      <td>5434</td>\n",
       "      <td>5434</td>\n",
       "      <td>5434</td>\n",
       "      <td>5434</td>\n",
       "      <td>5434</td>\n",
       "      <td>5434</td>\n",
       "      <td>5434</td>\n",
       "      <td>5434</td>\n",
       "    </tr>\n",
       "    <tr>\n",
       "      <th>unique</th>\n",
       "      <td>2</td>\n",
       "      <td>2</td>\n",
       "      <td>2</td>\n",
       "      <td>2</td>\n",
       "      <td>2</td>\n",
       "      <td>2</td>\n",
       "      <td>2</td>\n",
       "      <td>2</td>\n",
       "      <td>2</td>\n",
       "      <td>2</td>\n",
       "      <td>...</td>\n",
       "      <td>2</td>\n",
       "      <td>2</td>\n",
       "      <td>2</td>\n",
       "      <td>2</td>\n",
       "      <td>2</td>\n",
       "      <td>2</td>\n",
       "      <td>2</td>\n",
       "      <td>1</td>\n",
       "      <td>1</td>\n",
       "      <td>2</td>\n",
       "    </tr>\n",
       "    <tr>\n",
       "      <th>top</th>\n",
       "      <td>Yes</td>\n",
       "      <td>Yes</td>\n",
       "      <td>Yes</td>\n",
       "      <td>Yes</td>\n",
       "      <td>Yes</td>\n",
       "      <td>No</td>\n",
       "      <td>No</td>\n",
       "      <td>Yes</td>\n",
       "      <td>No</td>\n",
       "      <td>No</td>\n",
       "      <td>...</td>\n",
       "      <td>Yes</td>\n",
       "      <td>No</td>\n",
       "      <td>No</td>\n",
       "      <td>Yes</td>\n",
       "      <td>No</td>\n",
       "      <td>Yes</td>\n",
       "      <td>No</td>\n",
       "      <td>No</td>\n",
       "      <td>No</td>\n",
       "      <td>Yes</td>\n",
       "    </tr>\n",
       "    <tr>\n",
       "      <th>freq</th>\n",
       "      <td>3620</td>\n",
       "      <td>4273</td>\n",
       "      <td>4307</td>\n",
       "      <td>3953</td>\n",
       "      <td>2952</td>\n",
       "      <td>2920</td>\n",
       "      <td>2869</td>\n",
       "      <td>2736</td>\n",
       "      <td>2911</td>\n",
       "      <td>2846</td>\n",
       "      <td>...</td>\n",
       "      <td>2821</td>\n",
       "      <td>2883</td>\n",
       "      <td>2983</td>\n",
       "      <td>2726</td>\n",
       "      <td>2924</td>\n",
       "      <td>2820</td>\n",
       "      <td>3172</td>\n",
       "      <td>5434</td>\n",
       "      <td>5434</td>\n",
       "      <td>4383</td>\n",
       "    </tr>\n",
       "  </tbody>\n",
       "</table>\n",
       "<p>4 rows × 21 columns</p>\n",
       "</div>"
      ],
      "text/plain": [
       "       Breathing Problem Fever Dry Cough Sore throat Running Nose Asthma  \\\n",
       "count               5434  5434      5434        5434         5434   5434   \n",
       "unique                 2     2         2           2            2      2   \n",
       "top                  Yes   Yes       Yes         Yes          Yes     No   \n",
       "freq                3620  4273      4307        3953         2952   2920   \n",
       "\n",
       "       Chronic Lung Disease Headache Heart Disease Diabetes  ... Fatigue   \\\n",
       "count                  5434     5434          5434     5434  ...     5434   \n",
       "unique                    2        2             2        2  ...        2   \n",
       "top                      No      Yes            No       No  ...      Yes   \n",
       "freq                   2869     2736          2911     2846  ...     2821   \n",
       "\n",
       "       Gastrointestinal  Abroad travel Contact with COVID Patient  \\\n",
       "count               5434          5434                       5434   \n",
       "unique                 2             2                          2   \n",
       "top                   No            No                        Yes   \n",
       "freq                2883          2983                       2726   \n",
       "\n",
       "       Attended Large Gathering Visited Public Exposed Places  \\\n",
       "count                      5434                          5434   \n",
       "unique                        2                             2   \n",
       "top                          No                           Yes   \n",
       "freq                       2924                          2820   \n",
       "\n",
       "       Family working in Public Exposed Places Wearing Masks  \\\n",
       "count                                     5434          5434   \n",
       "unique                                       2             1   \n",
       "top                                         No            No   \n",
       "freq                                      3172          5434   \n",
       "\n",
       "       Sanitization from Market COVID-19  \n",
       "count                      5434     5434  \n",
       "unique                        1        2  \n",
       "top                          No      Yes  \n",
       "freq                       5434     4383  \n",
       "\n",
       "[4 rows x 21 columns]"
      ]
     },
     "execution_count": 9,
     "metadata": {},
     "output_type": "execute_result"
    }
   ],
   "source": [
    "covid.describe(include='all')"
   ]
  },
  {
   "cell_type": "code",
   "execution_count": 10,
   "metadata": {
    "execution": {
     "iopub.execute_input": "2021-09-25T21:14:10.945499Z",
     "iopub.status.busy": "2021-09-25T21:14:10.944572Z",
     "iopub.status.idle": "2021-09-25T21:14:10.948198Z",
     "shell.execute_reply": "2021-09-25T21:14:10.948708Z",
     "shell.execute_reply.started": "2021-09-25T21:11:49.096183Z"
    },
    "papermill": {
     "duration": 0.051296,
     "end_time": "2021-09-25T21:14:10.948848",
     "exception": false,
     "start_time": "2021-09-25T21:14:10.897552",
     "status": "completed"
    },
    "tags": []
   },
   "outputs": [
    {
     "data": {
      "text/plain": [
       "Index(['Breathing Problem', 'Fever', 'Dry Cough', 'Sore throat',\n",
       "       'Running Nose', 'Asthma', 'Chronic Lung Disease', 'Headache',\n",
       "       'Heart Disease', 'Diabetes', 'Hyper Tension', 'Fatigue ',\n",
       "       'Gastrointestinal ', 'Abroad travel', 'Contact with COVID Patient',\n",
       "       'Attended Large Gathering', 'Visited Public Exposed Places',\n",
       "       'Family working in Public Exposed Places', 'Wearing Masks',\n",
       "       'Sanitization from Market', 'COVID-19'],\n",
       "      dtype='object')"
      ]
     },
     "execution_count": 10,
     "metadata": {},
     "output_type": "execute_result"
    }
   ],
   "source": [
    "covid.columns"
   ]
  },
  {
   "cell_type": "code",
   "execution_count": 11,
   "metadata": {
    "execution": {
     "iopub.execute_input": "2021-09-25T21:14:11.037375Z",
     "iopub.status.busy": "2021-09-25T21:14:11.036404Z",
     "iopub.status.idle": "2021-09-25T21:14:11.039726Z",
     "shell.execute_reply": "2021-09-25T21:14:11.040230Z",
     "shell.execute_reply.started": "2021-09-25T21:11:49.109353Z"
    },
    "papermill": {
     "duration": 0.048931,
     "end_time": "2021-09-25T21:14:11.040379",
     "exception": false,
     "start_time": "2021-09-25T21:14:10.991448",
     "status": "completed"
    },
    "tags": []
   },
   "outputs": [],
   "source": [
    "#creating a full report : from dataprep\n",
    "# create_report(covid, title='Whole Covid Report')"
   ]
  },
  {
   "cell_type": "markdown",
   "metadata": {
    "papermill": {
     "duration": 0.041628,
     "end_time": "2021-09-25T21:14:11.124049",
     "exception": false,
     "start_time": "2021-09-25T21:14:11.082421",
     "status": "completed"
    },
    "tags": []
   },
   "source": [
    "### Checking missing value"
   ]
  },
  {
   "cell_type": "code",
   "execution_count": 12,
   "metadata": {
    "execution": {
     "iopub.execute_input": "2021-09-25T21:14:11.213323Z",
     "iopub.status.busy": "2021-09-25T21:14:11.212325Z",
     "iopub.status.idle": "2021-09-25T21:14:11.215937Z",
     "shell.execute_reply": "2021-09-25T21:14:11.216453Z",
     "shell.execute_reply.started": "2021-09-25T21:11:49.124266Z"
    },
    "papermill": {
     "duration": 0.04936,
     "end_time": "2021-09-25T21:14:11.216613",
     "exception": false,
     "start_time": "2021-09-25T21:14:11.167253",
     "status": "completed"
    },
    "tags": []
   },
   "outputs": [],
   "source": [
    "# plot_missing(covid) # method from dataprep"
   ]
  },
  {
   "cell_type": "code",
   "execution_count": 13,
   "metadata": {
    "execution": {
     "iopub.execute_input": "2021-09-25T21:14:11.304889Z",
     "iopub.status.busy": "2021-09-25T21:14:11.303880Z",
     "iopub.status.idle": "2021-09-25T21:14:11.344594Z",
     "shell.execute_reply": "2021-09-25T21:14:11.345065Z",
     "shell.execute_reply.started": "2021-09-25T21:11:49.152674Z"
    },
    "papermill": {
     "duration": 0.086354,
     "end_time": "2021-09-25T21:14:11.345214",
     "exception": false,
     "start_time": "2021-09-25T21:14:11.258860",
     "status": "completed"
    },
    "tags": []
   },
   "outputs": [
    {
     "data": {
      "text/html": [
       "<div>\n",
       "<style scoped>\n",
       "    .dataframe tbody tr th:only-of-type {\n",
       "        vertical-align: middle;\n",
       "    }\n",
       "\n",
       "    .dataframe tbody tr th {\n",
       "        vertical-align: top;\n",
       "    }\n",
       "\n",
       "    .dataframe thead th {\n",
       "        text-align: right;\n",
       "    }\n",
       "</style>\n",
       "<table border=\"1\" class=\"dataframe\">\n",
       "  <thead>\n",
       "    <tr style=\"text-align: right;\">\n",
       "      <th></th>\n",
       "      <th>missing_values</th>\n",
       "      <th>percent_missing %</th>\n",
       "    </tr>\n",
       "  </thead>\n",
       "  <tbody>\n",
       "    <tr>\n",
       "      <th>Breathing Problem</th>\n",
       "      <td>0</td>\n",
       "      <td>0.0</td>\n",
       "    </tr>\n",
       "    <tr>\n",
       "      <th>Fever</th>\n",
       "      <td>0</td>\n",
       "      <td>0.0</td>\n",
       "    </tr>\n",
       "    <tr>\n",
       "      <th>Dry Cough</th>\n",
       "      <td>0</td>\n",
       "      <td>0.0</td>\n",
       "    </tr>\n",
       "    <tr>\n",
       "      <th>Sore throat</th>\n",
       "      <td>0</td>\n",
       "      <td>0.0</td>\n",
       "    </tr>\n",
       "    <tr>\n",
       "      <th>Running Nose</th>\n",
       "      <td>0</td>\n",
       "      <td>0.0</td>\n",
       "    </tr>\n",
       "    <tr>\n",
       "      <th>Asthma</th>\n",
       "      <td>0</td>\n",
       "      <td>0.0</td>\n",
       "    </tr>\n",
       "    <tr>\n",
       "      <th>Chronic Lung Disease</th>\n",
       "      <td>0</td>\n",
       "      <td>0.0</td>\n",
       "    </tr>\n",
       "    <tr>\n",
       "      <th>Headache</th>\n",
       "      <td>0</td>\n",
       "      <td>0.0</td>\n",
       "    </tr>\n",
       "    <tr>\n",
       "      <th>Heart Disease</th>\n",
       "      <td>0</td>\n",
       "      <td>0.0</td>\n",
       "    </tr>\n",
       "    <tr>\n",
       "      <th>Diabetes</th>\n",
       "      <td>0</td>\n",
       "      <td>0.0</td>\n",
       "    </tr>\n",
       "    <tr>\n",
       "      <th>Hyper Tension</th>\n",
       "      <td>0</td>\n",
       "      <td>0.0</td>\n",
       "    </tr>\n",
       "    <tr>\n",
       "      <th>Fatigue</th>\n",
       "      <td>0</td>\n",
       "      <td>0.0</td>\n",
       "    </tr>\n",
       "    <tr>\n",
       "      <th>Gastrointestinal</th>\n",
       "      <td>0</td>\n",
       "      <td>0.0</td>\n",
       "    </tr>\n",
       "    <tr>\n",
       "      <th>Abroad travel</th>\n",
       "      <td>0</td>\n",
       "      <td>0.0</td>\n",
       "    </tr>\n",
       "    <tr>\n",
       "      <th>Contact with COVID Patient</th>\n",
       "      <td>0</td>\n",
       "      <td>0.0</td>\n",
       "    </tr>\n",
       "    <tr>\n",
       "      <th>Attended Large Gathering</th>\n",
       "      <td>0</td>\n",
       "      <td>0.0</td>\n",
       "    </tr>\n",
       "    <tr>\n",
       "      <th>Visited Public Exposed Places</th>\n",
       "      <td>0</td>\n",
       "      <td>0.0</td>\n",
       "    </tr>\n",
       "    <tr>\n",
       "      <th>Family working in Public Exposed Places</th>\n",
       "      <td>0</td>\n",
       "      <td>0.0</td>\n",
       "    </tr>\n",
       "    <tr>\n",
       "      <th>Wearing Masks</th>\n",
       "      <td>0</td>\n",
       "      <td>0.0</td>\n",
       "    </tr>\n",
       "    <tr>\n",
       "      <th>Sanitization from Market</th>\n",
       "      <td>0</td>\n",
       "      <td>0.0</td>\n",
       "    </tr>\n",
       "    <tr>\n",
       "      <th>COVID-19</th>\n",
       "      <td>0</td>\n",
       "      <td>0.0</td>\n",
       "    </tr>\n",
       "  </tbody>\n",
       "</table>\n",
       "</div>"
      ],
      "text/plain": [
       "                                         missing_values   percent_missing %\n",
       "Breathing Problem                                      0                0.0\n",
       "Fever                                                  0                0.0\n",
       "Dry Cough                                              0                0.0\n",
       "Sore throat                                            0                0.0\n",
       "Running Nose                                           0                0.0\n",
       "Asthma                                                 0                0.0\n",
       "Chronic Lung Disease                                   0                0.0\n",
       "Headache                                               0                0.0\n",
       "Heart Disease                                          0                0.0\n",
       "Diabetes                                               0                0.0\n",
       "Hyper Tension                                          0                0.0\n",
       "Fatigue                                                0                0.0\n",
       "Gastrointestinal                                       0                0.0\n",
       "Abroad travel                                          0                0.0\n",
       "Contact with COVID Patient                             0                0.0\n",
       "Attended Large Gathering                               0                0.0\n",
       "Visited Public Exposed Places                          0                0.0\n",
       "Family working in Public Exposed Places                0                0.0\n",
       "Wearing Masks                                          0                0.0\n",
       "Sanitization from Market                               0                0.0\n",
       "COVID-19                                               0                0.0"
      ]
     },
     "execution_count": 13,
     "metadata": {},
     "output_type": "execute_result"
    }
   ],
   "source": [
    "# creatting a table with missing data\n",
    "missing_values = covid.isnull().sum() # missing values\n",
    "percent_missing = covid.isnull().sum()/covid.shape[0]*100 # missing value %\n",
    "\n",
    "value = {\n",
    "    'missing_values ':missing_values,\n",
    "    'percent_missing %':percent_missing  \n",
    "}\n",
    "missing_frame=pd.DataFrame(value)\n",
    "missing_frame\n"
   ]
  },
  {
   "cell_type": "markdown",
   "metadata": {
    "papermill": {
     "duration": 0.042279,
     "end_time": "2021-09-25T21:14:11.430184",
     "exception": false,
     "start_time": "2021-09-25T21:14:11.387905",
     "status": "completed"
    },
    "tags": []
   },
   "source": [
    "##### Observation: No missing values"
   ]
  },
  {
   "cell_type": "markdown",
   "metadata": {
    "papermill": {
     "duration": 0.042224,
     "end_time": "2021-09-25T21:14:11.515039",
     "exception": false,
     "start_time": "2021-09-25T21:14:11.472815",
     "status": "completed"
    },
    "tags": []
   },
   "source": [
    "### Data vizualisation"
   ]
  },
  {
   "cell_type": "code",
   "execution_count": 14,
   "metadata": {
    "execution": {
     "iopub.execute_input": "2021-09-25T21:14:11.603819Z",
     "iopub.status.busy": "2021-09-25T21:14:11.602855Z",
     "iopub.status.idle": "2021-09-25T21:14:11.606156Z",
     "shell.execute_reply": "2021-09-25T21:14:11.606660Z",
     "shell.execute_reply.started": "2021-09-25T21:11:49.213079Z"
    },
    "papermill": {
     "duration": 0.049325,
     "end_time": "2021-09-25T21:14:11.606801",
     "exception": false,
     "start_time": "2021-09-25T21:14:11.557476",
     "status": "completed"
    },
    "tags": []
   },
   "outputs": [],
   "source": [
    "# plot(covid) # method from dataprep"
   ]
  },
  {
   "cell_type": "markdown",
   "metadata": {
    "papermill": {
     "duration": 0.042103,
     "end_time": "2021-09-25T21:14:11.692113",
     "exception": false,
     "start_time": "2021-09-25T21:14:11.650010",
     "status": "completed"
    },
    "tags": []
   },
   "source": [
    "1. Target Variable: COVID-19"
   ]
  },
  {
   "cell_type": "code",
   "execution_count": 15,
   "metadata": {
    "execution": {
     "iopub.execute_input": "2021-09-25T21:14:11.781015Z",
     "iopub.status.busy": "2021-09-25T21:14:11.780089Z",
     "iopub.status.idle": "2021-09-25T21:14:11.783249Z",
     "shell.execute_reply": "2021-09-25T21:14:11.783781Z",
     "shell.execute_reply.started": "2021-09-25T21:11:49.221948Z"
    },
    "papermill": {
     "duration": 0.049179,
     "end_time": "2021-09-25T21:14:11.783920",
     "exception": false,
     "start_time": "2021-09-25T21:14:11.734741",
     "status": "completed"
    },
    "tags": []
   },
   "outputs": [],
   "source": [
    "# method from data prep\n",
    "# plot(covid,'COVID-19' )"
   ]
  },
  {
   "cell_type": "code",
   "execution_count": 16,
   "metadata": {
    "execution": {
     "iopub.execute_input": "2021-09-25T21:14:11.891593Z",
     "iopub.status.busy": "2021-09-25T21:14:11.890768Z",
     "iopub.status.idle": "2021-09-25T21:14:11.895142Z",
     "shell.execute_reply": "2021-09-25T21:14:11.895910Z",
     "shell.execute_reply.started": "2021-09-25T21:11:49.242303Z"
    },
    "papermill": {
     "duration": 0.069573,
     "end_time": "2021-09-25T21:14:11.896141",
     "exception": false,
     "start_time": "2021-09-25T21:14:11.826568",
     "status": "completed"
    },
    "tags": []
   },
   "outputs": [
    {
     "data": {
      "text/plain": [
       "Yes    4383\n",
       "No     1051\n",
       "Name: COVID-19, dtype: int64"
      ]
     },
     "execution_count": 16,
     "metadata": {},
     "output_type": "execute_result"
    }
   ],
   "source": [
    "covid['COVID-19'].value_counts()\n",
    "# Imbalanced dataset"
   ]
  },
  {
   "cell_type": "code",
   "execution_count": 17,
   "metadata": {
    "execution": {
     "iopub.execute_input": "2021-09-25T21:14:11.992769Z",
     "iopub.status.busy": "2021-09-25T21:14:11.992085Z",
     "iopub.status.idle": "2021-09-25T21:14:12.112201Z",
     "shell.execute_reply": "2021-09-25T21:14:12.111461Z",
     "shell.execute_reply.started": "2021-09-25T21:11:49.270565Z"
    },
    "papermill": {
     "duration": 0.170885,
     "end_time": "2021-09-25T21:14:12.112329",
     "exception": false,
     "start_time": "2021-09-25T21:14:11.941444",
     "status": "completed"
    },
    "tags": []
   },
   "outputs": [
    {
     "data": {
      "text/plain": [
       "Text(0.5, 1.0, 'COVID Positive?')"
      ]
     },
     "execution_count": 17,
     "metadata": {},
     "output_type": "execute_result"
    },
    {
     "data": {
      "image/png": "[encoded data removed]",
      "text/plain": [
       "<Figure size 432x288 with 1 Axes>"
      ]
     },
     "metadata": {},
     "output_type": "display_data"
    }
   ],
   "source": [
    "covid[\"COVID-19\"].value_counts().plot.pie(explode=[0.1,0.5],autopct='%1.2f%%',shadow=True)\n",
    "plt.title('COVID Positive?')"
   ]
  },
  {
   "cell_type": "code",
   "execution_count": 18,
   "metadata": {
    "execution": {
     "iopub.execute_input": "2021-09-25T21:14:12.214706Z",
     "iopub.status.busy": "2021-09-25T21:14:12.213696Z",
     "iopub.status.idle": "2021-09-25T21:14:12.327529Z",
     "shell.execute_reply": "2021-09-25T21:14:12.328172Z",
     "shell.execute_reply.started": "2021-09-25T21:11:49.382855Z"
    },
    "papermill": {
     "duration": 0.170928,
     "end_time": "2021-09-25T21:14:12.328315",
     "exception": false,
     "start_time": "2021-09-25T21:14:12.157387",
     "status": "completed"
    },
    "tags": []
   },
   "outputs": [
    {
     "data": {
      "text/plain": [
       "<matplotlib.axes._subplots.AxesSubplot at 0x7fd53cc41950>"
      ]
     },
     "execution_count": 18,
     "metadata": {},
     "output_type": "execute_result"
    },
    {
     "data": {
      "image/png": "[encoded data removed]",
      "text/plain": [
       "<Figure size 432x288 with 1 Axes>"
      ]
     },
     "metadata": {
      "needs_background": "light"
     },
     "output_type": "display_data"
    }
   ],
   "source": [
    "# Distribution of target variable\n",
    "sns.countplot(x='COVID-19',data=covid)"
   ]
  },
  {
   "cell_type": "markdown",
   "metadata": {
    "papermill": {
     "duration": 0.045359,
     "end_time": "2021-09-25T21:14:12.421293",
     "exception": false,
     "start_time": "2021-09-25T21:14:12.375934",
     "status": "completed"
    },
    "tags": []
   },
   "source": [
    "##### Observations: Our target variable is clearly imbalanced, i.e., we are dealing with imbalanced dataset"
   ]
  },
  {
   "cell_type": "code",
   "execution_count": 19,
   "metadata": {
    "execution": {
     "iopub.execute_input": "2021-09-25T21:14:12.519847Z",
     "iopub.status.busy": "2021-09-25T21:14:12.518857Z",
     "iopub.status.idle": "2021-09-25T21:14:12.525880Z",
     "shell.execute_reply": "2021-09-25T21:14:12.526555Z",
     "shell.execute_reply.started": "2021-09-25T21:11:49.487659Z"
    },
    "papermill": {
     "duration": 0.060107,
     "end_time": "2021-09-25T21:14:12.526711",
     "exception": false,
     "start_time": "2021-09-25T21:14:12.466604",
     "status": "completed"
    },
    "tags": []
   },
   "outputs": [
    {
     "name": "stdout",
     "output_type": "stream",
     "text": [
      "['Breathing Problem', 'Fever', 'Dry Cough', 'Sore throat', 'Running Nose', 'Asthma', 'Chronic Lung Disease', 'Headache', 'Heart Disease', 'Diabetes', 'Hyper Tension', 'Fatigue ', 'Gastrointestinal ', 'Abroad travel', 'Contact with COVID Patient', 'Attended Large Gathering', 'Visited Public Exposed Places', 'Family working in Public Exposed Places', 'Wearing Masks', 'Sanitization from Market']\n"
     ]
    }
   ],
   "source": [
    "features = covid.columns.tolist()\n",
    "features.remove('COVID-19')\n",
    "print(features)"
   ]
  },
  {
   "cell_type": "code",
   "execution_count": 20,
   "metadata": {
    "execution": {
     "iopub.execute_input": "2021-09-25T21:14:12.625607Z",
     "iopub.status.busy": "2021-09-25T21:14:12.624620Z",
     "iopub.status.idle": "2021-09-25T21:14:15.415599Z",
     "shell.execute_reply": "2021-09-25T21:14:15.414814Z",
     "shell.execute_reply.started": "2021-09-25T21:11:49.495459Z"
    },
    "papermill": {
     "duration": 2.839629,
     "end_time": "2021-09-25T21:14:15.415726",
     "exception": false,
     "start_time": "2021-09-25T21:14:12.576097",
     "status": "completed"
    },
    "tags": []
   },
   "outputs": [
    {
     "data": {
      "image/png": "[encoded data removed]",
      "text/plain": [
       "<Figure size 432x288 with 1 Axes>"
      ]
     },
     "metadata": {
      "needs_background": "light"
     },
     "output_type": "display_data"
    },
    {
     "data": {
      "image/png": "[encoded data removed]",
      "text/plain": [
       "<Figure size 432x288 with 1 Axes>"
      ]
     },
     "metadata": {
      "needs_background": "light"
     },
     "output_type": "display_data"
    },
    {
     "data": {
      "image/png": "[encoded data removed]",
      "text/plain": [
       "<Figure size 432x288 with 1 Axes>"
      ]
     },
     "metadata": {
      "needs_background": "light"
     },
     "output_type": "display_data"
    },
    {
     "data": {
      "image/png": "[encoded data removed]",
      "text/plain": [
       "<Figure size 432x288 with 1 Axes>"
      ]
     },
     "metadata": {
      "needs_background": "light"
     },
     "output_type": "display_data"
    },
    {
     "data": {
      "image/png": "[encoded data removed]",
      "text/plain": [
       "<Figure size 432x288 with 1 Axes>"
      ]
     },
     "metadata": {
      "needs_background": "light"
     },
     "output_type": "display_data"
    },
    {
     "data": {
      "image/png": "[encoded data removed]",
      "text/plain": [
       "<Figure size 432x288 with 1 Axes>"
      ]
     },
     "metadata": {
      "needs_background": "light"
     },
     "output_type": "display_data"
    },
    {
     "data": {
      "image/png": "[encoded data removed]",
      "text/plain": [
       "<Figure size 432x288 with 1 Axes>"
      ]
     },
     "metadata": {
      "needs_background": "light"
     },
     "output_type": "display_data"
    },
    {
     "data": {
      "image/png": "[encoded data removed]",
      "text/plain": [
       "<Figure size 432x288 with 1 Axes>"
      ]
     },
     "metadata": {
      "needs_background": "light"
     },
     "output_type": "display_data"
    },
    {
     "data": {
      "image/png": "[encoded data removed]",
      "text/plain": [
       "<Figure size 432x288 with 1 Axes>"
      ]
     },
     "metadata": {
      "needs_background": "light"
     },
     "output_type": "display_data"
    },
    {
     "data": {
      "image/png": "[encoded data removed]",
      "text/plain": [
       "<Figure size 432x288 with 1 Axes>"
      ]
     },
     "metadata": {
      "needs_background": "light"
     },
     "output_type": "display_data"
    },
    {
     "data": {
      "image/png": "[encoded data removed]",
      "text/plain": [
       "<Figure size 432x288 with 1 Axes>"
      ]
     },
     "metadata": {
      "needs_background": "light"
     },
     "output_type": "display_data"
    },
    {
     "data": {
      "image/png": "[encoded data removed]",
      "text/plain": [
       "<Figure size 432x288 with 1 Axes>"
      ]
     },
     "metadata": {
      "needs_background": "light"
     },
     "output_type": "display_data"
    },
    {
     "data": {
      "image/png": "[encoded data removed]",
      "text/plain": [
       "<Figure size 432x288 with 1 Axes>"
      ]
     },
     "metadata": {
      "needs_background": "light"
     },
     "output_type": "display_data"
    },
    {
     "data": {
      "image/png": "[encoded data removed]",
      "text/plain": [
       "<Figure size 432x288 with 1 Axes>"
      ]
     },
     "metadata": {
      "needs_background": "light"
     },
     "output_type": "display_data"
    },
    {
     "data": {
      "image/png": "[encoded data removed]",
      "text/plain": [
       "<Figure size 432x288 with 1 Axes>"
      ]
     },
     "metadata": {
      "needs_background": "light"
     },
     "output_type": "display_data"
    },
    {
     "data": {
      "image/png": "[encoded data removed]",
      "text/plain": [
       "<Figure size 432x288 with 1 Axes>"
      ]
     },
     "metadata": {
      "needs_background": "light"
     },
     "output_type": "display_data"
    },
    {
     "data": {
      "image/png": "[encoded data removed]",
      "text/plain": [
       "<Figure size 432x288 with 1 Axes>"
      ]
     },
     "metadata": {
      "needs_background": "light"
     },
     "output_type": "display_data"
    },
    {
     "data": {
      "image/png": "[encoded data removed]",
      "text/plain": [
       "<Figure size 432x288 with 1 Axes>"
      ]
     },
     "metadata": {
      "needs_background": "light"
     },
     "output_type": "display_data"
    },
    {
     "data": {
      "image/png": "[encoded data removed]",
      "text/plain": [
       "<Figure size 432x288 with 1 Axes>"
      ]
     },
     "metadata": {
      "needs_background": "light"
     },
     "output_type": "display_data"
    },
    {
     "data": {
      "image/png": "[encoded data removed]",
      "text/plain": [
       "<Figure size 432x288 with 1 Axes>"
      ]
     },
     "metadata": {
      "needs_background": "light"
     },
     "output_type": "display_data"
    }
   ],
   "source": [
    "for feature in features:\n",
    "    plt.figure()\n",
    "    sns.countplot(x= feature,hue='COVID-19',data=covid)"
   ]
  },
  {
   "cell_type": "markdown",
   "metadata": {
    "papermill": {
     "duration": 0.059208,
     "end_time": "2021-09-25T21:14:15.535394",
     "exception": false,
     "start_time": "2021-09-25T21:14:15.476186",
     "status": "completed"
    },
    "tags": []
   },
   "source": [
    "##### Observations:\n",
    "\n",
    "1. **Breathing problem**: Presence of Breathing problem ('Yes') does seem to have an impact among covid positive patience\n",
    "2. **Fever**: Presence of Fever ('yes') is also very common among covid positive patients\n",
    "3.**Dry Cough**: Covid positive people are mostly suffering with Dry Cough\n",
    "4. **Sore throat**: Covid postive people are also suffering from Sore throat\n",
    "5. **Hypertension**: Presence or absense of Hypertension doesn't seem to have any distinct impact\n",
    "6. **Abroad travel**: Although postive patients are there who haven't had any abroad travel, but if a person is having abroad travel, there is almost full chance that the person will have covid-19\n",
    "7. **Contact with COVID Patients**: people with contact with covid patients are having more chances of being covid positive\n",
    "8. **Attended Large Gathering**: People who have attended large gatherings, are more probable of getting covid\n",
    "9. visited **public explosed places** and family working in public exposed places, although have high positive rate, but doesn't seem to have any greater impact then those who are not exposed to such public places\n",
    "10. **Wearing mask** and **Sanitization from market** has only one category i.e., *No*."
   ]
  },
  {
   "cell_type": "markdown",
   "metadata": {
    "papermill": {
     "duration": 0.059372,
     "end_time": "2021-09-25T21:14:15.654856",
     "exception": false,
     "start_time": "2021-09-25T21:14:15.595484",
     "status": "completed"
    },
    "tags": []
   },
   "source": [
    "### Feature transformation"
   ]
  },
  {
   "cell_type": "code",
   "execution_count": 21,
   "metadata": {
    "execution": {
     "iopub.execute_input": "2021-09-25T21:14:15.780071Z",
     "iopub.status.busy": "2021-09-25T21:14:15.779064Z",
     "iopub.status.idle": "2021-09-25T21:14:15.783344Z",
     "shell.execute_reply": "2021-09-25T21:14:15.783858Z",
     "shell.execute_reply.started": "2021-09-25T21:11:52.480844Z"
    },
    "papermill": {
     "duration": 0.069714,
     "end_time": "2021-09-25T21:14:15.784018",
     "exception": false,
     "start_time": "2021-09-25T21:14:15.714304",
     "status": "completed"
    },
    "tags": []
   },
   "outputs": [
    {
     "data": {
      "text/plain": [
       "(5434, 21)"
      ]
     },
     "execution_count": 21,
     "metadata": {},
     "output_type": "execute_result"
    }
   ],
   "source": [
    "covid.shape"
   ]
  },
  {
   "cell_type": "code",
   "execution_count": 22,
   "metadata": {
    "execution": {
     "iopub.execute_input": "2021-09-25T21:14:15.930836Z",
     "iopub.status.busy": "2021-09-25T21:14:15.929828Z",
     "iopub.status.idle": "2021-09-25T21:14:15.934702Z",
     "shell.execute_reply": "2021-09-25T21:14:15.934152Z",
     "shell.execute_reply.started": "2021-09-25T21:11:52.494184Z"
    },
    "papermill": {
     "duration": 0.090499,
     "end_time": "2021-09-25T21:14:15.934822",
     "exception": false,
     "start_time": "2021-09-25T21:14:15.844323",
     "status": "completed"
    },
    "tags": []
   },
   "outputs": [
    {
     "data": {
      "text/html": [
       "<div>\n",
       "<style scoped>\n",
       "    .dataframe tbody tr th:only-of-type {\n",
       "        vertical-align: middle;\n",
       "    }\n",
       "\n",
       "    .dataframe tbody tr th {\n",
       "        vertical-align: top;\n",
       "    }\n",
       "\n",
       "    .dataframe thead th {\n",
       "        text-align: right;\n",
       "    }\n",
       "</style>\n",
       "<table border=\"1\" class=\"dataframe\">\n",
       "  <thead>\n",
       "    <tr style=\"text-align: right;\">\n",
       "      <th></th>\n",
       "      <th>Breathing Problem</th>\n",
       "      <th>Fever</th>\n",
       "      <th>Dry Cough</th>\n",
       "      <th>Sore throat</th>\n",
       "      <th>Running Nose</th>\n",
       "      <th>Asthma</th>\n",
       "      <th>Chronic Lung Disease</th>\n",
       "      <th>Headache</th>\n",
       "      <th>Heart Disease</th>\n",
       "      <th>Diabetes</th>\n",
       "      <th>...</th>\n",
       "      <th>Fatigue</th>\n",
       "      <th>Gastrointestinal</th>\n",
       "      <th>Abroad travel</th>\n",
       "      <th>Contact with COVID Patient</th>\n",
       "      <th>Attended Large Gathering</th>\n",
       "      <th>Visited Public Exposed Places</th>\n",
       "      <th>Family working in Public Exposed Places</th>\n",
       "      <th>Wearing Masks</th>\n",
       "      <th>Sanitization from Market</th>\n",
       "      <th>COVID-19</th>\n",
       "    </tr>\n",
       "  </thead>\n",
       "  <tbody>\n",
       "    <tr>\n",
       "      <th>0</th>\n",
       "      <td>Yes</td>\n",
       "      <td>Yes</td>\n",
       "      <td>Yes</td>\n",
       "      <td>Yes</td>\n",
       "      <td>Yes</td>\n",
       "      <td>No</td>\n",
       "      <td>No</td>\n",
       "      <td>No</td>\n",
       "      <td>No</td>\n",
       "      <td>Yes</td>\n",
       "      <td>...</td>\n",
       "      <td>Yes</td>\n",
       "      <td>Yes</td>\n",
       "      <td>No</td>\n",
       "      <td>Yes</td>\n",
       "      <td>No</td>\n",
       "      <td>Yes</td>\n",
       "      <td>Yes</td>\n",
       "      <td>No</td>\n",
       "      <td>No</td>\n",
       "      <td>Yes</td>\n",
       "    </tr>\n",
       "    <tr>\n",
       "      <th>1</th>\n",
       "      <td>Yes</td>\n",
       "      <td>Yes</td>\n",
       "      <td>Yes</td>\n",
       "      <td>Yes</td>\n",
       "      <td>No</td>\n",
       "      <td>Yes</td>\n",
       "      <td>Yes</td>\n",
       "      <td>Yes</td>\n",
       "      <td>No</td>\n",
       "      <td>No</td>\n",
       "      <td>...</td>\n",
       "      <td>Yes</td>\n",
       "      <td>No</td>\n",
       "      <td>No</td>\n",
       "      <td>No</td>\n",
       "      <td>Yes</td>\n",
       "      <td>Yes</td>\n",
       "      <td>No</td>\n",
       "      <td>No</td>\n",
       "      <td>No</td>\n",
       "      <td>Yes</td>\n",
       "    </tr>\n",
       "    <tr>\n",
       "      <th>2</th>\n",
       "      <td>Yes</td>\n",
       "      <td>Yes</td>\n",
       "      <td>Yes</td>\n",
       "      <td>Yes</td>\n",
       "      <td>Yes</td>\n",
       "      <td>Yes</td>\n",
       "      <td>Yes</td>\n",
       "      <td>Yes</td>\n",
       "      <td>No</td>\n",
       "      <td>Yes</td>\n",
       "      <td>...</td>\n",
       "      <td>Yes</td>\n",
       "      <td>Yes</td>\n",
       "      <td>Yes</td>\n",
       "      <td>No</td>\n",
       "      <td>No</td>\n",
       "      <td>No</td>\n",
       "      <td>No</td>\n",
       "      <td>No</td>\n",
       "      <td>No</td>\n",
       "      <td>Yes</td>\n",
       "    </tr>\n",
       "    <tr>\n",
       "      <th>3</th>\n",
       "      <td>Yes</td>\n",
       "      <td>Yes</td>\n",
       "      <td>Yes</td>\n",
       "      <td>No</td>\n",
       "      <td>No</td>\n",
       "      <td>Yes</td>\n",
       "      <td>No</td>\n",
       "      <td>No</td>\n",
       "      <td>Yes</td>\n",
       "      <td>Yes</td>\n",
       "      <td>...</td>\n",
       "      <td>No</td>\n",
       "      <td>No</td>\n",
       "      <td>Yes</td>\n",
       "      <td>No</td>\n",
       "      <td>Yes</td>\n",
       "      <td>Yes</td>\n",
       "      <td>No</td>\n",
       "      <td>No</td>\n",
       "      <td>No</td>\n",
       "      <td>Yes</td>\n",
       "    </tr>\n",
       "    <tr>\n",
       "      <th>4</th>\n",
       "      <td>Yes</td>\n",
       "      <td>Yes</td>\n",
       "      <td>Yes</td>\n",
       "      <td>Yes</td>\n",
       "      <td>Yes</td>\n",
       "      <td>No</td>\n",
       "      <td>Yes</td>\n",
       "      <td>Yes</td>\n",
       "      <td>Yes</td>\n",
       "      <td>Yes</td>\n",
       "      <td>...</td>\n",
       "      <td>No</td>\n",
       "      <td>Yes</td>\n",
       "      <td>No</td>\n",
       "      <td>Yes</td>\n",
       "      <td>No</td>\n",
       "      <td>Yes</td>\n",
       "      <td>No</td>\n",
       "      <td>No</td>\n",
       "      <td>No</td>\n",
       "      <td>Yes</td>\n",
       "    </tr>\n",
       "  </tbody>\n",
       "</table>\n",
       "<p>5 rows × 21 columns</p>\n",
       "</div>"
      ],
      "text/plain": [
       "  Breathing Problem Fever Dry Cough Sore throat Running Nose Asthma  \\\n",
       "0               Yes   Yes       Yes         Yes          Yes     No   \n",
       "1               Yes   Yes       Yes         Yes           No    Yes   \n",
       "2               Yes   Yes       Yes         Yes          Yes    Yes   \n",
       "3               Yes   Yes       Yes          No           No    Yes   \n",
       "4               Yes   Yes       Yes         Yes          Yes     No   \n",
       "\n",
       "  Chronic Lung Disease Headache Heart Disease Diabetes  ... Fatigue   \\\n",
       "0                   No       No            No      Yes  ...      Yes   \n",
       "1                  Yes      Yes            No       No  ...      Yes   \n",
       "2                  Yes      Yes            No      Yes  ...      Yes   \n",
       "3                   No       No           Yes      Yes  ...       No   \n",
       "4                  Yes      Yes           Yes      Yes  ...       No   \n",
       "\n",
       "  Gastrointestinal  Abroad travel Contact with COVID Patient  \\\n",
       "0               Yes            No                        Yes   \n",
       "1                No            No                         No   \n",
       "2               Yes           Yes                         No   \n",
       "3                No           Yes                         No   \n",
       "4               Yes            No                        Yes   \n",
       "\n",
       "  Attended Large Gathering Visited Public Exposed Places  \\\n",
       "0                       No                           Yes   \n",
       "1                      Yes                           Yes   \n",
       "2                       No                            No   \n",
       "3                      Yes                           Yes   \n",
       "4                       No                           Yes   \n",
       "\n",
       "  Family working in Public Exposed Places Wearing Masks  \\\n",
       "0                                     Yes            No   \n",
       "1                                      No            No   \n",
       "2                                      No            No   \n",
       "3                                      No            No   \n",
       "4                                      No            No   \n",
       "\n",
       "  Sanitization from Market COVID-19  \n",
       "0                       No      Yes  \n",
       "1                       No      Yes  \n",
       "2                       No      Yes  \n",
       "3                       No      Yes  \n",
       "4                       No      Yes  \n",
       "\n",
       "[5 rows x 21 columns]"
      ]
     },
     "execution_count": 22,
     "metadata": {},
     "output_type": "execute_result"
    }
   ],
   "source": [
    "covid.head()"
   ]
  },
  {
   "cell_type": "code",
   "execution_count": 23,
   "metadata": {
    "execution": {
     "iopub.execute_input": "2021-09-25T21:14:16.066370Z",
     "iopub.status.busy": "2021-09-25T21:14:16.062989Z",
     "iopub.status.idle": "2021-09-25T21:14:16.110786Z",
     "shell.execute_reply": "2021-09-25T21:14:16.110204Z",
     "shell.execute_reply.started": "2021-09-25T21:11:52.537038Z"
    },
    "papermill": {
     "duration": 0.115494,
     "end_time": "2021-09-25T21:14:16.110909",
     "exception": false,
     "start_time": "2021-09-25T21:14:15.995415",
     "status": "completed"
    },
    "tags": []
   },
   "outputs": [
    {
     "data": {
      "text/html": [
       "<div>\n",
       "<style scoped>\n",
       "    .dataframe tbody tr th:only-of-type {\n",
       "        vertical-align: middle;\n",
       "    }\n",
       "\n",
       "    .dataframe tbody tr th {\n",
       "        vertical-align: top;\n",
       "    }\n",
       "\n",
       "    .dataframe thead th {\n",
       "        text-align: right;\n",
       "    }\n",
       "</style>\n",
       "<table border=\"1\" class=\"dataframe\">\n",
       "  <thead>\n",
       "    <tr style=\"text-align: right;\">\n",
       "      <th></th>\n",
       "      <th>Breathing Problem_Yes</th>\n",
       "      <th>Fever_Yes</th>\n",
       "      <th>Dry Cough_Yes</th>\n",
       "      <th>Sore throat_Yes</th>\n",
       "      <th>Running Nose_Yes</th>\n",
       "      <th>Asthma_Yes</th>\n",
       "      <th>Chronic Lung Disease_Yes</th>\n",
       "      <th>Headache_Yes</th>\n",
       "      <th>Heart Disease_Yes</th>\n",
       "      <th>Diabetes_Yes</th>\n",
       "      <th>Hyper Tension_Yes</th>\n",
       "      <th>Fatigue _Yes</th>\n",
       "      <th>Gastrointestinal _Yes</th>\n",
       "      <th>Abroad travel_Yes</th>\n",
       "      <th>Contact with COVID Patient_Yes</th>\n",
       "      <th>Attended Large Gathering_Yes</th>\n",
       "      <th>Visited Public Exposed Places_Yes</th>\n",
       "      <th>Family working in Public Exposed Places_Yes</th>\n",
       "      <th>COVID-19_Yes</th>\n",
       "    </tr>\n",
       "  </thead>\n",
       "  <tbody>\n",
       "    <tr>\n",
       "      <th>0</th>\n",
       "      <td>1</td>\n",
       "      <td>1</td>\n",
       "      <td>1</td>\n",
       "      <td>1</td>\n",
       "      <td>1</td>\n",
       "      <td>0</td>\n",
       "      <td>0</td>\n",
       "      <td>0</td>\n",
       "      <td>0</td>\n",
       "      <td>1</td>\n",
       "      <td>1</td>\n",
       "      <td>1</td>\n",
       "      <td>1</td>\n",
       "      <td>0</td>\n",
       "      <td>1</td>\n",
       "      <td>0</td>\n",
       "      <td>1</td>\n",
       "      <td>1</td>\n",
       "      <td>1</td>\n",
       "    </tr>\n",
       "    <tr>\n",
       "      <th>1</th>\n",
       "      <td>1</td>\n",
       "      <td>1</td>\n",
       "      <td>1</td>\n",
       "      <td>1</td>\n",
       "      <td>0</td>\n",
       "      <td>1</td>\n",
       "      <td>1</td>\n",
       "      <td>1</td>\n",
       "      <td>0</td>\n",
       "      <td>0</td>\n",
       "      <td>0</td>\n",
       "      <td>1</td>\n",
       "      <td>0</td>\n",
       "      <td>0</td>\n",
       "      <td>0</td>\n",
       "      <td>1</td>\n",
       "      <td>1</td>\n",
       "      <td>0</td>\n",
       "      <td>1</td>\n",
       "    </tr>\n",
       "    <tr>\n",
       "      <th>2</th>\n",
       "      <td>1</td>\n",
       "      <td>1</td>\n",
       "      <td>1</td>\n",
       "      <td>1</td>\n",
       "      <td>1</td>\n",
       "      <td>1</td>\n",
       "      <td>1</td>\n",
       "      <td>1</td>\n",
       "      <td>0</td>\n",
       "      <td>1</td>\n",
       "      <td>0</td>\n",
       "      <td>1</td>\n",
       "      <td>1</td>\n",
       "      <td>1</td>\n",
       "      <td>0</td>\n",
       "      <td>0</td>\n",
       "      <td>0</td>\n",
       "      <td>0</td>\n",
       "      <td>1</td>\n",
       "    </tr>\n",
       "    <tr>\n",
       "      <th>3</th>\n",
       "      <td>1</td>\n",
       "      <td>1</td>\n",
       "      <td>1</td>\n",
       "      <td>0</td>\n",
       "      <td>0</td>\n",
       "      <td>1</td>\n",
       "      <td>0</td>\n",
       "      <td>0</td>\n",
       "      <td>1</td>\n",
       "      <td>1</td>\n",
       "      <td>0</td>\n",
       "      <td>0</td>\n",
       "      <td>0</td>\n",
       "      <td>1</td>\n",
       "      <td>0</td>\n",
       "      <td>1</td>\n",
       "      <td>1</td>\n",
       "      <td>0</td>\n",
       "      <td>1</td>\n",
       "    </tr>\n",
       "    <tr>\n",
       "      <th>4</th>\n",
       "      <td>1</td>\n",
       "      <td>1</td>\n",
       "      <td>1</td>\n",
       "      <td>1</td>\n",
       "      <td>1</td>\n",
       "      <td>0</td>\n",
       "      <td>1</td>\n",
       "      <td>1</td>\n",
       "      <td>1</td>\n",
       "      <td>1</td>\n",
       "      <td>1</td>\n",
       "      <td>0</td>\n",
       "      <td>1</td>\n",
       "      <td>0</td>\n",
       "      <td>1</td>\n",
       "      <td>0</td>\n",
       "      <td>1</td>\n",
       "      <td>0</td>\n",
       "      <td>1</td>\n",
       "    </tr>\n",
       "  </tbody>\n",
       "</table>\n",
       "</div>"
      ],
      "text/plain": [
       "   Breathing Problem_Yes  Fever_Yes  Dry Cough_Yes  Sore throat_Yes  \\\n",
       "0                      1          1              1                1   \n",
       "1                      1          1              1                1   \n",
       "2                      1          1              1                1   \n",
       "3                      1          1              1                0   \n",
       "4                      1          1              1                1   \n",
       "\n",
       "   Running Nose_Yes  Asthma_Yes  Chronic Lung Disease_Yes  Headache_Yes  \\\n",
       "0                 1           0                         0             0   \n",
       "1                 0           1                         1             1   \n",
       "2                 1           1                         1             1   \n",
       "3                 0           1                         0             0   \n",
       "4                 1           0                         1             1   \n",
       "\n",
       "   Heart Disease_Yes  Diabetes_Yes  Hyper Tension_Yes  Fatigue _Yes  \\\n",
       "0                  0             1                  1             1   \n",
       "1                  0             0                  0             1   \n",
       "2                  0             1                  0             1   \n",
       "3                  1             1                  0             0   \n",
       "4                  1             1                  1             0   \n",
       "\n",
       "   Gastrointestinal _Yes  Abroad travel_Yes  Contact with COVID Patient_Yes  \\\n",
       "0                      1                  0                               1   \n",
       "1                      0                  0                               0   \n",
       "2                      1                  1                               0   \n",
       "3                      0                  1                               0   \n",
       "4                      1                  0                               1   \n",
       "\n",
       "   Attended Large Gathering_Yes  Visited Public Exposed Places_Yes  \\\n",
       "0                             0                                  1   \n",
       "1                             1                                  1   \n",
       "2                             0                                  0   \n",
       "3                             1                                  1   \n",
       "4                             0                                  1   \n",
       "\n",
       "   Family working in Public Exposed Places_Yes  COVID-19_Yes  \n",
       "0                                            1             1  \n",
       "1                                            0             1  \n",
       "2                                            0             1  \n",
       "3                                            0             1  \n",
       "4                                            0             1  "
      ]
     },
     "execution_count": 23,
     "metadata": {},
     "output_type": "execute_result"
    }
   ],
   "source": [
    "## One-hot encoding on features\n",
    "# covid_OH = covid.drop('COVID-19', axis=1)\n",
    "covid_OH = pd.get_dummies(covid, drop_first=True) # to avoid dummy trap\n",
    "covid_OH.head()"
   ]
  },
  {
   "cell_type": "markdown",
   "metadata": {
    "papermill": {
     "duration": 0.061567,
     "end_time": "2021-09-25T21:14:16.235007",
     "exception": false,
     "start_time": "2021-09-25T21:14:16.173440",
     "status": "completed"
    },
    "tags": []
   },
   "source": [
    "#### Observation:  Wearing Masks and Sanitization from Market got dropped as they were only having one category, which is not helpful in classification"
   ]
  },
  {
   "cell_type": "code",
   "execution_count": 24,
   "metadata": {
    "execution": {
     "iopub.execute_input": "2021-09-25T21:14:16.363936Z",
     "iopub.status.busy": "2021-09-25T21:14:16.363238Z",
     "iopub.status.idle": "2021-09-25T21:14:16.367332Z",
     "shell.execute_reply": "2021-09-25T21:14:16.367872Z",
     "shell.execute_reply.started": "2021-09-25T21:11:52.590344Z"
    },
    "papermill": {
     "duration": 0.070724,
     "end_time": "2021-09-25T21:14:16.368037",
     "exception": false,
     "start_time": "2021-09-25T21:14:16.297313",
     "status": "completed"
    },
    "tags": []
   },
   "outputs": [
    {
     "name": "stdout",
     "output_type": "stream",
     "text": [
      "(5434, 19)\n"
     ]
    }
   ],
   "source": [
    "print(covid_OH.shape)"
   ]
  },
  {
   "cell_type": "code",
   "execution_count": 25,
   "metadata": {
    "execution": {
     "iopub.execute_input": "2021-09-25T21:14:16.501602Z",
     "iopub.status.busy": "2021-09-25T21:14:16.500865Z",
     "iopub.status.idle": "2021-09-25T21:14:16.505450Z",
     "shell.execute_reply": "2021-09-25T21:14:16.504790Z",
     "shell.execute_reply.started": "2021-09-25T21:11:52.598689Z"
    },
    "papermill": {
     "duration": 0.07469,
     "end_time": "2021-09-25T21:14:16.505587",
     "exception": false,
     "start_time": "2021-09-25T21:14:16.430897",
     "status": "completed"
    },
    "tags": []
   },
   "outputs": [
    {
     "data": {
      "text/plain": [
       "uint8    19\n",
       "dtype: int64"
      ]
     },
     "execution_count": 25,
     "metadata": {},
     "output_type": "execute_result"
    }
   ],
   "source": [
    "covid_OH.dtypes.value_counts()\n",
    "# all the columns got converted to "
   ]
  },
  {
   "cell_type": "markdown",
   "metadata": {
    "papermill": {
     "duration": 0.062181,
     "end_time": "2021-09-25T21:14:16.630218",
     "exception": false,
     "start_time": "2021-09-25T21:14:16.568037",
     "status": "completed"
    },
    "tags": []
   },
   "source": [
    "\n",
    "\n",
    "\n",
    "\n",
    "\n"
   ]
  },
  {
   "cell_type": "code",
   "execution_count": 26,
   "metadata": {
    "execution": {
     "iopub.execute_input": "2021-09-25T21:14:16.769272Z",
     "iopub.status.busy": "2021-09-25T21:14:16.764117Z",
     "iopub.status.idle": "2021-09-25T21:14:19.633053Z",
     "shell.execute_reply": "2021-09-25T21:14:19.633570Z",
     "shell.execute_reply.started": "2021-09-25T21:11:52.622717Z"
    },
    "papermill": {
     "duration": 2.941494,
     "end_time": "2021-09-25T21:14:19.633711",
     "exception": false,
     "start_time": "2021-09-25T21:14:16.692217",
     "status": "completed"
    },
    "tags": []
   },
   "outputs": [
    {
     "data": {
      "text/plain": [
       "array([[<matplotlib.axes._subplots.AxesSubplot object at 0x7fd53c6fe9d0>,\n",
       "        <matplotlib.axes._subplots.AxesSubplot object at 0x7fd53c3178d0>,\n",
       "        <matplotlib.axes._subplots.AxesSubplot object at 0x7fd53c349f50>,\n",
       "        <matplotlib.axes._subplots.AxesSubplot object at 0x7fd53c30b610>],\n",
       "       [<matplotlib.axes._subplots.AxesSubplot object at 0x7fd53c2c2c90>,\n",
       "        <matplotlib.axes._subplots.AxesSubplot object at 0x7fd53c284350>,\n",
       "        <matplotlib.axes._subplots.AxesSubplot object at 0x7fd53c23a9d0>,\n",
       "        <matplotlib.axes._subplots.AxesSubplot object at 0x7fd53c1fc090>],\n",
       "       [<matplotlib.axes._subplots.AxesSubplot object at 0x7fd53c206510>,\n",
       "        <matplotlib.axes._subplots.AxesSubplot object at 0x7fd53c1bbc90>,\n",
       "        <matplotlib.axes._subplots.AxesSubplot object at 0x7fd53c12b450>,\n",
       "        <matplotlib.axes._subplots.AxesSubplot object at 0x7fd53c0e26d0>],\n",
       "       [<matplotlib.axes._subplots.AxesSubplot object at 0x7fd53c099c50>,\n",
       "        <matplotlib.axes._subplots.AxesSubplot object at 0x7fd53c05d210>,\n",
       "        <matplotlib.axes._subplots.AxesSubplot object at 0x7fd53c091790>,\n",
       "        <matplotlib.axes._subplots.AxesSubplot object at 0x7fd53c048d10>],\n",
       "       [<matplotlib.axes._subplots.AxesSubplot object at 0x7fd53c0092d0>,\n",
       "        <matplotlib.axes._subplots.AxesSubplot object at 0x7fd53bfbe850>,\n",
       "        <matplotlib.axes._subplots.AxesSubplot object at 0x7fd53bf76dd0>,\n",
       "        <matplotlib.axes._subplots.AxesSubplot object at 0x7fd53bf38390>]],\n",
       "      dtype=object)"
      ]
     },
     "execution_count": 26,
     "metadata": {},
     "output_type": "execute_result"
    },
    {
     "data": {
      "image/png": "[encoded data removed]",
      "text/plain": [
       "<Figure size 1440x1080 with 20 Axes>"
      ]
     },
     "metadata": {
      "needs_background": "light"
     },
     "output_type": "display_data"
    }
   ],
   "source": [
    "covid_OH.hist(figsize=(20,15))\n",
    "# All the features (and target variable) got converted to [0,1]"
   ]
  },
  {
   "cell_type": "markdown",
   "metadata": {
    "papermill": {
     "duration": 0.064081,
     "end_time": "2021-09-25T21:14:19.762415",
     "exception": false,
     "start_time": "2021-09-25T21:14:19.698334",
     "status": "completed"
    },
    "tags": []
   },
   "source": [
    "### Feature Correlation"
   ]
  },
  {
   "cell_type": "code",
   "execution_count": 27,
   "metadata": {
    "execution": {
     "iopub.execute_input": "2021-09-25T21:14:19.897096Z",
     "iopub.status.busy": "2021-09-25T21:14:19.896265Z",
     "iopub.status.idle": "2021-09-25T21:14:19.899396Z",
     "shell.execute_reply": "2021-09-25T21:14:19.898872Z",
     "shell.execute_reply.started": "2021-09-25T21:11:56.334320Z"
    },
    "papermill": {
     "duration": 0.072143,
     "end_time": "2021-09-25T21:14:19.899534",
     "exception": false,
     "start_time": "2021-09-25T21:14:19.827391",
     "status": "completed"
    },
    "tags": []
   },
   "outputs": [],
   "source": [
    "# plot_correlation(covid_OH) #method from data-prep\n",
    "# Covid-19 postive seems to be correlated (linearly) with some features like, Breathing problem, Fever, Dry_cough, Sore_Throat, Abroad_travel"
   ]
  },
  {
   "cell_type": "code",
   "execution_count": 28,
   "metadata": {
    "execution": {
     "iopub.execute_input": "2021-09-25T21:14:20.035835Z",
     "iopub.status.busy": "2021-09-25T21:14:20.035138Z",
     "iopub.status.idle": "2021-09-25T21:14:20.273635Z",
     "shell.execute_reply": "2021-09-25T21:14:20.274186Z",
     "shell.execute_reply.started": "2021-09-25T21:11:56.342467Z"
    },
    "papermill": {
     "duration": 0.309914,
     "end_time": "2021-09-25T21:14:20.274336",
     "exception": false,
     "start_time": "2021-09-25T21:14:19.964422",
     "status": "completed"
    },
    "tags": []
   },
   "outputs": [
    {
     "data": {
      "text/html": [
       "<style  type=\"text/css\" >\n",
       "#T_8c9d959e_1e45_11ec_a8cc_0242ac130202row0_col0,#T_8c9d959e_1e45_11ec_a8cc_0242ac130202row1_col1,#T_8c9d959e_1e45_11ec_a8cc_0242ac130202row2_col2,#T_8c9d959e_1e45_11ec_a8cc_0242ac130202row3_col3,#T_8c9d959e_1e45_11ec_a8cc_0242ac130202row4_col4,#T_8c9d959e_1e45_11ec_a8cc_0242ac130202row5_col5,#T_8c9d959e_1e45_11ec_a8cc_0242ac130202row6_col6,#T_8c9d959e_1e45_11ec_a8cc_0242ac130202row7_col7,#T_8c9d959e_1e45_11ec_a8cc_0242ac130202row8_col8,#T_8c9d959e_1e45_11ec_a8cc_0242ac130202row9_col9,#T_8c9d959e_1e45_11ec_a8cc_0242ac130202row10_col10,#T_8c9d959e_1e45_11ec_a8cc_0242ac130202row11_col11,#T_8c9d959e_1e45_11ec_a8cc_0242ac130202row12_col12,#T_8c9d959e_1e45_11ec_a8cc_0242ac130202row13_col13,#T_8c9d959e_1e45_11ec_a8cc_0242ac130202row14_col14,#T_8c9d959e_1e45_11ec_a8cc_0242ac130202row15_col15,#T_8c9d959e_1e45_11ec_a8cc_0242ac130202row16_col16,#T_8c9d959e_1e45_11ec_a8cc_0242ac130202row17_col17,#T_8c9d959e_1e45_11ec_a8cc_0242ac130202row18_col18{\n",
       "            background-color:  #b40426;\n",
       "            color:  #f1f1f1;\n",
       "        }#T_8c9d959e_1e45_11ec_a8cc_0242ac130202row0_col1,#T_8c9d959e_1e45_11ec_a8cc_0242ac130202row1_col0,#T_8c9d959e_1e45_11ec_a8cc_0242ac130202row5_col18,#T_8c9d959e_1e45_11ec_a8cc_0242ac130202row18_col5{\n",
       "            background-color:  #8caffe;\n",
       "            color:  #000000;\n",
       "        }#T_8c9d959e_1e45_11ec_a8cc_0242ac130202row0_col2,#T_8c9d959e_1e45_11ec_a8cc_0242ac130202row2_col0,#T_8c9d959e_1e45_11ec_a8cc_0242ac130202row17_col18,#T_8c9d959e_1e45_11ec_a8cc_0242ac130202row18_col17{\n",
       "            background-color:  #9fbfff;\n",
       "            color:  #000000;\n",
       "        }#T_8c9d959e_1e45_11ec_a8cc_0242ac130202row0_col3,#T_8c9d959e_1e45_11ec_a8cc_0242ac130202row3_col0{\n",
       "            background-color:  #c7d7f0;\n",
       "            color:  #000000;\n",
       "        }#T_8c9d959e_1e45_11ec_a8cc_0242ac130202row0_col4,#T_8c9d959e_1e45_11ec_a8cc_0242ac130202row0_col9,#T_8c9d959e_1e45_11ec_a8cc_0242ac130202row4_col0,#T_8c9d959e_1e45_11ec_a8cc_0242ac130202row7_col11,#T_8c9d959e_1e45_11ec_a8cc_0242ac130202row9_col0,#T_8c9d959e_1e45_11ec_a8cc_0242ac130202row11_col7{\n",
       "            background-color:  #81a4fb;\n",
       "            color:  #000000;\n",
       "        }#T_8c9d959e_1e45_11ec_a8cc_0242ac130202row0_col5,#T_8c9d959e_1e45_11ec_a8cc_0242ac130202row1_col5,#T_8c9d959e_1e45_11ec_a8cc_0242ac130202row5_col0,#T_8c9d959e_1e45_11ec_a8cc_0242ac130202row5_col1{\n",
       "            background-color:  #86a9fc;\n",
       "            color:  #000000;\n",
       "        }#T_8c9d959e_1e45_11ec_a8cc_0242ac130202row0_col6,#T_8c9d959e_1e45_11ec_a8cc_0242ac130202row6_col0{\n",
       "            background-color:  #5673e0;\n",
       "            color:  #000000;\n",
       "        }#T_8c9d959e_1e45_11ec_a8cc_0242ac130202row0_col7,#T_8c9d959e_1e45_11ec_a8cc_0242ac130202row4_col17,#T_8c9d959e_1e45_11ec_a8cc_0242ac130202row6_col14,#T_8c9d959e_1e45_11ec_a8cc_0242ac130202row7_col0,#T_8c9d959e_1e45_11ec_a8cc_0242ac130202row9_col15,#T_8c9d959e_1e45_11ec_a8cc_0242ac130202row12_col16,#T_8c9d959e_1e45_11ec_a8cc_0242ac130202row14_col6,#T_8c9d959e_1e45_11ec_a8cc_0242ac130202row15_col9,#T_8c9d959e_1e45_11ec_a8cc_0242ac130202row16_col12,#T_8c9d959e_1e45_11ec_a8cc_0242ac130202row17_col4{\n",
       "            background-color:  #5f7fe8;\n",
       "            color:  #000000;\n",
       "        }#T_8c9d959e_1e45_11ec_a8cc_0242ac130202row0_col8,#T_8c9d959e_1e45_11ec_a8cc_0242ac130202row0_col12,#T_8c9d959e_1e45_11ec_a8cc_0242ac130202row8_col0,#T_8c9d959e_1e45_11ec_a8cc_0242ac130202row12_col0{\n",
       "            background-color:  #5d7ce6;\n",
       "            color:  #000000;\n",
       "        }#T_8c9d959e_1e45_11ec_a8cc_0242ac130202row0_col10,#T_8c9d959e_1e45_11ec_a8cc_0242ac130202row3_col10,#T_8c9d959e_1e45_11ec_a8cc_0242ac130202row4_col9,#T_8c9d959e_1e45_11ec_a8cc_0242ac130202row6_col9,#T_8c9d959e_1e45_11ec_a8cc_0242ac130202row7_col13,#T_8c9d959e_1e45_11ec_a8cc_0242ac130202row9_col4,#T_8c9d959e_1e45_11ec_a8cc_0242ac130202row9_col6,#T_8c9d959e_1e45_11ec_a8cc_0242ac130202row9_col10,#T_8c9d959e_1e45_11ec_a8cc_0242ac130202row10_col0,#T_8c9d959e_1e45_11ec_a8cc_0242ac130202row10_col3,#T_8c9d959e_1e45_11ec_a8cc_0242ac130202row10_col9,#T_8c9d959e_1e45_11ec_a8cc_0242ac130202row13_col7{\n",
       "            background-color:  #7ea1fa;\n",
       "            color:  #000000;\n",
       "        }#T_8c9d959e_1e45_11ec_a8cc_0242ac130202row0_col11,#T_8c9d959e_1e45_11ec_a8cc_0242ac130202row1_col16,#T_8c9d959e_1e45_11ec_a8cc_0242ac130202row3_col8,#T_8c9d959e_1e45_11ec_a8cc_0242ac130202row3_col9,#T_8c9d959e_1e45_11ec_a8cc_0242ac130202row4_col14,#T_8c9d959e_1e45_11ec_a8cc_0242ac130202row8_col3,#T_8c9d959e_1e45_11ec_a8cc_0242ac130202row8_col12,#T_8c9d959e_1e45_11ec_a8cc_0242ac130202row9_col3,#T_8c9d959e_1e45_11ec_a8cc_0242ac130202row10_col15,#T_8c9d959e_1e45_11ec_a8cc_0242ac130202row11_col0,#T_8c9d959e_1e45_11ec_a8cc_0242ac130202row12_col8,#T_8c9d959e_1e45_11ec_a8cc_0242ac130202row14_col4,#T_8c9d959e_1e45_11ec_a8cc_0242ac130202row15_col10,#T_8c9d959e_1e45_11ec_a8cc_0242ac130202row16_col1{\n",
       "            background-color:  #7295f4;\n",
       "            color:  #000000;\n",
       "        }#T_8c9d959e_1e45_11ec_a8cc_0242ac130202row0_col13,#T_8c9d959e_1e45_11ec_a8cc_0242ac130202row2_col15,#T_8c9d959e_1e45_11ec_a8cc_0242ac130202row13_col0,#T_8c9d959e_1e45_11ec_a8cc_0242ac130202row13_col15,#T_8c9d959e_1e45_11ec_a8cc_0242ac130202row15_col2,#T_8c9d959e_1e45_11ec_a8cc_0242ac130202row15_col13{\n",
       "            background-color:  #93b5fe;\n",
       "            color:  #000000;\n",
       "        }#T_8c9d959e_1e45_11ec_a8cc_0242ac130202row0_col14,#T_8c9d959e_1e45_11ec_a8cc_0242ac130202row2_col3,#T_8c9d959e_1e45_11ec_a8cc_0242ac130202row3_col2,#T_8c9d959e_1e45_11ec_a8cc_0242ac130202row3_col15,#T_8c9d959e_1e45_11ec_a8cc_0242ac130202row14_col0,#T_8c9d959e_1e45_11ec_a8cc_0242ac130202row15_col3{\n",
       "            background-color:  #afcafc;\n",
       "            color:  #000000;\n",
       "        }#T_8c9d959e_1e45_11ec_a8cc_0242ac130202row0_col15,#T_8c9d959e_1e45_11ec_a8cc_0242ac130202row15_col0{\n",
       "            background-color:  #abc8fd;\n",
       "            color:  #000000;\n",
       "        }#T_8c9d959e_1e45_11ec_a8cc_0242ac130202row0_col16,#T_8c9d959e_1e45_11ec_a8cc_0242ac130202row1_col15,#T_8c9d959e_1e45_11ec_a8cc_0242ac130202row4_col7,#T_8c9d959e_1e45_11ec_a8cc_0242ac130202row5_col13,#T_8c9d959e_1e45_11ec_a8cc_0242ac130202row7_col4,#T_8c9d959e_1e45_11ec_a8cc_0242ac130202row13_col5,#T_8c9d959e_1e45_11ec_a8cc_0242ac130202row13_col16,#T_8c9d959e_1e45_11ec_a8cc_0242ac130202row15_col1,#T_8c9d959e_1e45_11ec_a8cc_0242ac130202row16_col0,#T_8c9d959e_1e45_11ec_a8cc_0242ac130202row16_col13{\n",
       "            background-color:  #85a8fc;\n",
       "            color:  #000000;\n",
       "        }#T_8c9d959e_1e45_11ec_a8cc_0242ac130202row0_col17,#T_8c9d959e_1e45_11ec_a8cc_0242ac130202row5_col10,#T_8c9d959e_1e45_11ec_a8cc_0242ac130202row10_col5,#T_8c9d959e_1e45_11ec_a8cc_0242ac130202row17_col0{\n",
       "            background-color:  #7699f6;\n",
       "            color:  #000000;\n",
       "        }#T_8c9d959e_1e45_11ec_a8cc_0242ac130202row0_col18,#T_8c9d959e_1e45_11ec_a8cc_0242ac130202row13_col18,#T_8c9d959e_1e45_11ec_a8cc_0242ac130202row18_col0,#T_8c9d959e_1e45_11ec_a8cc_0242ac130202row18_col13{\n",
       "            background-color:  #e7d7ce;\n",
       "            color:  #000000;\n",
       "        }#T_8c9d959e_1e45_11ec_a8cc_0242ac130202row1_col2,#T_8c9d959e_1e45_11ec_a8cc_0242ac130202row1_col13,#T_8c9d959e_1e45_11ec_a8cc_0242ac130202row2_col1,#T_8c9d959e_1e45_11ec_a8cc_0242ac130202row2_col14,#T_8c9d959e_1e45_11ec_a8cc_0242ac130202row13_col1,#T_8c9d959e_1e45_11ec_a8cc_0242ac130202row14_col2{\n",
       "            background-color:  #97b8ff;\n",
       "            color:  #000000;\n",
       "        }#T_8c9d959e_1e45_11ec_a8cc_0242ac130202row1_col3,#T_8c9d959e_1e45_11ec_a8cc_0242ac130202row3_col1{\n",
       "            background-color:  #ccd9ed;\n",
       "            color:  #000000;\n",
       "        }#T_8c9d959e_1e45_11ec_a8cc_0242ac130202row1_col4,#T_8c9d959e_1e45_11ec_a8cc_0242ac130202row2_col10,#T_8c9d959e_1e45_11ec_a8cc_0242ac130202row3_col5,#T_8c9d959e_1e45_11ec_a8cc_0242ac130202row4_col1,#T_8c9d959e_1e45_11ec_a8cc_0242ac130202row5_col3,#T_8c9d959e_1e45_11ec_a8cc_0242ac130202row10_col2,#T_8c9d959e_1e45_11ec_a8cc_0242ac130202row15_col16,#T_8c9d959e_1e45_11ec_a8cc_0242ac130202row16_col15{\n",
       "            background-color:  #89acfd;\n",
       "            color:  #000000;\n",
       "        }#T_8c9d959e_1e45_11ec_a8cc_0242ac130202row1_col6,#T_8c9d959e_1e45_11ec_a8cc_0242ac130202row6_col1,#T_8c9d959e_1e45_11ec_a8cc_0242ac130202row7_col18,#T_8c9d959e_1e45_11ec_a8cc_0242ac130202row8_col14,#T_8c9d959e_1e45_11ec_a8cc_0242ac130202row10_col11,#T_8c9d959e_1e45_11ec_a8cc_0242ac130202row11_col10,#T_8c9d959e_1e45_11ec_a8cc_0242ac130202row11_col14,#T_8c9d959e_1e45_11ec_a8cc_0242ac130202row11_col17,#T_8c9d959e_1e45_11ec_a8cc_0242ac130202row12_col17,#T_8c9d959e_1e45_11ec_a8cc_0242ac130202row14_col8,#T_8c9d959e_1e45_11ec_a8cc_0242ac130202row14_col11,#T_8c9d959e_1e45_11ec_a8cc_0242ac130202row17_col11,#T_8c9d959e_1e45_11ec_a8cc_0242ac130202row17_col12,#T_8c9d959e_1e45_11ec_a8cc_0242ac130202row18_col7{\n",
       "            background-color:  #6a8bef;\n",
       "            color:  #000000;\n",
       "        }#T_8c9d959e_1e45_11ec_a8cc_0242ac130202row1_col7,#T_8c9d959e_1e45_11ec_a8cc_0242ac130202row2_col7,#T_8c9d959e_1e45_11ec_a8cc_0242ac130202row5_col6,#T_8c9d959e_1e45_11ec_a8cc_0242ac130202row6_col5,#T_8c9d959e_1e45_11ec_a8cc_0242ac130202row7_col1,#T_8c9d959e_1e45_11ec_a8cc_0242ac130202row7_col2{\n",
       "            background-color:  #6788ee;\n",
       "            color:  #000000;\n",
       "        }#T_8c9d959e_1e45_11ec_a8cc_0242ac130202row1_col8,#T_8c9d959e_1e45_11ec_a8cc_0242ac130202row2_col4,#T_8c9d959e_1e45_11ec_a8cc_0242ac130202row4_col2,#T_8c9d959e_1e45_11ec_a8cc_0242ac130202row8_col1,#T_8c9d959e_1e45_11ec_a8cc_0242ac130202row8_col9,#T_8c9d959e_1e45_11ec_a8cc_0242ac130202row9_col8,#T_8c9d959e_1e45_11ec_a8cc_0242ac130202row11_col15,#T_8c9d959e_1e45_11ec_a8cc_0242ac130202row15_col11{\n",
       "            background-color:  #688aef;\n",
       "            color:  #000000;\n",
       "        }#T_8c9d959e_1e45_11ec_a8cc_0242ac130202row1_col9,#T_8c9d959e_1e45_11ec_a8cc_0242ac130202row2_col8,#T_8c9d959e_1e45_11ec_a8cc_0242ac130202row7_col8,#T_8c9d959e_1e45_11ec_a8cc_0242ac130202row8_col2,#T_8c9d959e_1e45_11ec_a8cc_0242ac130202row8_col7,#T_8c9d959e_1e45_11ec_a8cc_0242ac130202row8_col10,#T_8c9d959e_1e45_11ec_a8cc_0242ac130202row9_col1,#T_8c9d959e_1e45_11ec_a8cc_0242ac130202row10_col8,#T_8c9d959e_1e45_11ec_a8cc_0242ac130202row10_col17,#T_8c9d959e_1e45_11ec_a8cc_0242ac130202row17_col10{\n",
       "            background-color:  #80a3fa;\n",
       "            color:  #000000;\n",
       "        }#T_8c9d959e_1e45_11ec_a8cc_0242ac130202row1_col10,#T_8c9d959e_1e45_11ec_a8cc_0242ac130202row3_col16,#T_8c9d959e_1e45_11ec_a8cc_0242ac130202row5_col8,#T_8c9d959e_1e45_11ec_a8cc_0242ac130202row8_col5,#T_8c9d959e_1e45_11ec_a8cc_0242ac130202row10_col1,#T_8c9d959e_1e45_11ec_a8cc_0242ac130202row13_col14,#T_8c9d959e_1e45_11ec_a8cc_0242ac130202row14_col13,#T_8c9d959e_1e45_11ec_a8cc_0242ac130202row14_col16,#T_8c9d959e_1e45_11ec_a8cc_0242ac130202row16_col3,#T_8c9d959e_1e45_11ec_a8cc_0242ac130202row16_col14{\n",
       "            background-color:  #88abfd;\n",
       "            color:  #000000;\n",
       "        }#T_8c9d959e_1e45_11ec_a8cc_0242ac130202row1_col11,#T_8c9d959e_1e45_11ec_a8cc_0242ac130202row4_col8,#T_8c9d959e_1e45_11ec_a8cc_0242ac130202row6_col18,#T_8c9d959e_1e45_11ec_a8cc_0242ac130202row8_col4,#T_8c9d959e_1e45_11ec_a8cc_0242ac130202row8_col11,#T_8c9d959e_1e45_11ec_a8cc_0242ac130202row11_col1,#T_8c9d959e_1e45_11ec_a8cc_0242ac130202row11_col8,#T_8c9d959e_1e45_11ec_a8cc_0242ac130202row18_col6{\n",
       "            background-color:  #6180e9;\n",
       "            color:  #000000;\n",
       "        }#T_8c9d959e_1e45_11ec_a8cc_0242ac130202row1_col12,#T_8c9d959e_1e45_11ec_a8cc_0242ac130202row2_col9,#T_8c9d959e_1e45_11ec_a8cc_0242ac130202row4_col18,#T_8c9d959e_1e45_11ec_a8cc_0242ac130202row7_col16,#T_8c9d959e_1e45_11ec_a8cc_0242ac130202row9_col2,#T_8c9d959e_1e45_11ec_a8cc_0242ac130202row12_col1,#T_8c9d959e_1e45_11ec_a8cc_0242ac130202row16_col7,#T_8c9d959e_1e45_11ec_a8cc_0242ac130202row18_col4{\n",
       "            background-color:  #6f92f3;\n",
       "            color:  #000000;\n",
       "        }#T_8c9d959e_1e45_11ec_a8cc_0242ac130202row1_col14,#T_8c9d959e_1e45_11ec_a8cc_0242ac130202row2_col17,#T_8c9d959e_1e45_11ec_a8cc_0242ac130202row14_col1,#T_8c9d959e_1e45_11ec_a8cc_0242ac130202row17_col2{\n",
       "            background-color:  #a1c0ff;\n",
       "            color:  #000000;\n",
       "        }#T_8c9d959e_1e45_11ec_a8cc_0242ac130202row1_col17,#T_8c9d959e_1e45_11ec_a8cc_0242ac130202row17_col1{\n",
       "            background-color:  #7597f6;\n",
       "            color:  #000000;\n",
       "        }#T_8c9d959e_1e45_11ec_a8cc_0242ac130202row1_col18,#T_8c9d959e_1e45_11ec_a8cc_0242ac130202row18_col1{\n",
       "            background-color:  #d3dbe7;\n",
       "            color:  #000000;\n",
       "        }#T_8c9d959e_1e45_11ec_a8cc_0242ac130202row2_col5,#T_8c9d959e_1e45_11ec_a8cc_0242ac130202row2_col16,#T_8c9d959e_1e45_11ec_a8cc_0242ac130202row5_col2,#T_8c9d959e_1e45_11ec_a8cc_0242ac130202row8_col16,#T_8c9d959e_1e45_11ec_a8cc_0242ac130202row16_col2,#T_8c9d959e_1e45_11ec_a8cc_0242ac130202row16_col8{\n",
       "            background-color:  #8badfd;\n",
       "            color:  #000000;\n",
       "        }#T_8c9d959e_1e45_11ec_a8cc_0242ac130202row2_col6,#T_8c9d959e_1e45_11ec_a8cc_0242ac130202row5_col15,#T_8c9d959e_1e45_11ec_a8cc_0242ac130202row6_col2,#T_8c9d959e_1e45_11ec_a8cc_0242ac130202row8_col15,#T_8c9d959e_1e45_11ec_a8cc_0242ac130202row9_col11,#T_8c9d959e_1e45_11ec_a8cc_0242ac130202row11_col9,#T_8c9d959e_1e45_11ec_a8cc_0242ac130202row11_col18,#T_8c9d959e_1e45_11ec_a8cc_0242ac130202row15_col5,#T_8c9d959e_1e45_11ec_a8cc_0242ac130202row15_col8,#T_8c9d959e_1e45_11ec_a8cc_0242ac130202row18_col11{\n",
       "            background-color:  #6485ec;\n",
       "            color:  #000000;\n",
       "        }#T_8c9d959e_1e45_11ec_a8cc_0242ac130202row2_col11,#T_8c9d959e_1e45_11ec_a8cc_0242ac130202row6_col8,#T_8c9d959e_1e45_11ec_a8cc_0242ac130202row8_col6,#T_8c9d959e_1e45_11ec_a8cc_0242ac130202row11_col2{\n",
       "            background-color:  #6687ed;\n",
       "            color:  #000000;\n",
       "        }#T_8c9d959e_1e45_11ec_a8cc_0242ac130202row2_col12,#T_8c9d959e_1e45_11ec_a8cc_0242ac130202row4_col11,#T_8c9d959e_1e45_11ec_a8cc_0242ac130202row5_col11,#T_8c9d959e_1e45_11ec_a8cc_0242ac130202row5_col14,#T_8c9d959e_1e45_11ec_a8cc_0242ac130202row11_col4,#T_8c9d959e_1e45_11ec_a8cc_0242ac130202row11_col5,#T_8c9d959e_1e45_11ec_a8cc_0242ac130202row11_col12,#T_8c9d959e_1e45_11ec_a8cc_0242ac130202row12_col2,#T_8c9d959e_1e45_11ec_a8cc_0242ac130202row12_col11,#T_8c9d959e_1e45_11ec_a8cc_0242ac130202row14_col5,#T_8c9d959e_1e45_11ec_a8cc_0242ac130202row14_col17,#T_8c9d959e_1e45_11ec_a8cc_0242ac130202row17_col14{\n",
       "            background-color:  #7396f5;\n",
       "            color:  #000000;\n",
       "        }#T_8c9d959e_1e45_11ec_a8cc_0242ac130202row2_col13,#T_8c9d959e_1e45_11ec_a8cc_0242ac130202row13_col2{\n",
       "            background-color:  #cedaeb;\n",
       "            color:  #000000;\n",
       "        }#T_8c9d959e_1e45_11ec_a8cc_0242ac130202row2_col18,#T_8c9d959e_1e45_11ec_a8cc_0242ac130202row18_col2{\n",
       "            background-color:  #ead4c8;\n",
       "            color:  #000000;\n",
       "        }#T_8c9d959e_1e45_11ec_a8cc_0242ac130202row3_col4,#T_8c9d959e_1e45_11ec_a8cc_0242ac130202row4_col3,#T_8c9d959e_1e45_11ec_a8cc_0242ac130202row6_col17,#T_8c9d959e_1e45_11ec_a8cc_0242ac130202row9_col12,#T_8c9d959e_1e45_11ec_a8cc_0242ac130202row9_col13,#T_8c9d959e_1e45_11ec_a8cc_0242ac130202row9_col18,#T_8c9d959e_1e45_11ec_a8cc_0242ac130202row12_col9,#T_8c9d959e_1e45_11ec_a8cc_0242ac130202row13_col9,#T_8c9d959e_1e45_11ec_a8cc_0242ac130202row17_col6,#T_8c9d959e_1e45_11ec_a8cc_0242ac130202row18_col9{\n",
       "            background-color:  #7da0f9;\n",
       "            color:  #000000;\n",
       "        }#T_8c9d959e_1e45_11ec_a8cc_0242ac130202row3_col6,#T_8c9d959e_1e45_11ec_a8cc_0242ac130202row6_col3,#T_8c9d959e_1e45_11ec_a8cc_0242ac130202row6_col7,#T_8c9d959e_1e45_11ec_a8cc_0242ac130202row6_col11,#T_8c9d959e_1e45_11ec_a8cc_0242ac130202row6_col12,#T_8c9d959e_1e45_11ec_a8cc_0242ac130202row7_col6,#T_8c9d959e_1e45_11ec_a8cc_0242ac130202row11_col6,#T_8c9d959e_1e45_11ec_a8cc_0242ac130202row12_col6{\n",
       "            background-color:  #6384eb;\n",
       "            color:  #000000;\n",
       "        }#T_8c9d959e_1e45_11ec_a8cc_0242ac130202row3_col7,#T_8c9d959e_1e45_11ec_a8cc_0242ac130202row4_col6,#T_8c9d959e_1e45_11ec_a8cc_0242ac130202row4_col12,#T_8c9d959e_1e45_11ec_a8cc_0242ac130202row6_col4,#T_8c9d959e_1e45_11ec_a8cc_0242ac130202row7_col3,#T_8c9d959e_1e45_11ec_a8cc_0242ac130202row10_col13,#T_8c9d959e_1e45_11ec_a8cc_0242ac130202row12_col4,#T_8c9d959e_1e45_11ec_a8cc_0242ac130202row12_col15,#T_8c9d959e_1e45_11ec_a8cc_0242ac130202row13_col10,#T_8c9d959e_1e45_11ec_a8cc_0242ac130202row15_col12{\n",
       "            background-color:  #6c8ff1;\n",
       "            color:  #000000;\n",
       "        }#T_8c9d959e_1e45_11ec_a8cc_0242ac130202row3_col11,#T_8c9d959e_1e45_11ec_a8cc_0242ac130202row4_col5,#T_8c9d959e_1e45_11ec_a8cc_0242ac130202row4_col10,#T_8c9d959e_1e45_11ec_a8cc_0242ac130202row5_col4,#T_8c9d959e_1e45_11ec_a8cc_0242ac130202row6_col15,#T_8c9d959e_1e45_11ec_a8cc_0242ac130202row8_col13,#T_8c9d959e_1e45_11ec_a8cc_0242ac130202row10_col4,#T_8c9d959e_1e45_11ec_a8cc_0242ac130202row11_col3,#T_8c9d959e_1e45_11ec_a8cc_0242ac130202row13_col8,#T_8c9d959e_1e45_11ec_a8cc_0242ac130202row15_col6{\n",
       "            background-color:  #6b8df0;\n",
       "            color:  #000000;\n",
       "        }#T_8c9d959e_1e45_11ec_a8cc_0242ac130202row3_col12,#T_8c9d959e_1e45_11ec_a8cc_0242ac130202row8_col18,#T_8c9d959e_1e45_11ec_a8cc_0242ac130202row10_col14,#T_8c9d959e_1e45_11ec_a8cc_0242ac130202row12_col3,#T_8c9d959e_1e45_11ec_a8cc_0242ac130202row12_col14,#T_8c9d959e_1e45_11ec_a8cc_0242ac130202row14_col10,#T_8c9d959e_1e45_11ec_a8cc_0242ac130202row14_col12,#T_8c9d959e_1e45_11ec_a8cc_0242ac130202row18_col8{\n",
       "            background-color:  #799cf8;\n",
       "            color:  #000000;\n",
       "        }#T_8c9d959e_1e45_11ec_a8cc_0242ac130202row3_col13,#T_8c9d959e_1e45_11ec_a8cc_0242ac130202row13_col3{\n",
       "            background-color:  #adc9fd;\n",
       "            color:  #000000;\n",
       "        }#T_8c9d959e_1e45_11ec_a8cc_0242ac130202row3_col14,#T_8c9d959e_1e45_11ec_a8cc_0242ac130202row14_col3{\n",
       "            background-color:  #a9c6fd;\n",
       "            color:  #000000;\n",
       "        }#T_8c9d959e_1e45_11ec_a8cc_0242ac130202row3_col17,#T_8c9d959e_1e45_11ec_a8cc_0242ac130202row17_col3{\n",
       "            background-color:  #90b2fe;\n",
       "            color:  #000000;\n",
       "        }#T_8c9d959e_1e45_11ec_a8cc_0242ac130202row3_col18,#T_8c9d959e_1e45_11ec_a8cc_0242ac130202row18_col3{\n",
       "            background-color:  #f0cdbb;\n",
       "            color:  #000000;\n",
       "        }#T_8c9d959e_1e45_11ec_a8cc_0242ac130202row4_col13,#T_8c9d959e_1e45_11ec_a8cc_0242ac130202row5_col7,#T_8c9d959e_1e45_11ec_a8cc_0242ac130202row7_col5,#T_8c9d959e_1e45_11ec_a8cc_0242ac130202row8_col17,#T_8c9d959e_1e45_11ec_a8cc_0242ac130202row13_col4,#T_8c9d959e_1e45_11ec_a8cc_0242ac130202row17_col8{\n",
       "            background-color:  #7b9ff9;\n",
       "            color:  #000000;\n",
       "        }#T_8c9d959e_1e45_11ec_a8cc_0242ac130202row4_col15,#T_8c9d959e_1e45_11ec_a8cc_0242ac130202row15_col4{\n",
       "            background-color:  #82a6fb;\n",
       "            color:  #000000;\n",
       "        }#T_8c9d959e_1e45_11ec_a8cc_0242ac130202row4_col16,#T_8c9d959e_1e45_11ec_a8cc_0242ac130202row7_col9,#T_8c9d959e_1e45_11ec_a8cc_0242ac130202row9_col7,#T_8c9d959e_1e45_11ec_a8cc_0242ac130202row16_col4,#T_8c9d959e_1e45_11ec_a8cc_0242ac130202row16_col17,#T_8c9d959e_1e45_11ec_a8cc_0242ac130202row17_col16{\n",
       "            background-color:  #7a9df8;\n",
       "            color:  #000000;\n",
       "        }#T_8c9d959e_1e45_11ec_a8cc_0242ac130202row5_col9,#T_8c9d959e_1e45_11ec_a8cc_0242ac130202row6_col10,#T_8c9d959e_1e45_11ec_a8cc_0242ac130202row7_col17,#T_8c9d959e_1e45_11ec_a8cc_0242ac130202row9_col5,#T_8c9d959e_1e45_11ec_a8cc_0242ac130202row10_col6,#T_8c9d959e_1e45_11ec_a8cc_0242ac130202row11_col16,#T_8c9d959e_1e45_11ec_a8cc_0242ac130202row16_col11,#T_8c9d959e_1e45_11ec_a8cc_0242ac130202row17_col7{\n",
       "            background-color:  #6e90f2;\n",
       "            color:  #000000;\n",
       "        }#T_8c9d959e_1e45_11ec_a8cc_0242ac130202row5_col12,#T_8c9d959e_1e45_11ec_a8cc_0242ac130202row10_col18,#T_8c9d959e_1e45_11ec_a8cc_0242ac130202row12_col5,#T_8c9d959e_1e45_11ec_a8cc_0242ac130202row12_col13,#T_8c9d959e_1e45_11ec_a8cc_0242ac130202row13_col12,#T_8c9d959e_1e45_11ec_a8cc_0242ac130202row18_col10{\n",
       "            background-color:  #8fb1fe;\n",
       "            color:  #000000;\n",
       "        }#T_8c9d959e_1e45_11ec_a8cc_0242ac130202row5_col16,#T_8c9d959e_1e45_11ec_a8cc_0242ac130202row10_col16,#T_8c9d959e_1e45_11ec_a8cc_0242ac130202row16_col5,#T_8c9d959e_1e45_11ec_a8cc_0242ac130202row16_col10{\n",
       "            background-color:  #779af7;\n",
       "            color:  #000000;\n",
       "        }#T_8c9d959e_1e45_11ec_a8cc_0242ac130202row5_col17,#T_8c9d959e_1e45_11ec_a8cc_0242ac130202row17_col5{\n",
       "            background-color:  #516ddb;\n",
       "            color:  #000000;\n",
       "        }#T_8c9d959e_1e45_11ec_a8cc_0242ac130202row6_col13,#T_8c9d959e_1e45_11ec_a8cc_0242ac130202row9_col14,#T_8c9d959e_1e45_11ec_a8cc_0242ac130202row13_col6,#T_8c9d959e_1e45_11ec_a8cc_0242ac130202row14_col9{\n",
       "            background-color:  #5977e3;\n",
       "            color:  #000000;\n",
       "        }#T_8c9d959e_1e45_11ec_a8cc_0242ac130202row6_col16,#T_8c9d959e_1e45_11ec_a8cc_0242ac130202row16_col6{\n",
       "            background-color:  #5875e1;\n",
       "            color:  #000000;\n",
       "        }#T_8c9d959e_1e45_11ec_a8cc_0242ac130202row7_col10,#T_8c9d959e_1e45_11ec_a8cc_0242ac130202row10_col7{\n",
       "            background-color:  #3b4cc0;\n",
       "            color:  #f1f1f1;\n",
       "        }#T_8c9d959e_1e45_11ec_a8cc_0242ac130202row7_col12,#T_8c9d959e_1e45_11ec_a8cc_0242ac130202row9_col17,#T_8c9d959e_1e45_11ec_a8cc_0242ac130202row12_col7,#T_8c9d959e_1e45_11ec_a8cc_0242ac130202row17_col9{\n",
       "            background-color:  #8db0fe;\n",
       "            color:  #000000;\n",
       "        }#T_8c9d959e_1e45_11ec_a8cc_0242ac130202row7_col14,#T_8c9d959e_1e45_11ec_a8cc_0242ac130202row14_col7{\n",
       "            background-color:  #5a78e4;\n",
       "            color:  #000000;\n",
       "        }#T_8c9d959e_1e45_11ec_a8cc_0242ac130202row7_col15,#T_8c9d959e_1e45_11ec_a8cc_0242ac130202row15_col7{\n",
       "            background-color:  #455cce;\n",
       "            color:  #f1f1f1;\n",
       "        }#T_8c9d959e_1e45_11ec_a8cc_0242ac130202row9_col16,#T_8c9d959e_1e45_11ec_a8cc_0242ac130202row16_col9{\n",
       "            background-color:  #5b7ae5;\n",
       "            color:  #000000;\n",
       "        }#T_8c9d959e_1e45_11ec_a8cc_0242ac130202row10_col12,#T_8c9d959e_1e45_11ec_a8cc_0242ac130202row11_col13,#T_8c9d959e_1e45_11ec_a8cc_0242ac130202row12_col10,#T_8c9d959e_1e45_11ec_a8cc_0242ac130202row13_col11{\n",
       "            background-color:  #5e7de7;\n",
       "            color:  #000000;\n",
       "        }#T_8c9d959e_1e45_11ec_a8cc_0242ac130202row12_col18,#T_8c9d959e_1e45_11ec_a8cc_0242ac130202row18_col12{\n",
       "            background-color:  #7093f3;\n",
       "            color:  #000000;\n",
       "        }#T_8c9d959e_1e45_11ec_a8cc_0242ac130202row13_col17,#T_8c9d959e_1e45_11ec_a8cc_0242ac130202row17_col13{\n",
       "            background-color:  #9bbcff;\n",
       "            color:  #000000;\n",
       "        }#T_8c9d959e_1e45_11ec_a8cc_0242ac130202row14_col15,#T_8c9d959e_1e45_11ec_a8cc_0242ac130202row15_col14{\n",
       "            background-color:  #b5cdfa;\n",
       "            color:  #000000;\n",
       "        }#T_8c9d959e_1e45_11ec_a8cc_0242ac130202row14_col18,#T_8c9d959e_1e45_11ec_a8cc_0242ac130202row18_col14{\n",
       "            background-color:  #d4dbe6;\n",
       "            color:  #000000;\n",
       "        }#T_8c9d959e_1e45_11ec_a8cc_0242ac130202row15_col17,#T_8c9d959e_1e45_11ec_a8cc_0242ac130202row17_col15{\n",
       "            background-color:  #84a7fc;\n",
       "            color:  #000000;\n",
       "        }#T_8c9d959e_1e45_11ec_a8cc_0242ac130202row15_col18,#T_8c9d959e_1e45_11ec_a8cc_0242ac130202row18_col15{\n",
       "            background-color:  #dbdcde;\n",
       "            color:  #000000;\n",
       "        }#T_8c9d959e_1e45_11ec_a8cc_0242ac130202row16_col18,#T_8c9d959e_1e45_11ec_a8cc_0242ac130202row18_col16{\n",
       "            background-color:  #94b6ff;\n",
       "            color:  #000000;\n",
       "        }</style><table id=\"T_8c9d959e_1e45_11ec_a8cc_0242ac130202\" ><thead>    <tr>        <th class=\"blank level0\" ></th>        <th class=\"col_heading level0 col0\" >Breathing Problem_Yes</th>        <th class=\"col_heading level0 col1\" >Fever_Yes</th>        <th class=\"col_heading level0 col2\" >Dry Cough_Yes</th>        <th class=\"col_heading level0 col3\" >Sore throat_Yes</th>        <th class=\"col_heading level0 col4\" >Running Nose_Yes</th>        <th class=\"col_heading level0 col5\" >Asthma_Yes</th>        <th class=\"col_heading level0 col6\" >Chronic Lung Disease_Yes</th>        <th class=\"col_heading level0 col7\" >Headache_Yes</th>        <th class=\"col_heading level0 col8\" >Heart Disease_Yes</th>        <th class=\"col_heading level0 col9\" >Diabetes_Yes</th>        <th class=\"col_heading level0 col10\" >Hyper Tension_Yes</th>        <th class=\"col_heading level0 col11\" >Fatigue _Yes</th>        <th class=\"col_heading level0 col12\" >Gastrointestinal _Yes</th>        <th class=\"col_heading level0 col13\" >Abroad travel_Yes</th>        <th class=\"col_heading level0 col14\" >Contact with COVID Patient_Yes</th>        <th class=\"col_heading level0 col15\" >Attended Large Gathering_Yes</th>        <th class=\"col_heading level0 col16\" >Visited Public Exposed Places_Yes</th>        <th class=\"col_heading level0 col17\" >Family working in Public Exposed Places_Yes</th>        <th class=\"col_heading level0 col18\" >COVID-19_Yes</th>    </tr></thead><tbody>\n",
       "                <tr>\n",
       "                        <th id=\"T_8c9d959e_1e45_11ec_a8cc_0242ac130202level0_row0\" class=\"row_heading level0 row0\" >Breathing Problem_Yes</th>\n",
       "                        <td id=\"T_8c9d959e_1e45_11ec_a8cc_0242ac130202row0_col0\" class=\"data row0 col0\" >1.000000</td>\n",
       "                        <td id=\"T_8c9d959e_1e45_11ec_a8cc_0242ac130202row0_col1\" class=\"data row0 col1\" >0.089903</td>\n",
       "                        <td id=\"T_8c9d959e_1e45_11ec_a8cc_0242ac130202row0_col2\" class=\"data row0 col2\" >0.159562</td>\n",
       "                        <td id=\"T_8c9d959e_1e45_11ec_a8cc_0242ac130202row0_col3\" class=\"data row0 col3\" >0.303768</td>\n",
       "                        <td id=\"T_8c9d959e_1e45_11ec_a8cc_0242ac130202row0_col4\" class=\"data row0 col4\" >0.055190</td>\n",
       "                        <td id=\"T_8c9d959e_1e45_11ec_a8cc_0242ac130202row0_col5\" class=\"data row0 col5\" >0.075318</td>\n",
       "                        <td id=\"T_8c9d959e_1e45_11ec_a8cc_0242ac130202row0_col6\" class=\"data row0 col6\" >-0.098291</td>\n",
       "                        <td id=\"T_8c9d959e_1e45_11ec_a8cc_0242ac130202row0_col7\" class=\"data row0 col7\" >-0.062172</td>\n",
       "                        <td id=\"T_8c9d959e_1e45_11ec_a8cc_0242ac130202row0_col8\" class=\"data row0 col8\" >-0.073366</td>\n",
       "                        <td id=\"T_8c9d959e_1e45_11ec_a8cc_0242ac130202row0_col9\" class=\"data row0 col9\" >0.055427</td>\n",
       "                        <td id=\"T_8c9d959e_1e45_11ec_a8cc_0242ac130202row0_col10\" class=\"data row0 col10\" >0.045256</td>\n",
       "                        <td id=\"T_8c9d959e_1e45_11ec_a8cc_0242ac130202row0_col11\" class=\"data row0 col11\" >0.000561</td>\n",
       "                        <td id=\"T_8c9d959e_1e45_11ec_a8cc_0242ac130202row0_col12\" class=\"data row0 col12\" >-0.075390</td>\n",
       "                        <td id=\"T_8c9d959e_1e45_11ec_a8cc_0242ac130202row0_col13\" class=\"data row0 col13\" >0.117795</td>\n",
       "                        <td id=\"T_8c9d959e_1e45_11ec_a8cc_0242ac130202row0_col14\" class=\"data row0 col14\" >0.214634</td>\n",
       "                        <td id=\"T_8c9d959e_1e45_11ec_a8cc_0242ac130202row0_col15\" class=\"data row0 col15\" >0.200304</td>\n",
       "                        <td id=\"T_8c9d959e_1e45_11ec_a8cc_0242ac130202row0_col16\" class=\"data row0 col16\" >0.066688</td>\n",
       "                        <td id=\"T_8c9d959e_1e45_11ec_a8cc_0242ac130202row0_col17\" class=\"data row0 col17\" >0.018295</td>\n",
       "                        <td id=\"T_8c9d959e_1e45_11ec_a8cc_0242ac130202row0_col18\" class=\"data row0 col18\" >0.443764</td>\n",
       "            </tr>\n",
       "            <tr>\n",
       "                        <th id=\"T_8c9d959e_1e45_11ec_a8cc_0242ac130202level0_row1\" class=\"row_heading level0 row1\" >Fever_Yes</th>\n",
       "                        <td id=\"T_8c9d959e_1e45_11ec_a8cc_0242ac130202row1_col0\" class=\"data row1 col0\" >0.089903</td>\n",
       "                        <td id=\"T_8c9d959e_1e45_11ec_a8cc_0242ac130202row1_col1\" class=\"data row1 col1\" >1.000000</td>\n",
       "                        <td id=\"T_8c9d959e_1e45_11ec_a8cc_0242ac130202row1_col2\" class=\"data row1 col2\" >0.127580</td>\n",
       "                        <td id=\"T_8c9d959e_1e45_11ec_a8cc_0242ac130202row1_col3\" class=\"data row1 col3\" >0.322235</td>\n",
       "                        <td id=\"T_8c9d959e_1e45_11ec_a8cc_0242ac130202row1_col4\" class=\"data row1 col4\" >0.081758</td>\n",
       "                        <td id=\"T_8c9d959e_1e45_11ec_a8cc_0242ac130202row1_col5\" class=\"data row1 col5\" >0.073953</td>\n",
       "                        <td id=\"T_8c9d959e_1e45_11ec_a8cc_0242ac130202row1_col6\" class=\"data row1 col6\" >-0.025160</td>\n",
       "                        <td id=\"T_8c9d959e_1e45_11ec_a8cc_0242ac130202row1_col7\" class=\"data row1 col7\" >-0.035416</td>\n",
       "                        <td id=\"T_8c9d959e_1e45_11ec_a8cc_0242ac130202row1_col8\" class=\"data row1 col8\" >-0.031462</td>\n",
       "                        <td id=\"T_8c9d959e_1e45_11ec_a8cc_0242ac130202row1_col9\" class=\"data row1 col9\" >0.050286</td>\n",
       "                        <td id=\"T_8c9d959e_1e45_11ec_a8cc_0242ac130202row1_col10\" class=\"data row1 col10\" >0.079001</td>\n",
       "                        <td id=\"T_8c9d959e_1e45_11ec_a8cc_0242ac130202row1_col11\" class=\"data row1 col11\" >-0.060458</td>\n",
       "                        <td id=\"T_8c9d959e_1e45_11ec_a8cc_0242ac130202row1_col12\" class=\"data row1 col12\" >-0.008067</td>\n",
       "                        <td id=\"T_8c9d959e_1e45_11ec_a8cc_0242ac130202row1_col13\" class=\"data row1 col13\" >0.128726</td>\n",
       "                        <td id=\"T_8c9d959e_1e45_11ec_a8cc_0242ac130202row1_col14\" class=\"data row1 col14\" >0.164704</td>\n",
       "                        <td id=\"T_8c9d959e_1e45_11ec_a8cc_0242ac130202row1_col15\" class=\"data row1 col15\" >0.070490</td>\n",
       "                        <td id=\"T_8c9d959e_1e45_11ec_a8cc_0242ac130202row1_col16\" class=\"data row1 col16\" >0.002252</td>\n",
       "                        <td id=\"T_8c9d959e_1e45_11ec_a8cc_0242ac130202row1_col17\" class=\"data row1 col17\" >0.012102</td>\n",
       "                        <td id=\"T_8c9d959e_1e45_11ec_a8cc_0242ac130202row1_col18\" class=\"data row1 col18\" >0.352891</td>\n",
       "            </tr>\n",
       "            <tr>\n",
       "                        <th id=\"T_8c9d959e_1e45_11ec_a8cc_0242ac130202level0_row2\" class=\"row_heading level0 row2\" >Dry Cough_Yes</th>\n",
       "                        <td id=\"T_8c9d959e_1e45_11ec_a8cc_0242ac130202row2_col0\" class=\"data row2 col0\" >0.159562</td>\n",
       "                        <td id=\"T_8c9d959e_1e45_11ec_a8cc_0242ac130202row2_col1\" class=\"data row2 col1\" >0.127580</td>\n",
       "                        <td id=\"T_8c9d959e_1e45_11ec_a8cc_0242ac130202row2_col2\" class=\"data row2 col2\" >1.000000</td>\n",
       "                        <td id=\"T_8c9d959e_1e45_11ec_a8cc_0242ac130202row2_col3\" class=\"data row2 col3\" >0.213907</td>\n",
       "                        <td id=\"T_8c9d959e_1e45_11ec_a8cc_0242ac130202row2_col4\" class=\"data row2 col4\" >-0.030763</td>\n",
       "                        <td id=\"T_8c9d959e_1e45_11ec_a8cc_0242ac130202row2_col5\" class=\"data row2 col5\" >0.086843</td>\n",
       "                        <td id=\"T_8c9d959e_1e45_11ec_a8cc_0242ac130202row2_col6\" class=\"data row2 col6\" >-0.043664</td>\n",
       "                        <td id=\"T_8c9d959e_1e45_11ec_a8cc_0242ac130202row2_col7\" class=\"data row2 col7\" >-0.035912</td>\n",
       "                        <td id=\"T_8c9d959e_1e45_11ec_a8cc_0242ac130202row2_col8\" class=\"data row2 col8\" >0.047566</td>\n",
       "                        <td id=\"T_8c9d959e_1e45_11ec_a8cc_0242ac130202row2_col9\" class=\"data row2 col9\" >-0.006593</td>\n",
       "                        <td id=\"T_8c9d959e_1e45_11ec_a8cc_0242ac130202row2_col10\" class=\"data row2 col10\" >0.081989</td>\n",
       "                        <td id=\"T_8c9d959e_1e45_11ec_a8cc_0242ac130202row2_col11\" class=\"data row2 col11\" >-0.039909</td>\n",
       "                        <td id=\"T_8c9d959e_1e45_11ec_a8cc_0242ac130202row2_col12\" class=\"data row2 col12\" >0.008251</td>\n",
       "                        <td id=\"T_8c9d959e_1e45_11ec_a8cc_0242ac130202row2_col13\" class=\"data row2 col13\" >0.331418</td>\n",
       "                        <td id=\"T_8c9d959e_1e45_11ec_a8cc_0242ac130202row2_col14\" class=\"data row2 col14\" >0.128330</td>\n",
       "                        <td id=\"T_8c9d959e_1e45_11ec_a8cc_0242ac130202row2_col15\" class=\"data row2 col15\" >0.117963</td>\n",
       "                        <td id=\"T_8c9d959e_1e45_11ec_a8cc_0242ac130202row2_col16\" class=\"data row2 col16\" >0.086176</td>\n",
       "                        <td id=\"T_8c9d959e_1e45_11ec_a8cc_0242ac130202row2_col17\" class=\"data row2 col17\" >0.163102</td>\n",
       "                        <td id=\"T_8c9d959e_1e45_11ec_a8cc_0242ac130202row2_col18\" class=\"data row2 col18\" >0.464292</td>\n",
       "            </tr>\n",
       "            <tr>\n",
       "                        <th id=\"T_8c9d959e_1e45_11ec_a8cc_0242ac130202level0_row3\" class=\"row_heading level0 row3\" >Sore throat_Yes</th>\n",
       "                        <td id=\"T_8c9d959e_1e45_11ec_a8cc_0242ac130202row3_col0\" class=\"data row3 col0\" >0.303768</td>\n",
       "                        <td id=\"T_8c9d959e_1e45_11ec_a8cc_0242ac130202row3_col1\" class=\"data row3 col1\" >0.322235</td>\n",
       "                        <td id=\"T_8c9d959e_1e45_11ec_a8cc_0242ac130202row3_col2\" class=\"data row3 col2\" >0.213907</td>\n",
       "                        <td id=\"T_8c9d959e_1e45_11ec_a8cc_0242ac130202row3_col3\" class=\"data row3 col3\" >1.000000</td>\n",
       "                        <td id=\"T_8c9d959e_1e45_11ec_a8cc_0242ac130202row3_col4\" class=\"data row3 col4\" >0.039450</td>\n",
       "                        <td id=\"T_8c9d959e_1e45_11ec_a8cc_0242ac130202row3_col5\" class=\"data row3 col5\" >0.081377</td>\n",
       "                        <td id=\"T_8c9d959e_1e45_11ec_a8cc_0242ac130202row3_col6\" class=\"data row3 col6\" >-0.050440</td>\n",
       "                        <td id=\"T_8c9d959e_1e45_11ec_a8cc_0242ac130202row3_col7\" class=\"data row3 col7\" >-0.015971</td>\n",
       "                        <td id=\"T_8c9d959e_1e45_11ec_a8cc_0242ac130202row3_col8\" class=\"data row3 col8\" >0.002177</td>\n",
       "                        <td id=\"T_8c9d959e_1e45_11ec_a8cc_0242ac130202row3_col9\" class=\"data row3 col9\" >0.001938</td>\n",
       "                        <td id=\"T_8c9d959e_1e45_11ec_a8cc_0242ac130202row3_col10\" class=\"data row3 col10\" >0.042811</td>\n",
       "                        <td id=\"T_8c9d959e_1e45_11ec_a8cc_0242ac130202row3_col11\" class=\"data row3 col11\" >-0.023290</td>\n",
       "                        <td id=\"T_8c9d959e_1e45_11ec_a8cc_0242ac130202row3_col12\" class=\"data row3 col12\" >0.025886</td>\n",
       "                        <td id=\"T_8c9d959e_1e45_11ec_a8cc_0242ac130202row3_col13\" class=\"data row3 col13\" >0.205986</td>\n",
       "                        <td id=\"T_8c9d959e_1e45_11ec_a8cc_0242ac130202row3_col14\" class=\"data row3 col14\" >0.189251</td>\n",
       "                        <td id=\"T_8c9d959e_1e45_11ec_a8cc_0242ac130202row3_col15\" class=\"data row3 col15\" >0.216438</td>\n",
       "                        <td id=\"T_8c9d959e_1e45_11ec_a8cc_0242ac130202row3_col16\" class=\"data row3 col16\" >0.079055</td>\n",
       "                        <td id=\"T_8c9d959e_1e45_11ec_a8cc_0242ac130202row3_col17\" class=\"data row3 col17\" >0.104378</td>\n",
       "                        <td id=\"T_8c9d959e_1e45_11ec_a8cc_0242ac130202row3_col18\" class=\"data row3 col18\" >0.502848</td>\n",
       "            </tr>\n",
       "            <tr>\n",
       "                        <th id=\"T_8c9d959e_1e45_11ec_a8cc_0242ac130202level0_row4\" class=\"row_heading level0 row4\" >Running Nose_Yes</th>\n",
       "                        <td id=\"T_8c9d959e_1e45_11ec_a8cc_0242ac130202row4_col0\" class=\"data row4 col0\" >0.055190</td>\n",
       "                        <td id=\"T_8c9d959e_1e45_11ec_a8cc_0242ac130202row4_col1\" class=\"data row4 col1\" >0.081758</td>\n",
       "                        <td id=\"T_8c9d959e_1e45_11ec_a8cc_0242ac130202row4_col2\" class=\"data row4 col2\" >-0.030763</td>\n",
       "                        <td id=\"T_8c9d959e_1e45_11ec_a8cc_0242ac130202row4_col3\" class=\"data row4 col3\" >0.039450</td>\n",
       "                        <td id=\"T_8c9d959e_1e45_11ec_a8cc_0242ac130202row4_col4\" class=\"data row4 col4\" >1.000000</td>\n",
       "                        <td id=\"T_8c9d959e_1e45_11ec_a8cc_0242ac130202row4_col5\" class=\"data row4 col5\" >-0.022763</td>\n",
       "                        <td id=\"T_8c9d959e_1e45_11ec_a8cc_0242ac130202row4_col6\" class=\"data row4 col6\" >-0.014376</td>\n",
       "                        <td id=\"T_8c9d959e_1e45_11ec_a8cc_0242ac130202row4_col7\" class=\"data row4 col7\" >0.068479</td>\n",
       "                        <td id=\"T_8c9d959e_1e45_11ec_a8cc_0242ac130202row4_col8\" class=\"data row4 col8\" >-0.056750</td>\n",
       "                        <td id=\"T_8c9d959e_1e45_11ec_a8cc_0242ac130202row4_col9\" class=\"data row4 col9\" >0.042961</td>\n",
       "                        <td id=\"T_8c9d959e_1e45_11ec_a8cc_0242ac130202row4_col10\" class=\"data row4 col10\" >-0.020445</td>\n",
       "                        <td id=\"T_8c9d959e_1e45_11ec_a8cc_0242ac130202row4_col11\" class=\"data row4 col11\" >0.007026</td>\n",
       "                        <td id=\"T_8c9d959e_1e45_11ec_a8cc_0242ac130202row4_col12\" class=\"data row4 col12\" >-0.014673</td>\n",
       "                        <td id=\"T_8c9d959e_1e45_11ec_a8cc_0242ac130202row4_col13\" class=\"data row4 col13\" >0.034526</td>\n",
       "                        <td id=\"T_8c9d959e_1e45_11ec_a8cc_0242ac130202row4_col14\" class=\"data row4 col14\" >0.003776</td>\n",
       "                        <td id=\"T_8c9d959e_1e45_11ec_a8cc_0242ac130202row4_col15\" class=\"data row4 col15\" >0.061099</td>\n",
       "                        <td id=\"T_8c9d959e_1e45_11ec_a8cc_0242ac130202row4_col16\" class=\"data row4 col16\" >0.032568</td>\n",
       "                        <td id=\"T_8c9d959e_1e45_11ec_a8cc_0242ac130202row4_col17\" class=\"data row4 col17\" >-0.061323</td>\n",
       "                        <td id=\"T_8c9d959e_1e45_11ec_a8cc_0242ac130202row4_col18\" class=\"data row4 col18\" >-0.005657</td>\n",
       "            </tr>\n",
       "            <tr>\n",
       "                        <th id=\"T_8c9d959e_1e45_11ec_a8cc_0242ac130202level0_row5\" class=\"row_heading level0 row5\" >Asthma_Yes</th>\n",
       "                        <td id=\"T_8c9d959e_1e45_11ec_a8cc_0242ac130202row5_col0\" class=\"data row5 col0\" >0.075318</td>\n",
       "                        <td id=\"T_8c9d959e_1e45_11ec_a8cc_0242ac130202row5_col1\" class=\"data row5 col1\" >0.073953</td>\n",
       "                        <td id=\"T_8c9d959e_1e45_11ec_a8cc_0242ac130202row5_col2\" class=\"data row5 col2\" >0.086843</td>\n",
       "                        <td id=\"T_8c9d959e_1e45_11ec_a8cc_0242ac130202row5_col3\" class=\"data row5 col3\" >0.081377</td>\n",
       "                        <td id=\"T_8c9d959e_1e45_11ec_a8cc_0242ac130202row5_col4\" class=\"data row5 col4\" >-0.022763</td>\n",
       "                        <td id=\"T_8c9d959e_1e45_11ec_a8cc_0242ac130202row5_col5\" class=\"data row5 col5\" >1.000000</td>\n",
       "                        <td id=\"T_8c9d959e_1e45_11ec_a8cc_0242ac130202row5_col6\" class=\"data row5 col6\" >-0.033771</td>\n",
       "                        <td id=\"T_8c9d959e_1e45_11ec_a8cc_0242ac130202row5_col7\" class=\"data row5 col7\" >0.037064</td>\n",
       "                        <td id=\"T_8c9d959e_1e45_11ec_a8cc_0242ac130202row5_col8\" class=\"data row5 col8\" >0.076783</td>\n",
       "                        <td id=\"T_8c9d959e_1e45_11ec_a8cc_0242ac130202row5_col9\" class=\"data row5 col9\" >-0.012060</td>\n",
       "                        <td id=\"T_8c9d959e_1e45_11ec_a8cc_0242ac130202row5_col10\" class=\"data row5 col10\" >0.017707</td>\n",
       "                        <td id=\"T_8c9d959e_1e45_11ec_a8cc_0242ac130202row5_col11\" class=\"data row5 col11\" >0.006564</td>\n",
       "                        <td id=\"T_8c9d959e_1e45_11ec_a8cc_0242ac130202row5_col12\" class=\"data row5 col12\" >0.101909</td>\n",
       "                        <td id=\"T_8c9d959e_1e45_11ec_a8cc_0242ac130202row5_col13\" class=\"data row5 col13\" >0.068286</td>\n",
       "                        <td id=\"T_8c9d959e_1e45_11ec_a8cc_0242ac130202row5_col14\" class=\"data row5 col14\" >0.005046</td>\n",
       "                        <td id=\"T_8c9d959e_1e45_11ec_a8cc_0242ac130202row5_col15\" class=\"data row5 col15\" >-0.044592</td>\n",
       "                        <td id=\"T_8c9d959e_1e45_11ec_a8cc_0242ac130202row5_col16\" class=\"data row5 col16\" >0.020941</td>\n",
       "                        <td id=\"T_8c9d959e_1e45_11ec_a8cc_0242ac130202row5_col17\" class=\"data row5 col17\" >-0.115679</td>\n",
       "                        <td id=\"T_8c9d959e_1e45_11ec_a8cc_0242ac130202row5_col18\" class=\"data row5 col18\" >0.089930</td>\n",
       "            </tr>\n",
       "            <tr>\n",
       "                        <th id=\"T_8c9d959e_1e45_11ec_a8cc_0242ac130202level0_row6\" class=\"row_heading level0 row6\" >Chronic Lung Disease_Yes</th>\n",
       "                        <td id=\"T_8c9d959e_1e45_11ec_a8cc_0242ac130202row6_col0\" class=\"data row6 col0\" >-0.098291</td>\n",
       "                        <td id=\"T_8c9d959e_1e45_11ec_a8cc_0242ac130202row6_col1\" class=\"data row6 col1\" >-0.025160</td>\n",
       "                        <td id=\"T_8c9d959e_1e45_11ec_a8cc_0242ac130202row6_col2\" class=\"data row6 col2\" >-0.043664</td>\n",
       "                        <td id=\"T_8c9d959e_1e45_11ec_a8cc_0242ac130202row6_col3\" class=\"data row6 col3\" >-0.050440</td>\n",
       "                        <td id=\"T_8c9d959e_1e45_11ec_a8cc_0242ac130202row6_col4\" class=\"data row6 col4\" >-0.014376</td>\n",
       "                        <td id=\"T_8c9d959e_1e45_11ec_a8cc_0242ac130202row6_col5\" class=\"data row6 col5\" >-0.033771</td>\n",
       "                        <td id=\"T_8c9d959e_1e45_11ec_a8cc_0242ac130202row6_col6\" class=\"data row6 col6\" >1.000000</td>\n",
       "                        <td id=\"T_8c9d959e_1e45_11ec_a8cc_0242ac130202row6_col7\" class=\"data row6 col7\" >-0.050480</td>\n",
       "                        <td id=\"T_8c9d959e_1e45_11ec_a8cc_0242ac130202row6_col8\" class=\"data row6 col8\" >-0.039860</td>\n",
       "                        <td id=\"T_8c9d959e_1e45_11ec_a8cc_0242ac130202row6_col9\" class=\"data row6 col9\" >0.046789</td>\n",
       "                        <td id=\"T_8c9d959e_1e45_11ec_a8cc_0242ac130202row6_col10\" class=\"data row6 col10\" >-0.010331</td>\n",
       "                        <td id=\"T_8c9d959e_1e45_11ec_a8cc_0242ac130202row6_col11\" class=\"data row6 col11\" >-0.047655</td>\n",
       "                        <td id=\"T_8c9d959e_1e45_11ec_a8cc_0242ac130202row6_col12\" class=\"data row6 col12\" >-0.050333</td>\n",
       "                        <td id=\"T_8c9d959e_1e45_11ec_a8cc_0242ac130202row6_col13\" class=\"data row6 col13\" >-0.088854</td>\n",
       "                        <td id=\"T_8c9d959e_1e45_11ec_a8cc_0242ac130202row6_col14\" class=\"data row6 col14\" >-0.062482</td>\n",
       "                        <td id=\"T_8c9d959e_1e45_11ec_a8cc_0242ac130202row6_col15\" class=\"data row6 col15\" >-0.020548</td>\n",
       "                        <td id=\"T_8c9d959e_1e45_11ec_a8cc_0242ac130202row6_col16\" class=\"data row6 col16\" >-0.093049</td>\n",
       "                        <td id=\"T_8c9d959e_1e45_11ec_a8cc_0242ac130202row6_col17\" class=\"data row6 col17\" >0.038343</td>\n",
       "                        <td id=\"T_8c9d959e_1e45_11ec_a8cc_0242ac130202row6_col18\" class=\"data row6 col18\" >-0.056837</td>\n",
       "            </tr>\n",
       "            <tr>\n",
       "                        <th id=\"T_8c9d959e_1e45_11ec_a8cc_0242ac130202level0_row7\" class=\"row_heading level0 row7\" >Headache_Yes</th>\n",
       "                        <td id=\"T_8c9d959e_1e45_11ec_a8cc_0242ac130202row7_col0\" class=\"data row7 col0\" >-0.062172</td>\n",
       "                        <td id=\"T_8c9d959e_1e45_11ec_a8cc_0242ac130202row7_col1\" class=\"data row7 col1\" >-0.035416</td>\n",
       "                        <td id=\"T_8c9d959e_1e45_11ec_a8cc_0242ac130202row7_col2\" class=\"data row7 col2\" >-0.035912</td>\n",
       "                        <td id=\"T_8c9d959e_1e45_11ec_a8cc_0242ac130202row7_col3\" class=\"data row7 col3\" >-0.015971</td>\n",
       "                        <td id=\"T_8c9d959e_1e45_11ec_a8cc_0242ac130202row7_col4\" class=\"data row7 col4\" >0.068479</td>\n",
       "                        <td id=\"T_8c9d959e_1e45_11ec_a8cc_0242ac130202row7_col5\" class=\"data row7 col5\" >0.037064</td>\n",
       "                        <td id=\"T_8c9d959e_1e45_11ec_a8cc_0242ac130202row7_col6\" class=\"data row7 col6\" >-0.050480</td>\n",
       "                        <td id=\"T_8c9d959e_1e45_11ec_a8cc_0242ac130202row7_col7\" class=\"data row7 col7\" >1.000000</td>\n",
       "                        <td id=\"T_8c9d959e_1e45_11ec_a8cc_0242ac130202row7_col8\" class=\"data row7 col8\" >0.048471</td>\n",
       "                        <td id=\"T_8c9d959e_1e45_11ec_a8cc_0242ac130202row7_col9\" class=\"data row7 col9\" >0.032390</td>\n",
       "                        <td id=\"T_8c9d959e_1e45_11ec_a8cc_0242ac130202row7_col10\" class=\"data row7 col10\" >-0.207489</td>\n",
       "                        <td id=\"T_8c9d959e_1e45_11ec_a8cc_0242ac130202row7_col11\" class=\"data row7 col11\" >0.052035</td>\n",
       "                        <td id=\"T_8c9d959e_1e45_11ec_a8cc_0242ac130202row7_col12\" class=\"data row7 col12\" >0.097778</td>\n",
       "                        <td id=\"T_8c9d959e_1e45_11ec_a8cc_0242ac130202row7_col13\" class=\"data row7 col13\" >0.043589</td>\n",
       "                        <td id=\"T_8c9d959e_1e45_11ec_a8cc_0242ac130202row7_col14\" class=\"data row7 col14\" >-0.082101</td>\n",
       "                        <td id=\"T_8c9d959e_1e45_11ec_a8cc_0242ac130202row7_col15\" class=\"data row7 col15\" >-0.162992</td>\n",
       "                        <td id=\"T_8c9d959e_1e45_11ec_a8cc_0242ac130202row7_col16\" class=\"data row7 col16\" >-0.005790</td>\n",
       "                        <td id=\"T_8c9d959e_1e45_11ec_a8cc_0242ac130202row7_col17\" class=\"data row7 col17\" >-0.012625</td>\n",
       "                        <td id=\"T_8c9d959e_1e45_11ec_a8cc_0242ac130202row7_col18\" class=\"data row7 col18\" >-0.027793</td>\n",
       "            </tr>\n",
       "            <tr>\n",
       "                        <th id=\"T_8c9d959e_1e45_11ec_a8cc_0242ac130202level0_row8\" class=\"row_heading level0 row8\" >Heart Disease_Yes</th>\n",
       "                        <td id=\"T_8c9d959e_1e45_11ec_a8cc_0242ac130202row8_col0\" class=\"data row8 col0\" >-0.073366</td>\n",
       "                        <td id=\"T_8c9d959e_1e45_11ec_a8cc_0242ac130202row8_col1\" class=\"data row8 col1\" >-0.031462</td>\n",
       "                        <td id=\"T_8c9d959e_1e45_11ec_a8cc_0242ac130202row8_col2\" class=\"data row8 col2\" >0.047566</td>\n",
       "                        <td id=\"T_8c9d959e_1e45_11ec_a8cc_0242ac130202row8_col3\" class=\"data row8 col3\" >0.002177</td>\n",
       "                        <td id=\"T_8c9d959e_1e45_11ec_a8cc_0242ac130202row8_col4\" class=\"data row8 col4\" >-0.056750</td>\n",
       "                        <td id=\"T_8c9d959e_1e45_11ec_a8cc_0242ac130202row8_col5\" class=\"data row8 col5\" >0.076783</td>\n",
       "                        <td id=\"T_8c9d959e_1e45_11ec_a8cc_0242ac130202row8_col6\" class=\"data row8 col6\" >-0.039860</td>\n",
       "                        <td id=\"T_8c9d959e_1e45_11ec_a8cc_0242ac130202row8_col7\" class=\"data row8 col7\" >0.048471</td>\n",
       "                        <td id=\"T_8c9d959e_1e45_11ec_a8cc_0242ac130202row8_col8\" class=\"data row8 col8\" >1.000000</td>\n",
       "                        <td id=\"T_8c9d959e_1e45_11ec_a8cc_0242ac130202row8_col9\" class=\"data row8 col9\" >-0.032956</td>\n",
       "                        <td id=\"T_8c9d959e_1e45_11ec_a8cc_0242ac130202row8_col10\" class=\"data row8 col10\" >0.049139</td>\n",
       "                        <td id=\"T_8c9d959e_1e45_11ec_a8cc_0242ac130202row8_col11\" class=\"data row8 col11\" >-0.058925</td>\n",
       "                        <td id=\"T_8c9d959e_1e45_11ec_a8cc_0242ac130202row8_col12\" class=\"data row8 col12\" >0.004121</td>\n",
       "                        <td id=\"T_8c9d959e_1e45_11ec_a8cc_0242ac130202row8_col13\" class=\"data row8 col13\" >-0.020761</td>\n",
       "                        <td id=\"T_8c9d959e_1e45_11ec_a8cc_0242ac130202row8_col14\" class=\"data row8 col14\" >-0.025593</td>\n",
       "                        <td id=\"T_8c9d959e_1e45_11ec_a8cc_0242ac130202row8_col15\" class=\"data row8 col15\" >-0.045437</td>\n",
       "                        <td id=\"T_8c9d959e_1e45_11ec_a8cc_0242ac130202row8_col16\" class=\"data row8 col16\" >0.086169</td>\n",
       "                        <td id=\"T_8c9d959e_1e45_11ec_a8cc_0242ac130202row8_col17\" class=\"data row8 col17\" >0.035000</td>\n",
       "                        <td id=\"T_8c9d959e_1e45_11ec_a8cc_0242ac130202row8_col18\" class=\"data row8 col18\" >0.027072</td>\n",
       "            </tr>\n",
       "            <tr>\n",
       "                        <th id=\"T_8c9d959e_1e45_11ec_a8cc_0242ac130202level0_row9\" class=\"row_heading level0 row9\" >Diabetes_Yes</th>\n",
       "                        <td id=\"T_8c9d959e_1e45_11ec_a8cc_0242ac130202row9_col0\" class=\"data row9 col0\" >0.055427</td>\n",
       "                        <td id=\"T_8c9d959e_1e45_11ec_a8cc_0242ac130202row9_col1\" class=\"data row9 col1\" >0.050286</td>\n",
       "                        <td id=\"T_8c9d959e_1e45_11ec_a8cc_0242ac130202row9_col2\" class=\"data row9 col2\" >-0.006593</td>\n",
       "                        <td id=\"T_8c9d959e_1e45_11ec_a8cc_0242ac130202row9_col3\" class=\"data row9 col3\" >0.001938</td>\n",
       "                        <td id=\"T_8c9d959e_1e45_11ec_a8cc_0242ac130202row9_col4\" class=\"data row9 col4\" >0.042961</td>\n",
       "                        <td id=\"T_8c9d959e_1e45_11ec_a8cc_0242ac130202row9_col5\" class=\"data row9 col5\" >-0.012060</td>\n",
       "                        <td id=\"T_8c9d959e_1e45_11ec_a8cc_0242ac130202row9_col6\" class=\"data row9 col6\" >0.046789</td>\n",
       "                        <td id=\"T_8c9d959e_1e45_11ec_a8cc_0242ac130202row9_col7\" class=\"data row9 col7\" >0.032390</td>\n",
       "                        <td id=\"T_8c9d959e_1e45_11ec_a8cc_0242ac130202row9_col8\" class=\"data row9 col8\" >-0.032956</td>\n",
       "                        <td id=\"T_8c9d959e_1e45_11ec_a8cc_0242ac130202row9_col9\" class=\"data row9 col9\" >1.000000</td>\n",
       "                        <td id=\"T_8c9d959e_1e45_11ec_a8cc_0242ac130202row9_col10\" class=\"data row9 col10\" >0.042543</td>\n",
       "                        <td id=\"T_8c9d959e_1e45_11ec_a8cc_0242ac130202row9_col11\" class=\"data row9 col11\" >-0.043903</td>\n",
       "                        <td id=\"T_8c9d959e_1e45_11ec_a8cc_0242ac130202row9_col12\" class=\"data row9 col12\" >0.040651</td>\n",
       "                        <td id=\"T_8c9d959e_1e45_11ec_a8cc_0242ac130202row9_col13\" class=\"data row9 col13\" >0.039013</td>\n",
       "                        <td id=\"T_8c9d959e_1e45_11ec_a8cc_0242ac130202row9_col14\" class=\"data row9 col14\" >-0.085696</td>\n",
       "                        <td id=\"T_8c9d959e_1e45_11ec_a8cc_0242ac130202row9_col15\" class=\"data row9 col15\" >-0.061650</td>\n",
       "                        <td id=\"T_8c9d959e_1e45_11ec_a8cc_0242ac130202row9_col16\" class=\"data row9 col16\" >-0.078212</td>\n",
       "                        <td id=\"T_8c9d959e_1e45_11ec_a8cc_0242ac130202row9_col17\" class=\"data row9 col17\" >0.097696</td>\n",
       "                        <td id=\"T_8c9d959e_1e45_11ec_a8cc_0242ac130202row9_col18\" class=\"data row9 col18\" >0.040627</td>\n",
       "            </tr>\n",
       "            <tr>\n",
       "                        <th id=\"T_8c9d959e_1e45_11ec_a8cc_0242ac130202level0_row10\" class=\"row_heading level0 row10\" >Hyper Tension_Yes</th>\n",
       "                        <td id=\"T_8c9d959e_1e45_11ec_a8cc_0242ac130202row10_col0\" class=\"data row10 col0\" >0.045256</td>\n",
       "                        <td id=\"T_8c9d959e_1e45_11ec_a8cc_0242ac130202row10_col1\" class=\"data row10 col1\" >0.079001</td>\n",
       "                        <td id=\"T_8c9d959e_1e45_11ec_a8cc_0242ac130202row10_col2\" class=\"data row10 col2\" >0.081989</td>\n",
       "                        <td id=\"T_8c9d959e_1e45_11ec_a8cc_0242ac130202row10_col3\" class=\"data row10 col3\" >0.042811</td>\n",
       "                        <td id=\"T_8c9d959e_1e45_11ec_a8cc_0242ac130202row10_col4\" class=\"data row10 col4\" >-0.020445</td>\n",
       "                        <td id=\"T_8c9d959e_1e45_11ec_a8cc_0242ac130202row10_col5\" class=\"data row10 col5\" >0.017707</td>\n",
       "                        <td id=\"T_8c9d959e_1e45_11ec_a8cc_0242ac130202row10_col6\" class=\"data row10 col6\" >-0.010331</td>\n",
       "                        <td id=\"T_8c9d959e_1e45_11ec_a8cc_0242ac130202row10_col7\" class=\"data row10 col7\" >-0.207489</td>\n",
       "                        <td id=\"T_8c9d959e_1e45_11ec_a8cc_0242ac130202row10_col8\" class=\"data row10 col8\" >0.049139</td>\n",
       "                        <td id=\"T_8c9d959e_1e45_11ec_a8cc_0242ac130202row10_col9\" class=\"data row10 col9\" >0.042543</td>\n",
       "                        <td id=\"T_8c9d959e_1e45_11ec_a8cc_0242ac130202row10_col10\" class=\"data row10 col10\" >1.000000</td>\n",
       "                        <td id=\"T_8c9d959e_1e45_11ec_a8cc_0242ac130202row10_col11\" class=\"data row10 col11\" >-0.027605</td>\n",
       "                        <td id=\"T_8c9d959e_1e45_11ec_a8cc_0242ac130202row10_col12\" class=\"data row10 col12\" >-0.067972</td>\n",
       "                        <td id=\"T_8c9d959e_1e45_11ec_a8cc_0242ac130202row10_col13\" class=\"data row10 col13\" >-0.016382</td>\n",
       "                        <td id=\"T_8c9d959e_1e45_11ec_a8cc_0242ac130202row10_col14\" class=\"data row10 col14\" >0.027307</td>\n",
       "                        <td id=\"T_8c9d959e_1e45_11ec_a8cc_0242ac130202row10_col15\" class=\"data row10 col15\" >0.002911</td>\n",
       "                        <td id=\"T_8c9d959e_1e45_11ec_a8cc_0242ac130202row10_col16\" class=\"data row10 col16\" >0.019174</td>\n",
       "                        <td id=\"T_8c9d959e_1e45_11ec_a8cc_0242ac130202row10_col17\" class=\"data row10 col17\" >0.048152</td>\n",
       "                        <td id=\"T_8c9d959e_1e45_11ec_a8cc_0242ac130202row10_col18\" class=\"data row10 col18\" >0.102575</td>\n",
       "            </tr>\n",
       "            <tr>\n",
       "                        <th id=\"T_8c9d959e_1e45_11ec_a8cc_0242ac130202level0_row11\" class=\"row_heading level0 row11\" >Fatigue _Yes</th>\n",
       "                        <td id=\"T_8c9d959e_1e45_11ec_a8cc_0242ac130202row11_col0\" class=\"data row11 col0\" >0.000561</td>\n",
       "                        <td id=\"T_8c9d959e_1e45_11ec_a8cc_0242ac130202row11_col1\" class=\"data row11 col1\" >-0.060458</td>\n",
       "                        <td id=\"T_8c9d959e_1e45_11ec_a8cc_0242ac130202row11_col2\" class=\"data row11 col2\" >-0.039909</td>\n",
       "                        <td id=\"T_8c9d959e_1e45_11ec_a8cc_0242ac130202row11_col3\" class=\"data row11 col3\" >-0.023290</td>\n",
       "                        <td id=\"T_8c9d959e_1e45_11ec_a8cc_0242ac130202row11_col4\" class=\"data row11 col4\" >0.007026</td>\n",
       "                        <td id=\"T_8c9d959e_1e45_11ec_a8cc_0242ac130202row11_col5\" class=\"data row11 col5\" >0.006564</td>\n",
       "                        <td id=\"T_8c9d959e_1e45_11ec_a8cc_0242ac130202row11_col6\" class=\"data row11 col6\" >-0.047655</td>\n",
       "                        <td id=\"T_8c9d959e_1e45_11ec_a8cc_0242ac130202row11_col7\" class=\"data row11 col7\" >0.052035</td>\n",
       "                        <td id=\"T_8c9d959e_1e45_11ec_a8cc_0242ac130202row11_col8\" class=\"data row11 col8\" >-0.058925</td>\n",
       "                        <td id=\"T_8c9d959e_1e45_11ec_a8cc_0242ac130202row11_col9\" class=\"data row11 col9\" >-0.043903</td>\n",
       "                        <td id=\"T_8c9d959e_1e45_11ec_a8cc_0242ac130202row11_col10\" class=\"data row11 col10\" >-0.027605</td>\n",
       "                        <td id=\"T_8c9d959e_1e45_11ec_a8cc_0242ac130202row11_col11\" class=\"data row11 col11\" >1.000000</td>\n",
       "                        <td id=\"T_8c9d959e_1e45_11ec_a8cc_0242ac130202row11_col12\" class=\"data row11 col12\" >0.009356</td>\n",
       "                        <td id=\"T_8c9d959e_1e45_11ec_a8cc_0242ac130202row11_col13\" class=\"data row11 col13\" >-0.068401</td>\n",
       "                        <td id=\"T_8c9d959e_1e45_11ec_a8cc_0242ac130202row11_col14\" class=\"data row11 col14\" >-0.027383</td>\n",
       "                        <td id=\"T_8c9d959e_1e45_11ec_a8cc_0242ac130202row11_col15\" class=\"data row11 col15\" >-0.031058</td>\n",
       "                        <td id=\"T_8c9d959e_1e45_11ec_a8cc_0242ac130202row11_col16\" class=\"data row11 col16\" >-0.009562</td>\n",
       "                        <td id=\"T_8c9d959e_1e45_11ec_a8cc_0242ac130202row11_col17\" class=\"data row11 col17\" >-0.025623</td>\n",
       "                        <td id=\"T_8c9d959e_1e45_11ec_a8cc_0242ac130202row11_col18\" class=\"data row11 col18\" >-0.044188</td>\n",
       "            </tr>\n",
       "            <tr>\n",
       "                        <th id=\"T_8c9d959e_1e45_11ec_a8cc_0242ac130202level0_row12\" class=\"row_heading level0 row12\" >Gastrointestinal _Yes</th>\n",
       "                        <td id=\"T_8c9d959e_1e45_11ec_a8cc_0242ac130202row12_col0\" class=\"data row12 col0\" >-0.075390</td>\n",
       "                        <td id=\"T_8c9d959e_1e45_11ec_a8cc_0242ac130202row12_col1\" class=\"data row12 col1\" >-0.008067</td>\n",
       "                        <td id=\"T_8c9d959e_1e45_11ec_a8cc_0242ac130202row12_col2\" class=\"data row12 col2\" >0.008251</td>\n",
       "                        <td id=\"T_8c9d959e_1e45_11ec_a8cc_0242ac130202row12_col3\" class=\"data row12 col3\" >0.025886</td>\n",
       "                        <td id=\"T_8c9d959e_1e45_11ec_a8cc_0242ac130202row12_col4\" class=\"data row12 col4\" >-0.014673</td>\n",
       "                        <td id=\"T_8c9d959e_1e45_11ec_a8cc_0242ac130202row12_col5\" class=\"data row12 col5\" >0.101909</td>\n",
       "                        <td id=\"T_8c9d959e_1e45_11ec_a8cc_0242ac130202row12_col6\" class=\"data row12 col6\" >-0.050333</td>\n",
       "                        <td id=\"T_8c9d959e_1e45_11ec_a8cc_0242ac130202row12_col7\" class=\"data row12 col7\" >0.097778</td>\n",
       "                        <td id=\"T_8c9d959e_1e45_11ec_a8cc_0242ac130202row12_col8\" class=\"data row12 col8\" >0.004121</td>\n",
       "                        <td id=\"T_8c9d959e_1e45_11ec_a8cc_0242ac130202row12_col9\" class=\"data row12 col9\" >0.040651</td>\n",
       "                        <td id=\"T_8c9d959e_1e45_11ec_a8cc_0242ac130202row12_col10\" class=\"data row12 col10\" >-0.067972</td>\n",
       "                        <td id=\"T_8c9d959e_1e45_11ec_a8cc_0242ac130202row12_col11\" class=\"data row12 col11\" >0.009356</td>\n",
       "                        <td id=\"T_8c9d959e_1e45_11ec_a8cc_0242ac130202row12_col12\" class=\"data row12 col12\" >1.000000</td>\n",
       "                        <td id=\"T_8c9d959e_1e45_11ec_a8cc_0242ac130202row12_col13\" class=\"data row12 col13\" >0.099577</td>\n",
       "                        <td id=\"T_8c9d959e_1e45_11ec_a8cc_0242ac130202row12_col14\" class=\"data row12 col14\" >0.025277</td>\n",
       "                        <td id=\"T_8c9d959e_1e45_11ec_a8cc_0242ac130202row12_col15\" class=\"data row12 col15\" >-0.017251</td>\n",
       "                        <td id=\"T_8c9d959e_1e45_11ec_a8cc_0242ac130202row12_col16\" class=\"data row12 col16\" >-0.061885</td>\n",
       "                        <td id=\"T_8c9d959e_1e45_11ec_a8cc_0242ac130202row12_col17\" class=\"data row12 col17\" >-0.027603</td>\n",
       "                        <td id=\"T_8c9d959e_1e45_11ec_a8cc_0242ac130202row12_col18\" class=\"data row12 col18\" >-0.003367</td>\n",
       "            </tr>\n",
       "            <tr>\n",
       "                        <th id=\"T_8c9d959e_1e45_11ec_a8cc_0242ac130202level0_row13\" class=\"row_heading level0 row13\" >Abroad travel_Yes</th>\n",
       "                        <td id=\"T_8c9d959e_1e45_11ec_a8cc_0242ac130202row13_col0\" class=\"data row13 col0\" >0.117795</td>\n",
       "                        <td id=\"T_8c9d959e_1e45_11ec_a8cc_0242ac130202row13_col1\" class=\"data row13 col1\" >0.128726</td>\n",
       "                        <td id=\"T_8c9d959e_1e45_11ec_a8cc_0242ac130202row13_col2\" class=\"data row13 col2\" >0.331418</td>\n",
       "                        <td id=\"T_8c9d959e_1e45_11ec_a8cc_0242ac130202row13_col3\" class=\"data row13 col3\" >0.205986</td>\n",
       "                        <td id=\"T_8c9d959e_1e45_11ec_a8cc_0242ac130202row13_col4\" class=\"data row13 col4\" >0.034526</td>\n",
       "                        <td id=\"T_8c9d959e_1e45_11ec_a8cc_0242ac130202row13_col5\" class=\"data row13 col5\" >0.068286</td>\n",
       "                        <td id=\"T_8c9d959e_1e45_11ec_a8cc_0242ac130202row13_col6\" class=\"data row13 col6\" >-0.088854</td>\n",
       "                        <td id=\"T_8c9d959e_1e45_11ec_a8cc_0242ac130202row13_col7\" class=\"data row13 col7\" >0.043589</td>\n",
       "                        <td id=\"T_8c9d959e_1e45_11ec_a8cc_0242ac130202row13_col8\" class=\"data row13 col8\" >-0.020761</td>\n",
       "                        <td id=\"T_8c9d959e_1e45_11ec_a8cc_0242ac130202row13_col9\" class=\"data row13 col9\" >0.039013</td>\n",
       "                        <td id=\"T_8c9d959e_1e45_11ec_a8cc_0242ac130202row13_col10\" class=\"data row13 col10\" >-0.016382</td>\n",
       "                        <td id=\"T_8c9d959e_1e45_11ec_a8cc_0242ac130202row13_col11\" class=\"data row13 col11\" >-0.068401</td>\n",
       "                        <td id=\"T_8c9d959e_1e45_11ec_a8cc_0242ac130202row13_col12\" class=\"data row13 col12\" >0.099577</td>\n",
       "                        <td id=\"T_8c9d959e_1e45_11ec_a8cc_0242ac130202row13_col13\" class=\"data row13 col13\" >1.000000</td>\n",
       "                        <td id=\"T_8c9d959e_1e45_11ec_a8cc_0242ac130202row13_col14\" class=\"data row13 col14\" >0.080210</td>\n",
       "                        <td id=\"T_8c9d959e_1e45_11ec_a8cc_0242ac130202row13_col15\" class=\"data row13 col15\" >0.113399</td>\n",
       "                        <td id=\"T_8c9d959e_1e45_11ec_a8cc_0242ac130202row13_col16\" class=\"data row13 col16\" >0.069609</td>\n",
       "                        <td id=\"T_8c9d959e_1e45_11ec_a8cc_0242ac130202row13_col17\" class=\"data row13 col17\" >0.143094</td>\n",
       "                        <td id=\"T_8c9d959e_1e45_11ec_a8cc_0242ac130202row13_col18\" class=\"data row13 col18\" >0.443875</td>\n",
       "            </tr>\n",
       "            <tr>\n",
       "                        <th id=\"T_8c9d959e_1e45_11ec_a8cc_0242ac130202level0_row14\" class=\"row_heading level0 row14\" >Contact with COVID Patient_Yes</th>\n",
       "                        <td id=\"T_8c9d959e_1e45_11ec_a8cc_0242ac130202row14_col0\" class=\"data row14 col0\" >0.214634</td>\n",
       "                        <td id=\"T_8c9d959e_1e45_11ec_a8cc_0242ac130202row14_col1\" class=\"data row14 col1\" >0.164704</td>\n",
       "                        <td id=\"T_8c9d959e_1e45_11ec_a8cc_0242ac130202row14_col2\" class=\"data row14 col2\" >0.128330</td>\n",
       "                        <td id=\"T_8c9d959e_1e45_11ec_a8cc_0242ac130202row14_col3\" class=\"data row14 col3\" >0.189251</td>\n",
       "                        <td id=\"T_8c9d959e_1e45_11ec_a8cc_0242ac130202row14_col4\" class=\"data row14 col4\" >0.003776</td>\n",
       "                        <td id=\"T_8c9d959e_1e45_11ec_a8cc_0242ac130202row14_col5\" class=\"data row14 col5\" >0.005046</td>\n",
       "                        <td id=\"T_8c9d959e_1e45_11ec_a8cc_0242ac130202row14_col6\" class=\"data row14 col6\" >-0.062482</td>\n",
       "                        <td id=\"T_8c9d959e_1e45_11ec_a8cc_0242ac130202row14_col7\" class=\"data row14 col7\" >-0.082101</td>\n",
       "                        <td id=\"T_8c9d959e_1e45_11ec_a8cc_0242ac130202row14_col8\" class=\"data row14 col8\" >-0.025593</td>\n",
       "                        <td id=\"T_8c9d959e_1e45_11ec_a8cc_0242ac130202row14_col9\" class=\"data row14 col9\" >-0.085696</td>\n",
       "                        <td id=\"T_8c9d959e_1e45_11ec_a8cc_0242ac130202row14_col10\" class=\"data row14 col10\" >0.027307</td>\n",
       "                        <td id=\"T_8c9d959e_1e45_11ec_a8cc_0242ac130202row14_col11\" class=\"data row14 col11\" >-0.027383</td>\n",
       "                        <td id=\"T_8c9d959e_1e45_11ec_a8cc_0242ac130202row14_col12\" class=\"data row14 col12\" >0.025277</td>\n",
       "                        <td id=\"T_8c9d959e_1e45_11ec_a8cc_0242ac130202row14_col13\" class=\"data row14 col13\" >0.080210</td>\n",
       "                        <td id=\"T_8c9d959e_1e45_11ec_a8cc_0242ac130202row14_col14\" class=\"data row14 col14\" >1.000000</td>\n",
       "                        <td id=\"T_8c9d959e_1e45_11ec_a8cc_0242ac130202row14_col15\" class=\"data row14 col15\" >0.234649</td>\n",
       "                        <td id=\"T_8c9d959e_1e45_11ec_a8cc_0242ac130202row14_col16\" class=\"data row14 col16\" >0.079800</td>\n",
       "                        <td id=\"T_8c9d959e_1e45_11ec_a8cc_0242ac130202row14_col17\" class=\"data row14 col17\" >0.006909</td>\n",
       "                        <td id=\"T_8c9d959e_1e45_11ec_a8cc_0242ac130202row14_col18\" class=\"data row14 col18\" >0.357122</td>\n",
       "            </tr>\n",
       "            <tr>\n",
       "                        <th id=\"T_8c9d959e_1e45_11ec_a8cc_0242ac130202level0_row15\" class=\"row_heading level0 row15\" >Attended Large Gathering_Yes</th>\n",
       "                        <td id=\"T_8c9d959e_1e45_11ec_a8cc_0242ac130202row15_col0\" class=\"data row15 col0\" >0.200304</td>\n",
       "                        <td id=\"T_8c9d959e_1e45_11ec_a8cc_0242ac130202row15_col1\" class=\"data row15 col1\" >0.070490</td>\n",
       "                        <td id=\"T_8c9d959e_1e45_11ec_a8cc_0242ac130202row15_col2\" class=\"data row15 col2\" >0.117963</td>\n",
       "                        <td id=\"T_8c9d959e_1e45_11ec_a8cc_0242ac130202row15_col3\" class=\"data row15 col3\" >0.216438</td>\n",
       "                        <td id=\"T_8c9d959e_1e45_11ec_a8cc_0242ac130202row15_col4\" class=\"data row15 col4\" >0.061099</td>\n",
       "                        <td id=\"T_8c9d959e_1e45_11ec_a8cc_0242ac130202row15_col5\" class=\"data row15 col5\" >-0.044592</td>\n",
       "                        <td id=\"T_8c9d959e_1e45_11ec_a8cc_0242ac130202row15_col6\" class=\"data row15 col6\" >-0.020548</td>\n",
       "                        <td id=\"T_8c9d959e_1e45_11ec_a8cc_0242ac130202row15_col7\" class=\"data row15 col7\" >-0.162992</td>\n",
       "                        <td id=\"T_8c9d959e_1e45_11ec_a8cc_0242ac130202row15_col8\" class=\"data row15 col8\" >-0.045437</td>\n",
       "                        <td id=\"T_8c9d959e_1e45_11ec_a8cc_0242ac130202row15_col9\" class=\"data row15 col9\" >-0.061650</td>\n",
       "                        <td id=\"T_8c9d959e_1e45_11ec_a8cc_0242ac130202row15_col10\" class=\"data row15 col10\" >0.002911</td>\n",
       "                        <td id=\"T_8c9d959e_1e45_11ec_a8cc_0242ac130202row15_col11\" class=\"data row15 col11\" >-0.031058</td>\n",
       "                        <td id=\"T_8c9d959e_1e45_11ec_a8cc_0242ac130202row15_col12\" class=\"data row15 col12\" >-0.017251</td>\n",
       "                        <td id=\"T_8c9d959e_1e45_11ec_a8cc_0242ac130202row15_col13\" class=\"data row15 col13\" >0.113399</td>\n",
       "                        <td id=\"T_8c9d959e_1e45_11ec_a8cc_0242ac130202row15_col14\" class=\"data row15 col14\" >0.234649</td>\n",
       "                        <td id=\"T_8c9d959e_1e45_11ec_a8cc_0242ac130202row15_col15\" class=\"data row15 col15\" >1.000000</td>\n",
       "                        <td id=\"T_8c9d959e_1e45_11ec_a8cc_0242ac130202row15_col16\" class=\"data row15 col16\" >0.083795</td>\n",
       "                        <td id=\"T_8c9d959e_1e45_11ec_a8cc_0242ac130202row15_col17\" class=\"data row15 col17\" >0.063776</td>\n",
       "                        <td id=\"T_8c9d959e_1e45_11ec_a8cc_0242ac130202row15_col18\" class=\"data row15 col18\" >0.390145</td>\n",
       "            </tr>\n",
       "            <tr>\n",
       "                        <th id=\"T_8c9d959e_1e45_11ec_a8cc_0242ac130202level0_row16\" class=\"row_heading level0 row16\" >Visited Public Exposed Places_Yes</th>\n",
       "                        <td id=\"T_8c9d959e_1e45_11ec_a8cc_0242ac130202row16_col0\" class=\"data row16 col0\" >0.066688</td>\n",
       "                        <td id=\"T_8c9d959e_1e45_11ec_a8cc_0242ac130202row16_col1\" class=\"data row16 col1\" >0.002252</td>\n",
       "                        <td id=\"T_8c9d959e_1e45_11ec_a8cc_0242ac130202row16_col2\" class=\"data row16 col2\" >0.086176</td>\n",
       "                        <td id=\"T_8c9d959e_1e45_11ec_a8cc_0242ac130202row16_col3\" class=\"data row16 col3\" >0.079055</td>\n",
       "                        <td id=\"T_8c9d959e_1e45_11ec_a8cc_0242ac130202row16_col4\" class=\"data row16 col4\" >0.032568</td>\n",
       "                        <td id=\"T_8c9d959e_1e45_11ec_a8cc_0242ac130202row16_col5\" class=\"data row16 col5\" >0.020941</td>\n",
       "                        <td id=\"T_8c9d959e_1e45_11ec_a8cc_0242ac130202row16_col6\" class=\"data row16 col6\" >-0.093049</td>\n",
       "                        <td id=\"T_8c9d959e_1e45_11ec_a8cc_0242ac130202row16_col7\" class=\"data row16 col7\" >-0.005790</td>\n",
       "                        <td id=\"T_8c9d959e_1e45_11ec_a8cc_0242ac130202row16_col8\" class=\"data row16 col8\" >0.086169</td>\n",
       "                        <td id=\"T_8c9d959e_1e45_11ec_a8cc_0242ac130202row16_col9\" class=\"data row16 col9\" >-0.078212</td>\n",
       "                        <td id=\"T_8c9d959e_1e45_11ec_a8cc_0242ac130202row16_col10\" class=\"data row16 col10\" >0.019174</td>\n",
       "                        <td id=\"T_8c9d959e_1e45_11ec_a8cc_0242ac130202row16_col11\" class=\"data row16 col11\" >-0.009562</td>\n",
       "                        <td id=\"T_8c9d959e_1e45_11ec_a8cc_0242ac130202row16_col12\" class=\"data row16 col12\" >-0.061885</td>\n",
       "                        <td id=\"T_8c9d959e_1e45_11ec_a8cc_0242ac130202row16_col13\" class=\"data row16 col13\" >0.069609</td>\n",
       "                        <td id=\"T_8c9d959e_1e45_11ec_a8cc_0242ac130202row16_col14\" class=\"data row16 col14\" >0.079800</td>\n",
       "                        <td id=\"T_8c9d959e_1e45_11ec_a8cc_0242ac130202row16_col15\" class=\"data row16 col15\" >0.083795</td>\n",
       "                        <td id=\"T_8c9d959e_1e45_11ec_a8cc_0242ac130202row16_col16\" class=\"data row16 col16\" >1.000000</td>\n",
       "                        <td id=\"T_8c9d959e_1e45_11ec_a8cc_0242ac130202row16_col17\" class=\"data row16 col17\" >0.028486</td>\n",
       "                        <td id=\"T_8c9d959e_1e45_11ec_a8cc_0242ac130202row16_col18\" class=\"data row16 col18\" >0.119755</td>\n",
       "            </tr>\n",
       "            <tr>\n",
       "                        <th id=\"T_8c9d959e_1e45_11ec_a8cc_0242ac130202level0_row17\" class=\"row_heading level0 row17\" >Family working in Public Exposed Places_Yes</th>\n",
       "                        <td id=\"T_8c9d959e_1e45_11ec_a8cc_0242ac130202row17_col0\" class=\"data row17 col0\" >0.018295</td>\n",
       "                        <td id=\"T_8c9d959e_1e45_11ec_a8cc_0242ac130202row17_col1\" class=\"data row17 col1\" >0.012102</td>\n",
       "                        <td id=\"T_8c9d959e_1e45_11ec_a8cc_0242ac130202row17_col2\" class=\"data row17 col2\" >0.163102</td>\n",
       "                        <td id=\"T_8c9d959e_1e45_11ec_a8cc_0242ac130202row17_col3\" class=\"data row17 col3\" >0.104378</td>\n",
       "                        <td id=\"T_8c9d959e_1e45_11ec_a8cc_0242ac130202row17_col4\" class=\"data row17 col4\" >-0.061323</td>\n",
       "                        <td id=\"T_8c9d959e_1e45_11ec_a8cc_0242ac130202row17_col5\" class=\"data row17 col5\" >-0.115679</td>\n",
       "                        <td id=\"T_8c9d959e_1e45_11ec_a8cc_0242ac130202row17_col6\" class=\"data row17 col6\" >0.038343</td>\n",
       "                        <td id=\"T_8c9d959e_1e45_11ec_a8cc_0242ac130202row17_col7\" class=\"data row17 col7\" >-0.012625</td>\n",
       "                        <td id=\"T_8c9d959e_1e45_11ec_a8cc_0242ac130202row17_col8\" class=\"data row17 col8\" >0.035000</td>\n",
       "                        <td id=\"T_8c9d959e_1e45_11ec_a8cc_0242ac130202row17_col9\" class=\"data row17 col9\" >0.097696</td>\n",
       "                        <td id=\"T_8c9d959e_1e45_11ec_a8cc_0242ac130202row17_col10\" class=\"data row17 col10\" >0.048152</td>\n",
       "                        <td id=\"T_8c9d959e_1e45_11ec_a8cc_0242ac130202row17_col11\" class=\"data row17 col11\" >-0.025623</td>\n",
       "                        <td id=\"T_8c9d959e_1e45_11ec_a8cc_0242ac130202row17_col12\" class=\"data row17 col12\" >-0.027603</td>\n",
       "                        <td id=\"T_8c9d959e_1e45_11ec_a8cc_0242ac130202row17_col13\" class=\"data row17 col13\" >0.143094</td>\n",
       "                        <td id=\"T_8c9d959e_1e45_11ec_a8cc_0242ac130202row17_col14\" class=\"data row17 col14\" >0.006909</td>\n",
       "                        <td id=\"T_8c9d959e_1e45_11ec_a8cc_0242ac130202row17_col15\" class=\"data row17 col15\" >0.063776</td>\n",
       "                        <td id=\"T_8c9d959e_1e45_11ec_a8cc_0242ac130202row17_col16\" class=\"data row17 col16\" >0.028486</td>\n",
       "                        <td id=\"T_8c9d959e_1e45_11ec_a8cc_0242ac130202row17_col17\" class=\"data row17 col17\" >1.000000</td>\n",
       "                        <td id=\"T_8c9d959e_1e45_11ec_a8cc_0242ac130202row17_col18\" class=\"data row17 col18\" >0.160208</td>\n",
       "            </tr>\n",
       "            <tr>\n",
       "                        <th id=\"T_8c9d959e_1e45_11ec_a8cc_0242ac130202level0_row18\" class=\"row_heading level0 row18\" >COVID-19_Yes</th>\n",
       "                        <td id=\"T_8c9d959e_1e45_11ec_a8cc_0242ac130202row18_col0\" class=\"data row18 col0\" >0.443764</td>\n",
       "                        <td id=\"T_8c9d959e_1e45_11ec_a8cc_0242ac130202row18_col1\" class=\"data row18 col1\" >0.352891</td>\n",
       "                        <td id=\"T_8c9d959e_1e45_11ec_a8cc_0242ac130202row18_col2\" class=\"data row18 col2\" >0.464292</td>\n",
       "                        <td id=\"T_8c9d959e_1e45_11ec_a8cc_0242ac130202row18_col3\" class=\"data row18 col3\" >0.502848</td>\n",
       "                        <td id=\"T_8c9d959e_1e45_11ec_a8cc_0242ac130202row18_col4\" class=\"data row18 col4\" >-0.005657</td>\n",
       "                        <td id=\"T_8c9d959e_1e45_11ec_a8cc_0242ac130202row18_col5\" class=\"data row18 col5\" >0.089930</td>\n",
       "                        <td id=\"T_8c9d959e_1e45_11ec_a8cc_0242ac130202row18_col6\" class=\"data row18 col6\" >-0.056837</td>\n",
       "                        <td id=\"T_8c9d959e_1e45_11ec_a8cc_0242ac130202row18_col7\" class=\"data row18 col7\" >-0.027793</td>\n",
       "                        <td id=\"T_8c9d959e_1e45_11ec_a8cc_0242ac130202row18_col8\" class=\"data row18 col8\" >0.027072</td>\n",
       "                        <td id=\"T_8c9d959e_1e45_11ec_a8cc_0242ac130202row18_col9\" class=\"data row18 col9\" >0.040627</td>\n",
       "                        <td id=\"T_8c9d959e_1e45_11ec_a8cc_0242ac130202row18_col10\" class=\"data row18 col10\" >0.102575</td>\n",
       "                        <td id=\"T_8c9d959e_1e45_11ec_a8cc_0242ac130202row18_col11\" class=\"data row18 col11\" >-0.044188</td>\n",
       "                        <td id=\"T_8c9d959e_1e45_11ec_a8cc_0242ac130202row18_col12\" class=\"data row18 col12\" >-0.003367</td>\n",
       "                        <td id=\"T_8c9d959e_1e45_11ec_a8cc_0242ac130202row18_col13\" class=\"data row18 col13\" >0.443875</td>\n",
       "                        <td id=\"T_8c9d959e_1e45_11ec_a8cc_0242ac130202row18_col14\" class=\"data row18 col14\" >0.357122</td>\n",
       "                        <td id=\"T_8c9d959e_1e45_11ec_a8cc_0242ac130202row18_col15\" class=\"data row18 col15\" >0.390145</td>\n",
       "                        <td id=\"T_8c9d959e_1e45_11ec_a8cc_0242ac130202row18_col16\" class=\"data row18 col16\" >0.119755</td>\n",
       "                        <td id=\"T_8c9d959e_1e45_11ec_a8cc_0242ac130202row18_col17\" class=\"data row18 col17\" >0.160208</td>\n",
       "                        <td id=\"T_8c9d959e_1e45_11ec_a8cc_0242ac130202row18_col18\" class=\"data row18 col18\" >1.000000</td>\n",
       "            </tr>\n",
       "    </tbody></table>"
      ],
      "text/plain": [
       "<pandas.io.formats.style.Styler at 0x7fd53b4a9110>"
      ]
     },
     "execution_count": 28,
     "metadata": {},
     "output_type": "execute_result"
    }
   ],
   "source": [
    "# Plotting correlation plot\n",
    "corr = covid_OH.corr()\n",
    "corr.style.background_gradient(cmap='coolwarm',axis=None)"
   ]
  },
  {
   "cell_type": "markdown",
   "metadata": {
    "papermill": {
     "duration": 0.066194,
     "end_time": "2021-09-25T21:14:20.407342",
     "exception": false,
     "start_time": "2021-09-25T21:14:20.341148",
     "status": "completed"
    },
    "tags": []
   },
   "source": [
    "### Feature selection \n",
    "* Choosing those featuers which are somehow correlated to COVID-19 positive (correlation > 0.1)"
   ]
  },
  {
   "cell_type": "code",
   "execution_count": 29,
   "metadata": {
    "execution": {
     "iopub.execute_input": "2021-09-25T21:14:20.545568Z",
     "iopub.status.busy": "2021-09-25T21:14:20.544431Z",
     "iopub.status.idle": "2021-09-25T21:14:20.552417Z",
     "shell.execute_reply": "2021-09-25T21:14:20.553018Z",
     "shell.execute_reply.started": "2021-09-25T21:11:56.512067Z"
    },
    "papermill": {
     "duration": 0.079141,
     "end_time": "2021-09-25T21:14:20.553163",
     "exception": false,
     "start_time": "2021-09-25T21:14:20.474022",
     "status": "completed"
    },
    "tags": []
   },
   "outputs": [],
   "source": [
    "covid_OH = covid_OH.drop(['Running Nose_Yes', 'Asthma_Yes', 'Chronic Lung Disease_Yes', \n",
    "                          'Headache_Yes', 'Heart Disease_Yes', 'Diabetes_Yes', 'Fatigue _Yes', 'Gastrointestinal _Yes'], axis=1)"
   ]
  },
  {
   "cell_type": "code",
   "execution_count": 30,
   "metadata": {
    "execution": {
     "iopub.execute_input": "2021-09-25T21:14:20.695446Z",
     "iopub.status.busy": "2021-09-25T21:14:20.694414Z",
     "iopub.status.idle": "2021-09-25T21:14:20.732614Z",
     "shell.execute_reply": "2021-09-25T21:14:20.733078Z",
     "shell.execute_reply.started": "2021-09-25T21:11:56.525998Z"
    },
    "papermill": {
     "duration": 0.111025,
     "end_time": "2021-09-25T21:14:20.733226",
     "exception": false,
     "start_time": "2021-09-25T21:14:20.622201",
     "status": "completed"
    },
    "tags": []
   },
   "outputs": [
    {
     "data": {
      "text/html": [
       "<style  type=\"text/css\" >\n",
       "#T_8ce70562_1e45_11ec_a8cc_0242ac130202row0_col0,#T_8ce70562_1e45_11ec_a8cc_0242ac130202row1_col1,#T_8ce70562_1e45_11ec_a8cc_0242ac130202row2_col2,#T_8ce70562_1e45_11ec_a8cc_0242ac130202row3_col3,#T_8ce70562_1e45_11ec_a8cc_0242ac130202row4_col4,#T_8ce70562_1e45_11ec_a8cc_0242ac130202row5_col5,#T_8ce70562_1e45_11ec_a8cc_0242ac130202row6_col6,#T_8ce70562_1e45_11ec_a8cc_0242ac130202row7_col7,#T_8ce70562_1e45_11ec_a8cc_0242ac130202row8_col8,#T_8ce70562_1e45_11ec_a8cc_0242ac130202row9_col9,#T_8ce70562_1e45_11ec_a8cc_0242ac130202row10_col10{\n",
       "            background-color:  #b40426;\n",
       "            color:  #f1f1f1;\n",
       "        }#T_8ce70562_1e45_11ec_a8cc_0242ac130202row0_col1,#T_8ce70562_1e45_11ec_a8cc_0242ac130202row1_col0{\n",
       "            background-color:  #5a78e4;\n",
       "            color:  #000000;\n",
       "        }#T_8ce70562_1e45_11ec_a8cc_0242ac130202row0_col2,#T_8ce70562_1e45_11ec_a8cc_0242ac130202row2_col0,#T_8ce70562_1e45_11ec_a8cc_0242ac130202row9_col10,#T_8ce70562_1e45_11ec_a8cc_0242ac130202row10_col9{\n",
       "            background-color:  #7295f4;\n",
       "            color:  #000000;\n",
       "        }#T_8ce70562_1e45_11ec_a8cc_0242ac130202row0_col3,#T_8ce70562_1e45_11ec_a8cc_0242ac130202row3_col0{\n",
       "            background-color:  #a3c2fe;\n",
       "            color:  #000000;\n",
       "        }#T_8ce70562_1e45_11ec_a8cc_0242ac130202row0_col4,#T_8ce70562_1e45_11ec_a8cc_0242ac130202row4_col0{\n",
       "            background-color:  #4c66d6;\n",
       "            color:  #000000;\n",
       "        }#T_8ce70562_1e45_11ec_a8cc_0242ac130202row0_col5,#T_8ce70562_1e45_11ec_a8cc_0242ac130202row2_col7,#T_8ce70562_1e45_11ec_a8cc_0242ac130202row5_col0,#T_8ce70562_1e45_11ec_a8cc_0242ac130202row7_col2{\n",
       "            background-color:  #6384eb;\n",
       "            color:  #000000;\n",
       "        }#T_8ce70562_1e45_11ec_a8cc_0242ac130202row0_col6,#T_8ce70562_1e45_11ec_a8cc_0242ac130202row2_col3,#T_8ce70562_1e45_11ec_a8cc_0242ac130202row3_col2,#T_8ce70562_1e45_11ec_a8cc_0242ac130202row3_col7,#T_8ce70562_1e45_11ec_a8cc_0242ac130202row6_col0,#T_8ce70562_1e45_11ec_a8cc_0242ac130202row7_col3{\n",
       "            background-color:  #85a8fc;\n",
       "            color:  #000000;\n",
       "        }#T_8ce70562_1e45_11ec_a8cc_0242ac130202row0_col7,#T_8ce70562_1e45_11ec_a8cc_0242ac130202row7_col0{\n",
       "            background-color:  #80a3fa;\n",
       "            color:  #000000;\n",
       "        }#T_8ce70562_1e45_11ec_a8cc_0242ac130202row0_col8,#T_8ce70562_1e45_11ec_a8cc_0242ac130202row7_col9,#T_8ce70562_1e45_11ec_a8cc_0242ac130202row8_col0,#T_8ce70562_1e45_11ec_a8cc_0242ac130202row9_col7{\n",
       "            background-color:  #536edd;\n",
       "            color:  #000000;\n",
       "        }#T_8ce70562_1e45_11ec_a8cc_0242ac130202row0_col9,#T_8ce70562_1e45_11ec_a8cc_0242ac130202row4_col8,#T_8ce70562_1e45_11ec_a8cc_0242ac130202row8_col4,#T_8ce70562_1e45_11ec_a8cc_0242ac130202row9_col0{\n",
       "            background-color:  #445acc;\n",
       "            color:  #f1f1f1;\n",
       "        }#T_8ce70562_1e45_11ec_a8cc_0242ac130202row0_col10,#T_8ce70562_1e45_11ec_a8cc_0242ac130202row5_col10,#T_8ce70562_1e45_11ec_a8cc_0242ac130202row10_col0,#T_8ce70562_1e45_11ec_a8cc_0242ac130202row10_col5{\n",
       "            background-color:  #cfdaea;\n",
       "            color:  #000000;\n",
       "        }#T_8ce70562_1e45_11ec_a8cc_0242ac130202row1_col2,#T_8ce70562_1e45_11ec_a8cc_0242ac130202row1_col5,#T_8ce70562_1e45_11ec_a8cc_0242ac130202row2_col1,#T_8ce70562_1e45_11ec_a8cc_0242ac130202row2_col6,#T_8ce70562_1e45_11ec_a8cc_0242ac130202row5_col1,#T_8ce70562_1e45_11ec_a8cc_0242ac130202row6_col2{\n",
       "            background-color:  #6788ee;\n",
       "            color:  #000000;\n",
       "        }#T_8ce70562_1e45_11ec_a8cc_0242ac130202row1_col3,#T_8ce70562_1e45_11ec_a8cc_0242ac130202row3_col1{\n",
       "            background-color:  #aac7fd;\n",
       "            color:  #000000;\n",
       "        }#T_8ce70562_1e45_11ec_a8cc_0242ac130202row1_col4,#T_8ce70562_1e45_11ec_a8cc_0242ac130202row2_col4,#T_8ce70562_1e45_11ec_a8cc_0242ac130202row3_col8,#T_8ce70562_1e45_11ec_a8cc_0242ac130202row4_col1,#T_8ce70562_1e45_11ec_a8cc_0242ac130202row4_col2,#T_8ce70562_1e45_11ec_a8cc_0242ac130202row5_col6,#T_8ce70562_1e45_11ec_a8cc_0242ac130202row6_col5,#T_8ce70562_1e45_11ec_a8cc_0242ac130202row6_col8,#T_8ce70562_1e45_11ec_a8cc_0242ac130202row8_col3,#T_8ce70562_1e45_11ec_a8cc_0242ac130202row8_col6{\n",
       "            background-color:  #5875e1;\n",
       "            color:  #000000;\n",
       "        }#T_8ce70562_1e45_11ec_a8cc_0242ac130202row1_col6,#T_8ce70562_1e45_11ec_a8cc_0242ac130202row2_col9,#T_8ce70562_1e45_11ec_a8cc_0242ac130202row6_col1,#T_8ce70562_1e45_11ec_a8cc_0242ac130202row9_col2{\n",
       "            background-color:  #7396f5;\n",
       "            color:  #000000;\n",
       "        }#T_8ce70562_1e45_11ec_a8cc_0242ac130202row1_col7,#T_8ce70562_1e45_11ec_a8cc_0242ac130202row5_col8,#T_8ce70562_1e45_11ec_a8cc_0242ac130202row7_col1,#T_8ce70562_1e45_11ec_a8cc_0242ac130202row8_col5{\n",
       "            background-color:  #5470de;\n",
       "            color:  #000000;\n",
       "        }#T_8ce70562_1e45_11ec_a8cc_0242ac130202row1_col8,#T_8ce70562_1e45_11ec_a8cc_0242ac130202row4_col7,#T_8ce70562_1e45_11ec_a8cc_0242ac130202row7_col4,#T_8ce70562_1e45_11ec_a8cc_0242ac130202row8_col1{\n",
       "            background-color:  #3f53c6;\n",
       "            color:  #f1f1f1;\n",
       "        }#T_8ce70562_1e45_11ec_a8cc_0242ac130202row1_col9,#T_8ce70562_1e45_11ec_a8cc_0242ac130202row9_col1{\n",
       "            background-color:  #4358cb;\n",
       "            color:  #f1f1f1;\n",
       "        }#T_8ce70562_1e45_11ec_a8cc_0242ac130202row1_col10,#T_8ce70562_1e45_11ec_a8cc_0242ac130202row10_col1{\n",
       "            background-color:  #b5cdfa;\n",
       "            color:  #000000;\n",
       "        }#T_8ce70562_1e45_11ec_a8cc_0242ac130202row2_col5,#T_8ce70562_1e45_11ec_a8cc_0242ac130202row5_col2{\n",
       "            background-color:  #adc9fd;\n",
       "            color:  #000000;\n",
       "        }#T_8ce70562_1e45_11ec_a8cc_0242ac130202row2_col8,#T_8ce70562_1e45_11ec_a8cc_0242ac130202row7_col8,#T_8ce70562_1e45_11ec_a8cc_0242ac130202row8_col2,#T_8ce70562_1e45_11ec_a8cc_0242ac130202row8_col7{\n",
       "            background-color:  #5977e3;\n",
       "            color:  #000000;\n",
       "        }#T_8ce70562_1e45_11ec_a8cc_0242ac130202row2_col10,#T_8ce70562_1e45_11ec_a8cc_0242ac130202row10_col2{\n",
       "            background-color:  #d6dce4;\n",
       "            color:  #000000;\n",
       "        }#T_8ce70562_1e45_11ec_a8cc_0242ac130202row3_col4,#T_8ce70562_1e45_11ec_a8cc_0242ac130202row4_col3{\n",
       "            background-color:  #4b64d5;\n",
       "            color:  #f1f1f1;\n",
       "        }#T_8ce70562_1e45_11ec_a8cc_0242ac130202row3_col5,#T_8ce70562_1e45_11ec_a8cc_0242ac130202row5_col3{\n",
       "            background-color:  #82a6fb;\n",
       "            color:  #000000;\n",
       "        }#T_8ce70562_1e45_11ec_a8cc_0242ac130202row3_col6,#T_8ce70562_1e45_11ec_a8cc_0242ac130202row6_col3{\n",
       "            background-color:  #7b9ff9;\n",
       "            color:  #000000;\n",
       "        }#T_8ce70562_1e45_11ec_a8cc_0242ac130202row3_col9,#T_8ce70562_1e45_11ec_a8cc_0242ac130202row9_col3{\n",
       "            background-color:  #5f7fe8;\n",
       "            color:  #000000;\n",
       "        }#T_8ce70562_1e45_11ec_a8cc_0242ac130202row3_col10,#T_8ce70562_1e45_11ec_a8cc_0242ac130202row10_col3{\n",
       "            background-color:  #dfdbd9;\n",
       "            color:  #000000;\n",
       "        }#T_8ce70562_1e45_11ec_a8cc_0242ac130202row4_col5,#T_8ce70562_1e45_11ec_a8cc_0242ac130202row5_col4{\n",
       "            background-color:  #3b4cc0;\n",
       "            color:  #f1f1f1;\n",
       "        }#T_8ce70562_1e45_11ec_a8cc_0242ac130202row4_col6,#T_8ce70562_1e45_11ec_a8cc_0242ac130202row6_col4,#T_8ce70562_1e45_11ec_a8cc_0242ac130202row8_col9,#T_8ce70562_1e45_11ec_a8cc_0242ac130202row9_col8{\n",
       "            background-color:  #485fd1;\n",
       "            color:  #f1f1f1;\n",
       "        }#T_8ce70562_1e45_11ec_a8cc_0242ac130202row4_col9,#T_8ce70562_1e45_11ec_a8cc_0242ac130202row9_col4{\n",
       "            background-color:  #4e68d8;\n",
       "            color:  #000000;\n",
       "        }#T_8ce70562_1e45_11ec_a8cc_0242ac130202row4_col10,#T_8ce70562_1e45_11ec_a8cc_0242ac130202row10_col4{\n",
       "            background-color:  #5e7de7;\n",
       "            color:  #000000;\n",
       "        }#T_8ce70562_1e45_11ec_a8cc_0242ac130202row5_col7,#T_8ce70562_1e45_11ec_a8cc_0242ac130202row7_col5{\n",
       "            background-color:  #6282ea;\n",
       "            color:  #000000;\n",
       "        }#T_8ce70562_1e45_11ec_a8cc_0242ac130202row5_col9,#T_8ce70562_1e45_11ec_a8cc_0242ac130202row9_col5{\n",
       "            background-color:  #6c8ff1;\n",
       "            color:  #000000;\n",
       "        }#T_8ce70562_1e45_11ec_a8cc_0242ac130202row6_col7,#T_8ce70562_1e45_11ec_a8cc_0242ac130202row7_col6{\n",
       "            background-color:  #8caffe;\n",
       "            color:  #000000;\n",
       "        }#T_8ce70562_1e45_11ec_a8cc_0242ac130202row6_col9,#T_8ce70562_1e45_11ec_a8cc_0242ac130202row9_col6{\n",
       "            background-color:  #4055c8;\n",
       "            color:  #f1f1f1;\n",
       "        }#T_8ce70562_1e45_11ec_a8cc_0242ac130202row6_col10,#T_8ce70562_1e45_11ec_a8cc_0242ac130202row10_col6{\n",
       "            background-color:  #b6cefa;\n",
       "            color:  #000000;\n",
       "        }#T_8ce70562_1e45_11ec_a8cc_0242ac130202row7_col10,#T_8ce70562_1e45_11ec_a8cc_0242ac130202row10_col7{\n",
       "            background-color:  #c0d4f5;\n",
       "            color:  #000000;\n",
       "        }#T_8ce70562_1e45_11ec_a8cc_0242ac130202row8_col10,#T_8ce70562_1e45_11ec_a8cc_0242ac130202row10_col8{\n",
       "            background-color:  #6485ec;\n",
       "            color:  #000000;\n",
       "        }</style><table id=\"T_8ce70562_1e45_11ec_a8cc_0242ac130202\" ><thead>    <tr>        <th class=\"blank level0\" ></th>        <th class=\"col_heading level0 col0\" >Breathing Problem_Yes</th>        <th class=\"col_heading level0 col1\" >Fever_Yes</th>        <th class=\"col_heading level0 col2\" >Dry Cough_Yes</th>        <th class=\"col_heading level0 col3\" >Sore throat_Yes</th>        <th class=\"col_heading level0 col4\" >Hyper Tension_Yes</th>        <th class=\"col_heading level0 col5\" >Abroad travel_Yes</th>        <th class=\"col_heading level0 col6\" >Contact with COVID Patient_Yes</th>        <th class=\"col_heading level0 col7\" >Attended Large Gathering_Yes</th>        <th class=\"col_heading level0 col8\" >Visited Public Exposed Places_Yes</th>        <th class=\"col_heading level0 col9\" >Family working in Public Exposed Places_Yes</th>        <th class=\"col_heading level0 col10\" >COVID-19_Yes</th>    </tr></thead><tbody>\n",
       "                <tr>\n",
       "                        <th id=\"T_8ce70562_1e45_11ec_a8cc_0242ac130202level0_row0\" class=\"row_heading level0 row0\" >Breathing Problem_Yes</th>\n",
       "                        <td id=\"T_8ce70562_1e45_11ec_a8cc_0242ac130202row0_col0\" class=\"data row0 col0\" >1.000000</td>\n",
       "                        <td id=\"T_8ce70562_1e45_11ec_a8cc_0242ac130202row0_col1\" class=\"data row0 col1\" >0.089903</td>\n",
       "                        <td id=\"T_8ce70562_1e45_11ec_a8cc_0242ac130202row0_col2\" class=\"data row0 col2\" >0.159562</td>\n",
       "                        <td id=\"T_8ce70562_1e45_11ec_a8cc_0242ac130202row0_col3\" class=\"data row0 col3\" >0.303768</td>\n",
       "                        <td id=\"T_8ce70562_1e45_11ec_a8cc_0242ac130202row0_col4\" class=\"data row0 col4\" >0.045256</td>\n",
       "                        <td id=\"T_8ce70562_1e45_11ec_a8cc_0242ac130202row0_col5\" class=\"data row0 col5\" >0.117795</td>\n",
       "                        <td id=\"T_8ce70562_1e45_11ec_a8cc_0242ac130202row0_col6\" class=\"data row0 col6\" >0.214634</td>\n",
       "                        <td id=\"T_8ce70562_1e45_11ec_a8cc_0242ac130202row0_col7\" class=\"data row0 col7\" >0.200304</td>\n",
       "                        <td id=\"T_8ce70562_1e45_11ec_a8cc_0242ac130202row0_col8\" class=\"data row0 col8\" >0.066688</td>\n",
       "                        <td id=\"T_8ce70562_1e45_11ec_a8cc_0242ac130202row0_col9\" class=\"data row0 col9\" >0.018295</td>\n",
       "                        <td id=\"T_8ce70562_1e45_11ec_a8cc_0242ac130202row0_col10\" class=\"data row0 col10\" >0.443764</td>\n",
       "            </tr>\n",
       "            <tr>\n",
       "                        <th id=\"T_8ce70562_1e45_11ec_a8cc_0242ac130202level0_row1\" class=\"row_heading level0 row1\" >Fever_Yes</th>\n",
       "                        <td id=\"T_8ce70562_1e45_11ec_a8cc_0242ac130202row1_col0\" class=\"data row1 col0\" >0.089903</td>\n",
       "                        <td id=\"T_8ce70562_1e45_11ec_a8cc_0242ac130202row1_col1\" class=\"data row1 col1\" >1.000000</td>\n",
       "                        <td id=\"T_8ce70562_1e45_11ec_a8cc_0242ac130202row1_col2\" class=\"data row1 col2\" >0.127580</td>\n",
       "                        <td id=\"T_8ce70562_1e45_11ec_a8cc_0242ac130202row1_col3\" class=\"data row1 col3\" >0.322235</td>\n",
       "                        <td id=\"T_8ce70562_1e45_11ec_a8cc_0242ac130202row1_col4\" class=\"data row1 col4\" >0.079001</td>\n",
       "                        <td id=\"T_8ce70562_1e45_11ec_a8cc_0242ac130202row1_col5\" class=\"data row1 col5\" >0.128726</td>\n",
       "                        <td id=\"T_8ce70562_1e45_11ec_a8cc_0242ac130202row1_col6\" class=\"data row1 col6\" >0.164704</td>\n",
       "                        <td id=\"T_8ce70562_1e45_11ec_a8cc_0242ac130202row1_col7\" class=\"data row1 col7\" >0.070490</td>\n",
       "                        <td id=\"T_8ce70562_1e45_11ec_a8cc_0242ac130202row1_col8\" class=\"data row1 col8\" >0.002252</td>\n",
       "                        <td id=\"T_8ce70562_1e45_11ec_a8cc_0242ac130202row1_col9\" class=\"data row1 col9\" >0.012102</td>\n",
       "                        <td id=\"T_8ce70562_1e45_11ec_a8cc_0242ac130202row1_col10\" class=\"data row1 col10\" >0.352891</td>\n",
       "            </tr>\n",
       "            <tr>\n",
       "                        <th id=\"T_8ce70562_1e45_11ec_a8cc_0242ac130202level0_row2\" class=\"row_heading level0 row2\" >Dry Cough_Yes</th>\n",
       "                        <td id=\"T_8ce70562_1e45_11ec_a8cc_0242ac130202row2_col0\" class=\"data row2 col0\" >0.159562</td>\n",
       "                        <td id=\"T_8ce70562_1e45_11ec_a8cc_0242ac130202row2_col1\" class=\"data row2 col1\" >0.127580</td>\n",
       "                        <td id=\"T_8ce70562_1e45_11ec_a8cc_0242ac130202row2_col2\" class=\"data row2 col2\" >1.000000</td>\n",
       "                        <td id=\"T_8ce70562_1e45_11ec_a8cc_0242ac130202row2_col3\" class=\"data row2 col3\" >0.213907</td>\n",
       "                        <td id=\"T_8ce70562_1e45_11ec_a8cc_0242ac130202row2_col4\" class=\"data row2 col4\" >0.081989</td>\n",
       "                        <td id=\"T_8ce70562_1e45_11ec_a8cc_0242ac130202row2_col5\" class=\"data row2 col5\" >0.331418</td>\n",
       "                        <td id=\"T_8ce70562_1e45_11ec_a8cc_0242ac130202row2_col6\" class=\"data row2 col6\" >0.128330</td>\n",
       "                        <td id=\"T_8ce70562_1e45_11ec_a8cc_0242ac130202row2_col7\" class=\"data row2 col7\" >0.117963</td>\n",
       "                        <td id=\"T_8ce70562_1e45_11ec_a8cc_0242ac130202row2_col8\" class=\"data row2 col8\" >0.086176</td>\n",
       "                        <td id=\"T_8ce70562_1e45_11ec_a8cc_0242ac130202row2_col9\" class=\"data row2 col9\" >0.163102</td>\n",
       "                        <td id=\"T_8ce70562_1e45_11ec_a8cc_0242ac130202row2_col10\" class=\"data row2 col10\" >0.464292</td>\n",
       "            </tr>\n",
       "            <tr>\n",
       "                        <th id=\"T_8ce70562_1e45_11ec_a8cc_0242ac130202level0_row3\" class=\"row_heading level0 row3\" >Sore throat_Yes</th>\n",
       "                        <td id=\"T_8ce70562_1e45_11ec_a8cc_0242ac130202row3_col0\" class=\"data row3 col0\" >0.303768</td>\n",
       "                        <td id=\"T_8ce70562_1e45_11ec_a8cc_0242ac130202row3_col1\" class=\"data row3 col1\" >0.322235</td>\n",
       "                        <td id=\"T_8ce70562_1e45_11ec_a8cc_0242ac130202row3_col2\" class=\"data row3 col2\" >0.213907</td>\n",
       "                        <td id=\"T_8ce70562_1e45_11ec_a8cc_0242ac130202row3_col3\" class=\"data row3 col3\" >1.000000</td>\n",
       "                        <td id=\"T_8ce70562_1e45_11ec_a8cc_0242ac130202row3_col4\" class=\"data row3 col4\" >0.042811</td>\n",
       "                        <td id=\"T_8ce70562_1e45_11ec_a8cc_0242ac130202row3_col5\" class=\"data row3 col5\" >0.205986</td>\n",
       "                        <td id=\"T_8ce70562_1e45_11ec_a8cc_0242ac130202row3_col6\" class=\"data row3 col6\" >0.189251</td>\n",
       "                        <td id=\"T_8ce70562_1e45_11ec_a8cc_0242ac130202row3_col7\" class=\"data row3 col7\" >0.216438</td>\n",
       "                        <td id=\"T_8ce70562_1e45_11ec_a8cc_0242ac130202row3_col8\" class=\"data row3 col8\" >0.079055</td>\n",
       "                        <td id=\"T_8ce70562_1e45_11ec_a8cc_0242ac130202row3_col9\" class=\"data row3 col9\" >0.104378</td>\n",
       "                        <td id=\"T_8ce70562_1e45_11ec_a8cc_0242ac130202row3_col10\" class=\"data row3 col10\" >0.502848</td>\n",
       "            </tr>\n",
       "            <tr>\n",
       "                        <th id=\"T_8ce70562_1e45_11ec_a8cc_0242ac130202level0_row4\" class=\"row_heading level0 row4\" >Hyper Tension_Yes</th>\n",
       "                        <td id=\"T_8ce70562_1e45_11ec_a8cc_0242ac130202row4_col0\" class=\"data row4 col0\" >0.045256</td>\n",
       "                        <td id=\"T_8ce70562_1e45_11ec_a8cc_0242ac130202row4_col1\" class=\"data row4 col1\" >0.079001</td>\n",
       "                        <td id=\"T_8ce70562_1e45_11ec_a8cc_0242ac130202row4_col2\" class=\"data row4 col2\" >0.081989</td>\n",
       "                        <td id=\"T_8ce70562_1e45_11ec_a8cc_0242ac130202row4_col3\" class=\"data row4 col3\" >0.042811</td>\n",
       "                        <td id=\"T_8ce70562_1e45_11ec_a8cc_0242ac130202row4_col4\" class=\"data row4 col4\" >1.000000</td>\n",
       "                        <td id=\"T_8ce70562_1e45_11ec_a8cc_0242ac130202row4_col5\" class=\"data row4 col5\" >-0.016382</td>\n",
       "                        <td id=\"T_8ce70562_1e45_11ec_a8cc_0242ac130202row4_col6\" class=\"data row4 col6\" >0.027307</td>\n",
       "                        <td id=\"T_8ce70562_1e45_11ec_a8cc_0242ac130202row4_col7\" class=\"data row4 col7\" >0.002911</td>\n",
       "                        <td id=\"T_8ce70562_1e45_11ec_a8cc_0242ac130202row4_col8\" class=\"data row4 col8\" >0.019174</td>\n",
       "                        <td id=\"T_8ce70562_1e45_11ec_a8cc_0242ac130202row4_col9\" class=\"data row4 col9\" >0.048152</td>\n",
       "                        <td id=\"T_8ce70562_1e45_11ec_a8cc_0242ac130202row4_col10\" class=\"data row4 col10\" >0.102575</td>\n",
       "            </tr>\n",
       "            <tr>\n",
       "                        <th id=\"T_8ce70562_1e45_11ec_a8cc_0242ac130202level0_row5\" class=\"row_heading level0 row5\" >Abroad travel_Yes</th>\n",
       "                        <td id=\"T_8ce70562_1e45_11ec_a8cc_0242ac130202row5_col0\" class=\"data row5 col0\" >0.117795</td>\n",
       "                        <td id=\"T_8ce70562_1e45_11ec_a8cc_0242ac130202row5_col1\" class=\"data row5 col1\" >0.128726</td>\n",
       "                        <td id=\"T_8ce70562_1e45_11ec_a8cc_0242ac130202row5_col2\" class=\"data row5 col2\" >0.331418</td>\n",
       "                        <td id=\"T_8ce70562_1e45_11ec_a8cc_0242ac130202row5_col3\" class=\"data row5 col3\" >0.205986</td>\n",
       "                        <td id=\"T_8ce70562_1e45_11ec_a8cc_0242ac130202row5_col4\" class=\"data row5 col4\" >-0.016382</td>\n",
       "                        <td id=\"T_8ce70562_1e45_11ec_a8cc_0242ac130202row5_col5\" class=\"data row5 col5\" >1.000000</td>\n",
       "                        <td id=\"T_8ce70562_1e45_11ec_a8cc_0242ac130202row5_col6\" class=\"data row5 col6\" >0.080210</td>\n",
       "                        <td id=\"T_8ce70562_1e45_11ec_a8cc_0242ac130202row5_col7\" class=\"data row5 col7\" >0.113399</td>\n",
       "                        <td id=\"T_8ce70562_1e45_11ec_a8cc_0242ac130202row5_col8\" class=\"data row5 col8\" >0.069609</td>\n",
       "                        <td id=\"T_8ce70562_1e45_11ec_a8cc_0242ac130202row5_col9\" class=\"data row5 col9\" >0.143094</td>\n",
       "                        <td id=\"T_8ce70562_1e45_11ec_a8cc_0242ac130202row5_col10\" class=\"data row5 col10\" >0.443875</td>\n",
       "            </tr>\n",
       "            <tr>\n",
       "                        <th id=\"T_8ce70562_1e45_11ec_a8cc_0242ac130202level0_row6\" class=\"row_heading level0 row6\" >Contact with COVID Patient_Yes</th>\n",
       "                        <td id=\"T_8ce70562_1e45_11ec_a8cc_0242ac130202row6_col0\" class=\"data row6 col0\" >0.214634</td>\n",
       "                        <td id=\"T_8ce70562_1e45_11ec_a8cc_0242ac130202row6_col1\" class=\"data row6 col1\" >0.164704</td>\n",
       "                        <td id=\"T_8ce70562_1e45_11ec_a8cc_0242ac130202row6_col2\" class=\"data row6 col2\" >0.128330</td>\n",
       "                        <td id=\"T_8ce70562_1e45_11ec_a8cc_0242ac130202row6_col3\" class=\"data row6 col3\" >0.189251</td>\n",
       "                        <td id=\"T_8ce70562_1e45_11ec_a8cc_0242ac130202row6_col4\" class=\"data row6 col4\" >0.027307</td>\n",
       "                        <td id=\"T_8ce70562_1e45_11ec_a8cc_0242ac130202row6_col5\" class=\"data row6 col5\" >0.080210</td>\n",
       "                        <td id=\"T_8ce70562_1e45_11ec_a8cc_0242ac130202row6_col6\" class=\"data row6 col6\" >1.000000</td>\n",
       "                        <td id=\"T_8ce70562_1e45_11ec_a8cc_0242ac130202row6_col7\" class=\"data row6 col7\" >0.234649</td>\n",
       "                        <td id=\"T_8ce70562_1e45_11ec_a8cc_0242ac130202row6_col8\" class=\"data row6 col8\" >0.079800</td>\n",
       "                        <td id=\"T_8ce70562_1e45_11ec_a8cc_0242ac130202row6_col9\" class=\"data row6 col9\" >0.006909</td>\n",
       "                        <td id=\"T_8ce70562_1e45_11ec_a8cc_0242ac130202row6_col10\" class=\"data row6 col10\" >0.357122</td>\n",
       "            </tr>\n",
       "            <tr>\n",
       "                        <th id=\"T_8ce70562_1e45_11ec_a8cc_0242ac130202level0_row7\" class=\"row_heading level0 row7\" >Attended Large Gathering_Yes</th>\n",
       "                        <td id=\"T_8ce70562_1e45_11ec_a8cc_0242ac130202row7_col0\" class=\"data row7 col0\" >0.200304</td>\n",
       "                        <td id=\"T_8ce70562_1e45_11ec_a8cc_0242ac130202row7_col1\" class=\"data row7 col1\" >0.070490</td>\n",
       "                        <td id=\"T_8ce70562_1e45_11ec_a8cc_0242ac130202row7_col2\" class=\"data row7 col2\" >0.117963</td>\n",
       "                        <td id=\"T_8ce70562_1e45_11ec_a8cc_0242ac130202row7_col3\" class=\"data row7 col3\" >0.216438</td>\n",
       "                        <td id=\"T_8ce70562_1e45_11ec_a8cc_0242ac130202row7_col4\" class=\"data row7 col4\" >0.002911</td>\n",
       "                        <td id=\"T_8ce70562_1e45_11ec_a8cc_0242ac130202row7_col5\" class=\"data row7 col5\" >0.113399</td>\n",
       "                        <td id=\"T_8ce70562_1e45_11ec_a8cc_0242ac130202row7_col6\" class=\"data row7 col6\" >0.234649</td>\n",
       "                        <td id=\"T_8ce70562_1e45_11ec_a8cc_0242ac130202row7_col7\" class=\"data row7 col7\" >1.000000</td>\n",
       "                        <td id=\"T_8ce70562_1e45_11ec_a8cc_0242ac130202row7_col8\" class=\"data row7 col8\" >0.083795</td>\n",
       "                        <td id=\"T_8ce70562_1e45_11ec_a8cc_0242ac130202row7_col9\" class=\"data row7 col9\" >0.063776</td>\n",
       "                        <td id=\"T_8ce70562_1e45_11ec_a8cc_0242ac130202row7_col10\" class=\"data row7 col10\" >0.390145</td>\n",
       "            </tr>\n",
       "            <tr>\n",
       "                        <th id=\"T_8ce70562_1e45_11ec_a8cc_0242ac130202level0_row8\" class=\"row_heading level0 row8\" >Visited Public Exposed Places_Yes</th>\n",
       "                        <td id=\"T_8ce70562_1e45_11ec_a8cc_0242ac130202row8_col0\" class=\"data row8 col0\" >0.066688</td>\n",
       "                        <td id=\"T_8ce70562_1e45_11ec_a8cc_0242ac130202row8_col1\" class=\"data row8 col1\" >0.002252</td>\n",
       "                        <td id=\"T_8ce70562_1e45_11ec_a8cc_0242ac130202row8_col2\" class=\"data row8 col2\" >0.086176</td>\n",
       "                        <td id=\"T_8ce70562_1e45_11ec_a8cc_0242ac130202row8_col3\" class=\"data row8 col3\" >0.079055</td>\n",
       "                        <td id=\"T_8ce70562_1e45_11ec_a8cc_0242ac130202row8_col4\" class=\"data row8 col4\" >0.019174</td>\n",
       "                        <td id=\"T_8ce70562_1e45_11ec_a8cc_0242ac130202row8_col5\" class=\"data row8 col5\" >0.069609</td>\n",
       "                        <td id=\"T_8ce70562_1e45_11ec_a8cc_0242ac130202row8_col6\" class=\"data row8 col6\" >0.079800</td>\n",
       "                        <td id=\"T_8ce70562_1e45_11ec_a8cc_0242ac130202row8_col7\" class=\"data row8 col7\" >0.083795</td>\n",
       "                        <td id=\"T_8ce70562_1e45_11ec_a8cc_0242ac130202row8_col8\" class=\"data row8 col8\" >1.000000</td>\n",
       "                        <td id=\"T_8ce70562_1e45_11ec_a8cc_0242ac130202row8_col9\" class=\"data row8 col9\" >0.028486</td>\n",
       "                        <td id=\"T_8ce70562_1e45_11ec_a8cc_0242ac130202row8_col10\" class=\"data row8 col10\" >0.119755</td>\n",
       "            </tr>\n",
       "            <tr>\n",
       "                        <th id=\"T_8ce70562_1e45_11ec_a8cc_0242ac130202level0_row9\" class=\"row_heading level0 row9\" >Family working in Public Exposed Places_Yes</th>\n",
       "                        <td id=\"T_8ce70562_1e45_11ec_a8cc_0242ac130202row9_col0\" class=\"data row9 col0\" >0.018295</td>\n",
       "                        <td id=\"T_8ce70562_1e45_11ec_a8cc_0242ac130202row9_col1\" class=\"data row9 col1\" >0.012102</td>\n",
       "                        <td id=\"T_8ce70562_1e45_11ec_a8cc_0242ac130202row9_col2\" class=\"data row9 col2\" >0.163102</td>\n",
       "                        <td id=\"T_8ce70562_1e45_11ec_a8cc_0242ac130202row9_col3\" class=\"data row9 col3\" >0.104378</td>\n",
       "                        <td id=\"T_8ce70562_1e45_11ec_a8cc_0242ac130202row9_col4\" class=\"data row9 col4\" >0.048152</td>\n",
       "                        <td id=\"T_8ce70562_1e45_11ec_a8cc_0242ac130202row9_col5\" class=\"data row9 col5\" >0.143094</td>\n",
       "                        <td id=\"T_8ce70562_1e45_11ec_a8cc_0242ac130202row9_col6\" class=\"data row9 col6\" >0.006909</td>\n",
       "                        <td id=\"T_8ce70562_1e45_11ec_a8cc_0242ac130202row9_col7\" class=\"data row9 col7\" >0.063776</td>\n",
       "                        <td id=\"T_8ce70562_1e45_11ec_a8cc_0242ac130202row9_col8\" class=\"data row9 col8\" >0.028486</td>\n",
       "                        <td id=\"T_8ce70562_1e45_11ec_a8cc_0242ac130202row9_col9\" class=\"data row9 col9\" >1.000000</td>\n",
       "                        <td id=\"T_8ce70562_1e45_11ec_a8cc_0242ac130202row9_col10\" class=\"data row9 col10\" >0.160208</td>\n",
       "            </tr>\n",
       "            <tr>\n",
       "                        <th id=\"T_8ce70562_1e45_11ec_a8cc_0242ac130202level0_row10\" class=\"row_heading level0 row10\" >COVID-19_Yes</th>\n",
       "                        <td id=\"T_8ce70562_1e45_11ec_a8cc_0242ac130202row10_col0\" class=\"data row10 col0\" >0.443764</td>\n",
       "                        <td id=\"T_8ce70562_1e45_11ec_a8cc_0242ac130202row10_col1\" class=\"data row10 col1\" >0.352891</td>\n",
       "                        <td id=\"T_8ce70562_1e45_11ec_a8cc_0242ac130202row10_col2\" class=\"data row10 col2\" >0.464292</td>\n",
       "                        <td id=\"T_8ce70562_1e45_11ec_a8cc_0242ac130202row10_col3\" class=\"data row10 col3\" >0.502848</td>\n",
       "                        <td id=\"T_8ce70562_1e45_11ec_a8cc_0242ac130202row10_col4\" class=\"data row10 col4\" >0.102575</td>\n",
       "                        <td id=\"T_8ce70562_1e45_11ec_a8cc_0242ac130202row10_col5\" class=\"data row10 col5\" >0.443875</td>\n",
       "                        <td id=\"T_8ce70562_1e45_11ec_a8cc_0242ac130202row10_col6\" class=\"data row10 col6\" >0.357122</td>\n",
       "                        <td id=\"T_8ce70562_1e45_11ec_a8cc_0242ac130202row10_col7\" class=\"data row10 col7\" >0.390145</td>\n",
       "                        <td id=\"T_8ce70562_1e45_11ec_a8cc_0242ac130202row10_col8\" class=\"data row10 col8\" >0.119755</td>\n",
       "                        <td id=\"T_8ce70562_1e45_11ec_a8cc_0242ac130202row10_col9\" class=\"data row10 col9\" >0.160208</td>\n",
       "                        <td id=\"T_8ce70562_1e45_11ec_a8cc_0242ac130202row10_col10\" class=\"data row10 col10\" >1.000000</td>\n",
       "            </tr>\n",
       "    </tbody></table>"
      ],
      "text/plain": [
       "<pandas.io.formats.style.Styler at 0x7fd53ca76250>"
      ]
     },
     "execution_count": 30,
     "metadata": {},
     "output_type": "execute_result"
    }
   ],
   "source": [
    "# correlations among selected features\n",
    "corr = covid_OH.corr()\n",
    "corr.style.background_gradient(cmap='coolwarm',axis=None)"
   ]
  },
  {
   "cell_type": "code",
   "execution_count": 31,
   "metadata": {
    "execution": {
     "iopub.execute_input": "2021-09-25T21:14:20.874187Z",
     "iopub.status.busy": "2021-09-25T21:14:20.873171Z",
     "iopub.status.idle": "2021-09-25T21:14:20.880752Z",
     "shell.execute_reply": "2021-09-25T21:14:20.881333Z",
     "shell.execute_reply.started": "2021-09-25T21:11:56.577181Z"
    },
    "papermill": {
     "duration": 0.0789,
     "end_time": "2021-09-25T21:14:20.881480",
     "exception": false,
     "start_time": "2021-09-25T21:14:20.802580",
     "status": "completed"
    },
    "tags": []
   },
   "outputs": [
    {
     "data": {
      "text/plain": [
       "Index(['Breathing Problem_Yes', 'Fever_Yes', 'Dry Cough_Yes',\n",
       "       'Sore throat_Yes', 'Hyper Tension_Yes', 'Abroad travel_Yes',\n",
       "       'Contact with COVID Patient_Yes', 'Attended Large Gathering_Yes',\n",
       "       'Visited Public Exposed Places_Yes',\n",
       "       'Family working in Public Exposed Places_Yes', 'COVID-19'],\n",
       "      dtype='object')"
      ]
     },
     "execution_count": 31,
     "metadata": {},
     "output_type": "execute_result"
    }
   ],
   "source": [
    "covid_OH.rename(columns = {'COVID-19_Yes':'COVID-19'}, inplace=True)\n",
    "covid_OH.columns"
   ]
  },
  {
   "cell_type": "markdown",
   "metadata": {
    "papermill": {
     "duration": 0.068569,
     "end_time": "2021-09-25T21:14:21.018110",
     "exception": false,
     "start_time": "2021-09-25T21:14:20.949541",
     "status": "completed"
    },
    "tags": []
   },
   "source": [
    "### Model building : with Hyper parameter tuning"
   ]
  },
  {
   "cell_type": "code",
   "execution_count": 32,
   "metadata": {
    "execution": {
     "iopub.execute_input": "2021-09-25T21:14:21.180476Z",
     "iopub.status.busy": "2021-09-25T21:14:21.179495Z",
     "iopub.status.idle": "2021-09-25T21:14:21.315323Z",
     "shell.execute_reply": "2021-09-25T21:14:21.315928Z",
     "shell.execute_reply.started": "2021-09-25T21:11:56.589817Z"
    },
    "papermill": {
     "duration": 0.214342,
     "end_time": "2021-09-25T21:14:21.316084",
     "exception": false,
     "start_time": "2021-09-25T21:14:21.101742",
     "status": "completed"
    },
    "tags": []
   },
   "outputs": [],
   "source": [
    "from sklearn.model_selection import train_test_split\n",
    "from sklearn import metrics"
   ]
  },
  {
   "cell_type": "code",
   "execution_count": 33,
   "metadata": {
    "execution": {
     "iopub.execute_input": "2021-09-25T21:14:21.471911Z",
     "iopub.status.busy": "2021-09-25T21:14:21.471160Z",
     "iopub.status.idle": "2021-09-25T21:14:21.478663Z",
     "shell.execute_reply": "2021-09-25T21:14:21.479263Z",
     "shell.execute_reply.started": "2021-09-25T21:11:56.605972Z"
    },
    "papermill": {
     "duration": 0.080412,
     "end_time": "2021-09-25T21:14:21.479413",
     "exception": false,
     "start_time": "2021-09-25T21:14:21.399001",
     "status": "completed"
    },
    "tags": []
   },
   "outputs": [],
   "source": [
    "# Splitting Dependent and Independent features\n",
    "X = covid_OH.drop('COVID-19',axis=1)\n",
    "y = covid_OH['COVID-19']"
   ]
  },
  {
   "cell_type": "code",
   "execution_count": 34,
   "metadata": {
    "execution": {
     "iopub.execute_input": "2021-09-25T21:14:21.623767Z",
     "iopub.status.busy": "2021-09-25T21:14:21.623059Z",
     "iopub.status.idle": "2021-09-25T21:14:21.639014Z",
     "shell.execute_reply": "2021-09-25T21:14:21.639625Z",
     "shell.execute_reply.started": "2021-09-25T21:11:56.623346Z"
    },
    "papermill": {
     "duration": 0.089689,
     "end_time": "2021-09-25T21:14:21.639783",
     "exception": false,
     "start_time": "2021-09-25T21:14:21.550094",
     "status": "completed"
    },
    "tags": []
   },
   "outputs": [],
   "source": [
    "# train - test split\n",
    "x_train, x_test, y_train, y_test = train_test_split(X, y, test_size = 0.20, stratify=y)"
   ]
  },
  {
   "cell_type": "markdown",
   "metadata": {
    "papermill": {
     "duration": 0.068161,
     "end_time": "2021-09-25T21:14:21.776915",
     "exception": false,
     "start_time": "2021-09-25T21:14:21.708754",
     "status": "completed"
    },
    "tags": []
   },
   "source": [
    "#### Selecting models"
   ]
  },
  {
   "cell_type": "code",
   "execution_count": 35,
   "metadata": {
    "execution": {
     "iopub.execute_input": "2021-09-25T21:14:21.923298Z",
     "iopub.status.busy": "2021-09-25T21:14:21.922572Z",
     "iopub.status.idle": "2021-09-25T21:14:27.222378Z",
     "shell.execute_reply": "2021-09-25T21:14:27.222989Z",
     "shell.execute_reply.started": "2021-09-25T21:11:56.651686Z"
    },
    "papermill": {
     "duration": 5.371158,
     "end_time": "2021-09-25T21:14:27.223156",
     "exception": false,
     "start_time": "2021-09-25T21:14:21.851998",
     "status": "completed"
    },
    "tags": []
   },
   "outputs": [
    {
     "data": {
      "text/plain": [
       "Text(0, 0.5, 'Error Rate')"
      ]
     },
     "execution_count": 35,
     "metadata": {},
     "output_type": "execute_result"
    },
    {
     "data": {
      "image/png": "[encoded data removed]",
      "text/plain": [
       "<Figure size 720x432 with 1 Axes>"
      ]
     },
     "metadata": {
      "needs_background": "light"
     },
     "output_type": "display_data"
    }
   ],
   "source": [
    "# Finding out optimum k-value using elbow method\n",
    "from sklearn.neighbors import KNeighborsClassifier\n",
    "\n",
    "error_rate = []\n",
    "\n",
    "# calculating error rate\n",
    "for i in range(1,40):\n",
    "    knn = KNeighborsClassifier(n_neighbors=i)\n",
    "    knn.fit(x_train, y_train)\n",
    "    pred_i = knn.predict(x_test)\n",
    "    error_rate.append(np.mean(pred_i != y_test))\n",
    "\n",
    "\n",
    "# Plotting elbow graph\n",
    "plt.figure(figsize=(10,6))\n",
    "plt.plot(range(1,40), error_rate, color=\"blue\", linestyle=\"dashed\", marker=\"o\",\n",
    "         markerfacecolor=\"red\", markersize=10)\n",
    "plt.title(\"Error Rate vs. K Value\")\n",
    "plt.xticks(range(1,40))\n",
    "plt.xlabel(\"K\")\n",
    "plt.ylabel(\"Error Rate\")"
   ]
  },
  {
   "cell_type": "markdown",
   "metadata": {
    "papermill": {
     "duration": 0.070633,
     "end_time": "2021-09-25T21:14:27.364612",
     "exception": false,
     "start_time": "2021-09-25T21:14:27.293979",
     "status": "completed"
    },
    "tags": []
   },
   "source": [
    "##### Observation: k=3 seems the most optimum value"
   ]
  },
  {
   "cell_type": "code",
   "execution_count": 36,
   "metadata": {
    "execution": {
     "iopub.execute_input": "2021-09-25T21:14:27.509724Z",
     "iopub.status.busy": "2021-09-25T21:14:27.509032Z",
     "iopub.status.idle": "2021-09-25T21:14:27.860126Z",
     "shell.execute_reply": "2021-09-25T21:14:27.859398Z",
     "shell.execute_reply.started": "2021-09-25T21:12:00.920887Z"
    },
    "papermill": {
     "duration": 0.424667,
     "end_time": "2021-09-25T21:14:27.860246",
     "exception": false,
     "start_time": "2021-09-25T21:14:27.435579",
     "status": "completed"
    },
    "tags": []
   },
   "outputs": [],
   "source": [
    "from sklearn.linear_model import LogisticRegression\n",
    "from sklearn.ensemble import RandomForestClassifier\n",
    "from xgboost.sklearn import XGBClassifier\n",
    "from sklearn.neighbors import KNeighborsClassifier\n",
    "from sklearn import tree\n",
    "from sklearn.naive_bayes import GaussianNB\n",
    "from sklearn import svm\n",
    "\n",
    "\n",
    "# defining models\n",
    "models = [LogisticRegression(), RandomForestClassifier(), XGBClassifier(), KNeighborsClassifier(), \n",
    "          tree.DecisionTreeClassifier(), GaussianNB(), svm.SVC(kernel='linear')]\n",
    "\n",
    "# defining model names\n",
    "model_names = ['Logistic Regression', 'Random Forest', 'Gradient Boosting Classifier', 'KNN', 'Decision Tree', \n",
    "               'Naive Bayes', 'Support Vector Machines']\n",
    "\n",
    "# defining parameters\n",
    "\n",
    "parameters = [{'solver':['newton-cg', 'lbfgs', 'liblinear', 'sag', 'saga']},\n",
    "              \n",
    "             {'n_estimators':[100, 300, 500, 600, 700, 1000], 'criterion':['gini', 'entropy'], \n",
    "              'max_depth' : [10, 20, 25, 30, 35, 40], 'min_samples_split': [100, 200, 50, 25]},\n",
    "              \n",
    "             {\"learning_rate\"    : [0.05, 0.10, 0.15, 0.20, 0.25, 0.30 ] , \"max_depth\": [ 3, 4, 5, 6, 8, 10, 12, 15],\n",
    "              \"min_child_weight\" : [ 1, 3, 5, 7 ], \"gamma\": [ 0.0, 0.1, 0.2 , 0.3, 0.4 ], \"colsample_bytree\" : [ 0.3, 0.4, 0.5 , 0.7 ], \n",
    "              \"n_estimators\": [100, 120, 135, 150, 165, 200]},\n",
    "             \n",
    "             {'n_neighbors' : [3, 11]},\n",
    "             \n",
    "            {'criterion':['gini', 'entropy'], 'max_depth' : [10, 20, 25, 30, 35, 40], 'min_samples_split': [100, 200, 50, 25]},\n",
    "              \n",
    "            {},\n",
    "              \n",
    "            {'kernel': ['linear', 'poly', 'rbf', 'sigmoid']}\n",
    "             ]"
   ]
  },
  {
   "cell_type": "markdown",
   "metadata": {
    "papermill": {
     "duration": 0.069691,
     "end_time": "2021-09-25T21:14:27.999834",
     "exception": false,
     "start_time": "2021-09-25T21:14:27.930143",
     "status": "completed"
    },
    "tags": []
   },
   "source": [
    "#### Hyper-parameter tuning using Grid Search CV"
   ]
  },
  {
   "cell_type": "code",
   "execution_count": 37,
   "metadata": {
    "execution": {
     "iopub.execute_input": "2021-09-25T21:14:28.153590Z",
     "iopub.status.busy": "2021-09-25T21:14:28.152867Z",
     "iopub.status.idle": "2021-09-25T21:15:09.063065Z",
     "shell.execute_reply": "2021-09-25T21:15:09.063625Z",
     "shell.execute_reply.started": "2021-09-25T21:12:00.977614Z"
    },
    "papermill": {
     "duration": 40.993183,
     "end_time": "2021-09-25T21:15:09.063781",
     "exception": false,
     "start_time": "2021-09-25T21:14:28.070598",
     "status": "completed"
    },
    "tags": []
   },
   "outputs": [
    {
     "name": "stderr",
     "output_type": "stream",
     "text": [
      "/opt/conda/lib/python3.7/site-packages/sklearn/model_selection/_search.py:282: UserWarning: The total space of parameters 5 is smaller than n_iter=10. Running 5 iterations. For exhaustive searches, use GridSearchCV.\n",
      "  % (grid_size, self.n_iter, grid_size), UserWarning)\n"
     ]
    },
    {
     "name": "stdout",
     "output_type": "stream",
     "text": [
      "Logistic Regression\n",
      "LogisticRegression(solver='newton-cg')\n",
      "0.9622721320582516\n",
      "{'solver': 'newton-cg'}\n",
      "\n",
      "******************************************************************************************************************\n",
      "\n",
      "Random Forest\n",
      "RandomForestClassifier(max_depth=10, min_samples_split=25, n_estimators=700)\n",
      "0.9694038596351996\n",
      "{'n_estimators': 700, 'min_samples_split': 25, 'max_depth': 10, 'criterion': 'gini'}\n",
      "\n",
      "******************************************************************************************************************\n",
      "\n",
      "Gradient Boosting Classifier\n",
      "XGBClassifier(base_score=0.5, booster='gbtree', colsample_bylevel=1,\n",
      "              colsample_bynode=1, colsample_bytree=0.4, gamma=0.3, gpu_id=-1,\n",
      "              importance_type='gain', interaction_constraints='',\n",
      "              learning_rate=0.2, max_delta_step=0, max_depth=5,\n",
      "              min_child_weight=1, missing=nan, monotone_constraints='()',\n",
      "              n_estimators=200, n_jobs=0, num_parallel_tree=1, random_state=0,\n",
      "              reg_alpha=0, reg_lambda=1, scale_pos_weight=1, subsample=1,\n",
      "              tree_method='exact', validate_parameters=1, verbosity=None)\n",
      "0.9723934235413939\n",
      "{'n_estimators': 200, 'min_child_weight': 1, 'max_depth': 5, 'learning_rate': 0.2, 'gamma': 0.3, 'colsample_bytree': 0.4}\n",
      "\n",
      "******************************************************************************************************************\n",
      "\n"
     ]
    },
    {
     "name": "stderr",
     "output_type": "stream",
     "text": [
      "/opt/conda/lib/python3.7/site-packages/sklearn/model_selection/_search.py:282: UserWarning: The total space of parameters 2 is smaller than n_iter=10. Running 2 iterations. For exhaustive searches, use GridSearchCV.\n",
      "  % (grid_size, self.n_iter, grid_size), UserWarning)\n"
     ]
    },
    {
     "name": "stdout",
     "output_type": "stream",
     "text": [
      "KNN\n",
      "KNeighborsClassifier(n_neighbors=3)\n",
      "0.9705535494623229\n",
      "{'n_neighbors': 3}\n",
      "\n",
      "******************************************************************************************************************\n",
      "\n",
      "Decision Tree\n",
      "DecisionTreeClassifier(max_depth=20, min_samples_split=25)\n",
      "0.9680229620517705\n",
      "{'min_samples_split': 25, 'max_depth': 20, 'criterion': 'gini'}\n",
      "\n",
      "******************************************************************************************************************\n",
      "\n",
      "Naive Bayes\n",
      "GaussianNB()\n",
      "0.7777778659577\n",
      "{}\n",
      "\n",
      "******************************************************************************************************************\n",
      "\n"
     ]
    },
    {
     "name": "stderr",
     "output_type": "stream",
     "text": [
      "/opt/conda/lib/python3.7/site-packages/sklearn/model_selection/_search.py:282: UserWarning: The total space of parameters 1 is smaller than n_iter=10. Running 1 iterations. For exhaustive searches, use GridSearchCV.\n",
      "  % (grid_size, self.n_iter, grid_size), UserWarning)\n",
      "/opt/conda/lib/python3.7/site-packages/sklearn/model_selection/_search.py:282: UserWarning: The total space of parameters 4 is smaller than n_iter=10. Running 4 iterations. For exhaustive searches, use GridSearchCV.\n",
      "  % (grid_size, self.n_iter, grid_size), UserWarning)\n"
     ]
    },
    {
     "name": "stdout",
     "output_type": "stream",
     "text": [
      "Support Vector Machines\n",
      "SVC(kernel='poly')\n",
      "0.9723934235413939\n",
      "{'kernel': 'poly'}\n",
      "\n",
      "******************************************************************************************************************\n",
      "\n",
      "CPU times: user 4.52 s, sys: 147 ms, total: 4.67 s\n",
      "Wall time: 40.9 s\n"
     ]
    }
   ],
   "source": [
    "%%time\n",
    "\n",
    "from sklearn.model_selection import GridSearchCV # grid search CV was taking hours to calculate all the combinations\n",
    "from sklearn.model_selection import RandomizedSearchCV\n",
    "\n",
    "for model_idx in range(len(models)):\n",
    "#     classifier = GridSearchCV(estimator = models[model_idx], param_grid = parameters[model_idx], n_jobs=-1)\n",
    "   \n",
    "    classifier = RandomizedSearchCV(estimator = models[model_idx], param_distributions = parameters[model_idx], random_state=0, n_jobs=-1)\n",
    "    classifier.fit(x_train, y_train)\n",
    "    \n",
    "    print(model_names[model_idx])\n",
    "    print(classifier.best_estimator_)\n",
    "    print(classifier.best_score_)\n",
    "    print(classifier.best_params_)\n",
    "    print(\"\\n******************************************************************************************************************\\n\")\n"
   ]
  },
  {
   "cell_type": "markdown",
   "metadata": {
    "papermill": {
     "duration": 0.073281,
     "end_time": "2021-09-25T21:15:09.210164",
     "exception": false,
     "start_time": "2021-09-25T21:15:09.136883",
     "status": "completed"
    },
    "tags": []
   },
   "source": [
    "##### Observations: XGBoostClassifier is giving the best output with hyper-parameter tuning"
   ]
  },
  {
   "cell_type": "code",
   "execution_count": 38,
   "metadata": {
    "execution": {
     "iopub.execute_input": "2021-09-25T21:15:09.367814Z",
     "iopub.status.busy": "2021-09-25T21:15:09.366737Z",
     "iopub.status.idle": "2021-09-25T21:15:09.566871Z",
     "shell.execute_reply": "2021-09-25T21:15:09.567579Z",
     "shell.execute_reply.started": "2021-09-25T21:12:36.055991Z"
    },
    "papermill": {
     "duration": 0.28403,
     "end_time": "2021-09-25T21:15:09.567749",
     "exception": false,
     "start_time": "2021-09-25T21:15:09.283719",
     "status": "completed"
    },
    "tags": []
   },
   "outputs": [
    {
     "data": {
      "text/plain": [
       "97.51609935602575"
      ]
     },
     "execution_count": 38,
     "metadata": {},
     "output_type": "execute_result"
    }
   ],
   "source": [
    "# choosing the final model\n",
    "\n",
    "classifier = XGBClassifier(base_score=0.5, booster='gbtree', colsample_bylevel=1,\n",
    "              colsample_bynode=1, colsample_bytree=0.4, gamma=0.3, gpu_id=-1,\n",
    "              importance_type='gain', interaction_constraints='',\n",
    "              learning_rate=0.2, max_delta_step=0, max_depth=5,\n",
    "              min_child_weight=1, missing=np.nan, monotone_constraints='()',\n",
    "              n_estimators=200, n_jobs=0, num_parallel_tree=1, random_state=0,\n",
    "              reg_alpha=0, reg_lambda=1, scale_pos_weight=1, subsample=1,\n",
    "              tree_method='exact', validate_parameters=1, verbosity=None)\n",
    "\n",
    "classifier.fit(x_train, y_train)\n",
    "y_pred = classifier.predict(x_test)\n",
    "classifier.score(x_test, y_test)*100"
   ]
  },
  {
   "cell_type": "code",
   "execution_count": 39,
   "metadata": {
    "execution": {
     "iopub.execute_input": "2021-09-25T21:15:09.760566Z",
     "iopub.status.busy": "2021-09-25T21:15:09.759470Z",
     "iopub.status.idle": "2021-09-25T21:15:09.770171Z",
     "shell.execute_reply": "2021-09-25T21:15:09.769573Z",
     "shell.execute_reply.started": "2021-09-25T21:12:36.559450Z"
    },
    "papermill": {
     "duration": 0.109418,
     "end_time": "2021-09-25T21:15:09.770286",
     "exception": false,
     "start_time": "2021-09-25T21:15:09.660868",
     "status": "completed"
    },
    "tags": []
   },
   "outputs": [
    {
     "name": "stdout",
     "output_type": "stream",
     "text": [
      "              precision    recall  f1-score   support\n",
      "\n",
      "           0       0.93      0.95      0.94       210\n",
      "           1       0.99      0.98      0.98       877\n",
      "\n",
      "    accuracy                           0.98      1087\n",
      "   macro avg       0.96      0.96      0.96      1087\n",
      "weighted avg       0.98      0.98      0.98      1087\n",
      "\n"
     ]
    }
   ],
   "source": [
    "from sklearn.metrics import classification_report\n",
    "print(classification_report(y_test, y_pred))"
   ]
  },
  {
   "cell_type": "markdown",
   "metadata": {
    "papermill": {
     "duration": 0.072367,
     "end_time": "2021-09-25T21:15:09.915597",
     "exception": false,
     "start_time": "2021-09-25T21:15:09.843230",
     "status": "completed"
    },
    "tags": []
   },
   "source": [
    "#### [plot decision regions for more than 2 features](https://stackoverflow.com/questions/52952310/plot-decision-regions-with-error-filler-values-must-be-provided-when-x-has-more)"
   ]
  },
  {
   "cell_type": "code",
   "execution_count": 40,
   "metadata": {
    "execution": {
     "iopub.execute_input": "2021-09-25T21:15:10.071062Z",
     "iopub.status.busy": "2021-09-25T21:15:10.070162Z",
     "iopub.status.idle": "2021-09-25T21:15:11.444695Z",
     "shell.execute_reply": "2021-09-25T21:15:11.444158Z",
     "shell.execute_reply.started": "2021-09-25T21:13:31.030830Z"
    },
    "papermill": {
     "duration": 1.456147,
     "end_time": "2021-09-25T21:15:11.444820",
     "exception": false,
     "start_time": "2021-09-25T21:15:09.988673",
     "status": "completed"
    },
    "tags": []
   },
   "outputs": [
    {
     "data": {
      "text/plain": [
       "Text(0.5, 1.0, 'Classification boundary')"
      ]
     },
     "execution_count": 40,
     "metadata": {},
     "output_type": "execute_result"
    },
    {
     "data": {
      "image/png": "[encoded data removed]",
      "text/plain": [
       "<Figure size 1440x576 with 1 Axes>"
      ]
     },
     "metadata": {
      "needs_background": "light"
     },
     "output_type": "display_data"
    }
   ],
   "source": [
    "plt.figure(figsize=(20,8))\n",
    "# decomposing using pca and plotting classification boundary\n",
    "from sklearn.decomposition import PCA\n",
    "from mlxtend.plotting import plot_decision_regions\n",
    "\n",
    "pca = PCA(n_components = 2)\n",
    "x_train_pca = pca.fit_transform(x_train)\n",
    "classifier.fit(x_train_pca, y_train)\n",
    "plot_decision_regions(x_train_pca, y_train.to_numpy(), clf=classifier, legend=2)\n",
    "\n",
    "plt.title('Classification boundary', size=16)"
   ]
  },
  {
   "cell_type": "code",
   "execution_count": null,
   "metadata": {
    "papermill": {
     "duration": 0.074386,
     "end_time": "2021-09-25T21:15:11.594116",
     "exception": false,
     "start_time": "2021-09-25T21:15:11.519730",
     "status": "completed"
    },
    "tags": []
   },
   "outputs": [],
   "source": []
  }
 ],
 "metadata": {
  "kernelspec": {
   "display_name": "Python 3",
   "language": "python",
   "name": "python3"
  },
  "language_info": {
   "codemirror_mode": {
    "name": "ipython",
    "version": 3
   },
   "file_extension": ".py",
   "mimetype": "text/x-python",
   "name": "python",
   "nbconvert_exporter": "python",
   "pygments_lexer": "ipython3",
   "version": "3.7.6"
  },
  "papermill": {
   "duration": 68.515646,
   "end_time": "2021-09-25T21:15:11.786785",
   "environment_variables": {},
   "exception": null,
   "input_path": "__notebook__.ipynb",
   "output_path": "__notebook__.ipynb",
   "parameters": {},
   "start_time": "2021-09-25T21:14:03.271139",
   "version": "2.1.0"
  }
 },
 "nbformat": 4,
 "nbformat_minor": 4
}
